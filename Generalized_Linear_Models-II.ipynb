{
 "cells": [
  {
   "cell_type": "markdown",
   "metadata": {},
   "source": [
    "# Generalized Linear Models\n",
    "\n",
    "Using **h2o**\n",
    "\n",
    "Models being applied:\n",
    "\n",
    "- GLM Binomial\n",
    "- GLM Multi-nomial\n",
    "- GLM Poisson aka count \n",
    "- GLM Gamma\n",
    "- GLM Tweedie\n"
   ]
  },
  {
   "cell_type": "markdown",
   "metadata": {},
   "source": [
    "# 1)- Importing key libraries "
   ]
  },
  {
   "cell_type": "code",
   "execution_count": 1,
   "metadata": {},
   "outputs": [],
   "source": [
    "#support both Python 2 and Python 3 with minimal overhead.\n",
    "from __future__ import absolute_import, division, print_function"
   ]
  },
  {
   "cell_type": "code",
   "execution_count": 2,
   "metadata": {},
   "outputs": [],
   "source": [
    "# I am an engineer. I care only about error not warning. So, let's be maverick and ignore warnings.\n",
    "import warnings\n",
    "warnings.filterwarnings('ignore')"
   ]
  },
  {
   "cell_type": "code",
   "execution_count": 3,
   "metadata": {},
   "outputs": [
    {
     "data": {
      "text/html": [
       "<style>body {\n",
       "    margin: 0;\n",
       "    font-family: Helvetica;\n",
       "}\n",
       "table.dataframe {\n",
       "    border-collapse: collapse;\n",
       "    border: none;\n",
       "}\n",
       "table.dataframe tr {\n",
       "    border: none;\n",
       "}\n",
       "table.dataframe td, table.dataframe th {\n",
       "    margin: 0;\n",
       "    border: 1px solid white;\n",
       "    padding-left: 0.25em;\n",
       "    padding-right: 0.25em;\n",
       "}\n",
       "table.dataframe th:not(:empty) {\n",
       "    background-color: #fec;\n",
       "    text-align: left;\n",
       "    font-weight: normal;\n",
       "}\n",
       "table.dataframe tr:nth-child(2) th:empty {\n",
       "    border-left: none;\n",
       "    border-right: 1px dashed #888;\n",
       "}\n",
       "table.dataframe td {\n",
       "    border: 2px solid #ccf;\n",
       "    background-color: #f4f4ff;\n",
       "}\n",
       "h3 {\n",
       "    color: white;\n",
       "    background-color: black;\n",
       "    padding: 0.5em;\n",
       "}\n",
       "</style>"
      ],
      "text/plain": [
       "<IPython.core.display.HTML object>"
      ]
     },
     "execution_count": 3,
     "metadata": {},
     "output_type": "execute_result"
    }
   ],
   "source": [
    "# What's life without style :). So, let's add style to our dataframes\n",
    "from IPython.core.display import HTML\n",
    "css = open('style-table.css').read() + open('style-notebook.css').read()\n",
    "HTML('<style>{}</style>'.format(css))"
   ]
  },
  {
   "cell_type": "code",
   "execution_count": 4,
   "metadata": {},
   "outputs": [],
   "source": [
    "import pandas as pd\n",
    "import numpy as np\n",
    "import h2o\n",
    "import statsmodels.api as sm\n",
    "import statsmodels.formula.api as smf\n",
    "from scipy import stats\n",
    "import sys\n",
    "import matplotlib.pyplot as plt\n",
    "import seaborn as sns\n",
    "%matplotlib inline"
   ]
  },
  {
   "cell_type": "code",
   "execution_count": 5,
   "metadata": {},
   "outputs": [
    {
     "data": {
      "application/json": {
       "Software versions": [
        {
         "module": "Python",
         "version": "3.6.5 64bit [MSC v.1900 64 bit (AMD64)]"
        },
        {
         "module": "IPython",
         "version": "6.4.0"
        },
        {
         "module": "OS",
         "version": "Windows 10 10.0.18362 SP0"
        },
        {
         "module": "pandas",
         "version": "0.24.1"
        },
        {
         "module": "numpy",
         "version": "1.16.0"
        },
        {
         "module": "seaborn",
         "version": "0.9.0"
        },
        {
         "module": "matplotlib",
         "version": "3.0.2"
        },
        {
         "module": "sys",
         "version": "The 'sys' distribution was not found and is required by the application"
        },
        {
         "module": "h2o",
         "version": "3.26.0.3"
        }
       ]
      },
      "text/html": [
       "<table><tr><th>Software</th><th>Version</th></tr><tr><td>Python</td><td>3.6.5 64bit [MSC v.1900 64 bit (AMD64)]</td></tr><tr><td>IPython</td><td>6.4.0</td></tr><tr><td>OS</td><td>Windows 10 10.0.18362 SP0</td></tr><tr><td>pandas</td><td>0.24.1</td></tr><tr><td>numpy</td><td>1.16.0</td></tr><tr><td>seaborn</td><td>0.9.0</td></tr><tr><td>matplotlib</td><td>3.0.2</td></tr><tr><td>sys</td><td>The 'sys' distribution was not found and is required by the application</td></tr><tr><td>h2o</td><td>3.26.0.3</td></tr><tr><td colspan='2'>Sun Aug 25 16:40:29 2019 W. Europe Daylight Time</td></tr></table>"
      ],
      "text/latex": [
       "\\begin{tabular}{|l|l|}\\hline\n",
       "{\\bf Software} & {\\bf Version} \\\\ \\hline\\hline\n",
       "Python & 3.6.5 64bit [MSC v.1900 64 bit (AMD64)] \\\\ \\hline\n",
       "IPython & 6.4.0 \\\\ \\hline\n",
       "OS & Windows 10 10.0.18362 SP0 \\\\ \\hline\n",
       "pandas & 0.24.1 \\\\ \\hline\n",
       "numpy & 1.16.0 \\\\ \\hline\n",
       "seaborn & 0.9.0 \\\\ \\hline\n",
       "matplotlib & 3.0.2 \\\\ \\hline\n",
       "sys & The 'sys' distribution was not found and is required by the application \\\\ \\hline\n",
       "h2o & 3.26.0.3 \\\\ \\hline\n",
       "\\hline \\multicolumn{2}{|l|}{Sun Aug 25 16:40:29 2019 W. Europe Daylight Time} \\\\ \\hline\n",
       "\\end{tabular}\n"
      ],
      "text/plain": [
       "Software versions\n",
       "Python 3.6.5 64bit [MSC v.1900 64 bit (AMD64)]\n",
       "IPython 6.4.0\n",
       "OS Windows 10 10.0.18362 SP0\n",
       "pandas 0.24.1\n",
       "numpy 1.16.0\n",
       "seaborn 0.9.0\n",
       "matplotlib 3.0.2\n",
       "sys The 'sys' distribution was not found and is required by the application\n",
       "h2o 3.26.0.3\n",
       "Sun Aug 25 16:40:29 2019 W. Europe Daylight Time"
      ]
     },
     "execution_count": 5,
     "metadata": {},
     "output_type": "execute_result"
    }
   ],
   "source": [
    "# first install: pip install version_information\n",
    "%reload_ext version_information\n",
    "%version_information pandas, numpy, seaborn, matplotlib, sys,h2o"
   ]
  },
  {
   "cell_type": "markdown",
   "metadata": {},
   "source": [
    "# 2)- Initiate h2o"
   ]
  },
  {
   "cell_type": "code",
   "execution_count": 7,
   "metadata": {},
   "outputs": [
    {
     "name": "stdout",
     "output_type": "stream",
     "text": [
      "Checking whether there is an H2O instance running at http://localhost:54321 ..... not found.\n",
      "Attempting to start a local H2O server...\n",
      "; Java HotSpot(TM) 64-Bit Server VM (build 25.201-b09, mixed mode)\n",
      "  Starting server from C:\\Users\\Hassan\\Anaconda3\\lib\\site-packages\\h2o\\backend\\bin\\h2o.jar\n",
      "  Ice root: C:\\Users\\Hassan\\AppData\\Local\\Temp\\tmpjhpem3l0\n",
      "  JVM stdout: C:\\Users\\Hassan\\AppData\\Local\\Temp\\tmpjhpem3l0\\h2o_Hassan_started_from_python.out\n",
      "  JVM stderr: C:\\Users\\Hassan\\AppData\\Local\\Temp\\tmpjhpem3l0\\h2o_Hassan_started_from_python.err\n",
      "  Server is running at http://127.0.0.1:54321\n",
      "Connecting to H2O server at http://127.0.0.1:54321 ... successful.\n"
     ]
    },
    {
     "data": {
      "text/html": [
       "<div style=\"overflow:auto\"><table style=\"width:50%\"><tr><td>H2O cluster uptime:</td>\n",
       "<td>01 secs</td></tr>\n",
       "<tr><td>H2O cluster timezone:</td>\n",
       "<td>Europe/Berlin</td></tr>\n",
       "<tr><td>H2O data parsing timezone:</td>\n",
       "<td>UTC</td></tr>\n",
       "<tr><td>H2O cluster version:</td>\n",
       "<td>3.26.0.3</td></tr>\n",
       "<tr><td>H2O cluster version age:</td>\n",
       "<td>1 day </td></tr>\n",
       "<tr><td>H2O cluster name:</td>\n",
       "<td>H2O_from_python_Hassan_7qq43r</td></tr>\n",
       "<tr><td>H2O cluster total nodes:</td>\n",
       "<td>1</td></tr>\n",
       "<tr><td>H2O cluster free memory:</td>\n",
       "<td>3.542 Gb</td></tr>\n",
       "<tr><td>H2O cluster total cores:</td>\n",
       "<td>8</td></tr>\n",
       "<tr><td>H2O cluster allowed cores:</td>\n",
       "<td>8</td></tr>\n",
       "<tr><td>H2O cluster status:</td>\n",
       "<td>accepting new members, healthy</td></tr>\n",
       "<tr><td>H2O connection url:</td>\n",
       "<td>http://127.0.0.1:54321</td></tr>\n",
       "<tr><td>H2O connection proxy:</td>\n",
       "<td>None</td></tr>\n",
       "<tr><td>H2O internal security:</td>\n",
       "<td>False</td></tr>\n",
       "<tr><td>H2O API Extensions:</td>\n",
       "<td>Amazon S3, Algos, AutoML, Core V3, Core V4</td></tr>\n",
       "<tr><td>Python version:</td>\n",
       "<td>3.6.5 final</td></tr></table></div>"
      ],
      "text/plain": [
       "--------------------------  ------------------------------------------\n",
       "H2O cluster uptime:         01 secs\n",
       "H2O cluster timezone:       Europe/Berlin\n",
       "H2O data parsing timezone:  UTC\n",
       "H2O cluster version:        3.26.0.3\n",
       "H2O cluster version age:    1 day\n",
       "H2O cluster name:           H2O_from_python_Hassan_7qq43r\n",
       "H2O cluster total nodes:    1\n",
       "H2O cluster free memory:    3.542 Gb\n",
       "H2O cluster total cores:    8\n",
       "H2O cluster allowed cores:  8\n",
       "H2O cluster status:         accepting new members, healthy\n",
       "H2O connection url:         http://127.0.0.1:54321\n",
       "H2O connection proxy:\n",
       "H2O internal security:      False\n",
       "H2O API Extensions:         Amazon S3, Algos, AutoML, Core V3, Core V4\n",
       "Python version:             3.6.5 final\n",
       "--------------------------  ------------------------------------------"
      ]
     },
     "metadata": {},
     "output_type": "display_data"
    }
   ],
   "source": [
    "h2o.init()\n",
    "from h2o.estimators.glm import H2OGeneralizedLinearEstimator"
   ]
  },
  {
   "cell_type": "markdown",
   "metadata": {},
   "source": [
    "# 3)- Loading data"
   ]
  },
  {
   "cell_type": "code",
   "execution_count": 8,
   "metadata": {},
   "outputs": [
    {
     "name": "stdout",
     "output_type": "stream",
     "text": [
      "Parse progress: |█████████████████████████████████████████████████████████| 100%\n"
     ]
    }
   ],
   "source": [
    "prostate = h2o.import_file(\"https://h2o-public-test-data.s3.amazonaws.com/smalldata/prostate/prostate.csv\")"
   ]
  },
  {
   "cell_type": "code",
   "execution_count": 9,
   "metadata": {},
   "outputs": [
    {
     "data": {
      "text/html": [
       "<table>\n",
       "<thead>\n",
       "<tr><th style=\"text-align: right;\">  ID</th><th style=\"text-align: right;\">  CAPSULE</th><th style=\"text-align: right;\">  AGE</th><th style=\"text-align: right;\">  RACE</th><th style=\"text-align: right;\">  DPROS</th><th style=\"text-align: right;\">  DCAPS</th><th style=\"text-align: right;\">  PSA</th><th style=\"text-align: right;\">  VOL</th><th style=\"text-align: right;\">  GLEASON</th></tr>\n",
       "</thead>\n",
       "<tbody>\n",
       "<tr><td style=\"text-align: right;\">   1</td><td style=\"text-align: right;\">        0</td><td style=\"text-align: right;\">   65</td><td style=\"text-align: right;\">     1</td><td style=\"text-align: right;\">      2</td><td style=\"text-align: right;\">      1</td><td style=\"text-align: right;\">  1.4</td><td style=\"text-align: right;\">  0  </td><td style=\"text-align: right;\">        6</td></tr>\n",
       "<tr><td style=\"text-align: right;\">   2</td><td style=\"text-align: right;\">        0</td><td style=\"text-align: right;\">   72</td><td style=\"text-align: right;\">     1</td><td style=\"text-align: right;\">      3</td><td style=\"text-align: right;\">      2</td><td style=\"text-align: right;\">  6.7</td><td style=\"text-align: right;\">  0  </td><td style=\"text-align: right;\">        7</td></tr>\n",
       "<tr><td style=\"text-align: right;\">   3</td><td style=\"text-align: right;\">        0</td><td style=\"text-align: right;\">   70</td><td style=\"text-align: right;\">     1</td><td style=\"text-align: right;\">      1</td><td style=\"text-align: right;\">      2</td><td style=\"text-align: right;\">  4.9</td><td style=\"text-align: right;\">  0  </td><td style=\"text-align: right;\">        6</td></tr>\n",
       "<tr><td style=\"text-align: right;\">   4</td><td style=\"text-align: right;\">        0</td><td style=\"text-align: right;\">   76</td><td style=\"text-align: right;\">     2</td><td style=\"text-align: right;\">      2</td><td style=\"text-align: right;\">      1</td><td style=\"text-align: right;\"> 51.2</td><td style=\"text-align: right;\"> 20  </td><td style=\"text-align: right;\">        7</td></tr>\n",
       "<tr><td style=\"text-align: right;\">   5</td><td style=\"text-align: right;\">        0</td><td style=\"text-align: right;\">   69</td><td style=\"text-align: right;\">     1</td><td style=\"text-align: right;\">      1</td><td style=\"text-align: right;\">      1</td><td style=\"text-align: right;\"> 12.3</td><td style=\"text-align: right;\"> 55.9</td><td style=\"text-align: right;\">        6</td></tr>\n",
       "<tr><td style=\"text-align: right;\">   6</td><td style=\"text-align: right;\">        1</td><td style=\"text-align: right;\">   71</td><td style=\"text-align: right;\">     1</td><td style=\"text-align: right;\">      3</td><td style=\"text-align: right;\">      2</td><td style=\"text-align: right;\">  3.3</td><td style=\"text-align: right;\">  0  </td><td style=\"text-align: right;\">        8</td></tr>\n",
       "<tr><td style=\"text-align: right;\">   7</td><td style=\"text-align: right;\">        0</td><td style=\"text-align: right;\">   68</td><td style=\"text-align: right;\">     2</td><td style=\"text-align: right;\">      4</td><td style=\"text-align: right;\">      2</td><td style=\"text-align: right;\"> 31.9</td><td style=\"text-align: right;\">  0  </td><td style=\"text-align: right;\">        7</td></tr>\n",
       "<tr><td style=\"text-align: right;\">   8</td><td style=\"text-align: right;\">        0</td><td style=\"text-align: right;\">   61</td><td style=\"text-align: right;\">     2</td><td style=\"text-align: right;\">      4</td><td style=\"text-align: right;\">      2</td><td style=\"text-align: right;\"> 66.7</td><td style=\"text-align: right;\"> 27.2</td><td style=\"text-align: right;\">        7</td></tr>\n",
       "<tr><td style=\"text-align: right;\">   9</td><td style=\"text-align: right;\">        0</td><td style=\"text-align: right;\">   69</td><td style=\"text-align: right;\">     1</td><td style=\"text-align: right;\">      1</td><td style=\"text-align: right;\">      1</td><td style=\"text-align: right;\">  3.9</td><td style=\"text-align: right;\"> 24  </td><td style=\"text-align: right;\">        7</td></tr>\n",
       "<tr><td style=\"text-align: right;\">  10</td><td style=\"text-align: right;\">        0</td><td style=\"text-align: right;\">   68</td><td style=\"text-align: right;\">     2</td><td style=\"text-align: right;\">      1</td><td style=\"text-align: right;\">      2</td><td style=\"text-align: right;\"> 13  </td><td style=\"text-align: right;\">  0  </td><td style=\"text-align: right;\">        6</td></tr>\n",
       "</tbody>\n",
       "</table>"
      ]
     },
     "metadata": {},
     "output_type": "display_data"
    },
    {
     "data": {
      "text/plain": []
     },
     "execution_count": 9,
     "metadata": {},
     "output_type": "execute_result"
    }
   ],
   "source": [
    "prostate.head()"
   ]
  },
  {
   "cell_type": "code",
   "execution_count": 10,
   "metadata": {},
   "outputs": [
    {
     "data": {
      "text/plain": [
       "(380, 9)"
      ]
     },
     "execution_count": 10,
     "metadata": {},
     "output_type": "execute_result"
    }
   ],
   "source": [
    "prostate.shape"
   ]
  },
  {
   "cell_type": "code",
   "execution_count": 11,
   "metadata": {},
   "outputs": [
    {
     "data": {
      "text/plain": [
       "h2o.frame.H2OFrame"
      ]
     },
     "execution_count": 11,
     "metadata": {},
     "output_type": "execute_result"
    }
   ],
   "source": [
    "type(prostate)"
   ]
  },
  {
   "cell_type": "code",
   "execution_count": null,
   "metadata": {},
   "outputs": [],
   "source": [
    "prostate.summary()"
   ]
  },
  {
   "cell_type": "markdown",
   "metadata": {},
   "source": [
    "# 4)- Model building\n",
    "\n",
    "- **binomial**"
   ]
  },
  {
   "cell_type": "markdown",
   "metadata": {},
   "source": [
    "### 4.1)- Selecting key features"
   ]
  },
  {
   "cell_type": "code",
   "execution_count": 12,
   "metadata": {},
   "outputs": [],
   "source": [
    "# converting normal dataframe to H2OFrame..........ONLY FOR NUMERICAL FEATURES\n",
    "prostate['CAPSULE'] = prostate['CAPSULE'].asfactor()"
   ]
  },
  {
   "cell_type": "code",
   "execution_count": 13,
   "metadata": {},
   "outputs": [
    {
     "data": {
      "text/html": [
       "<table>\n",
       "<thead>\n",
       "<tr><th>       </th><th>ID                </th><th>CAPSULE  </th><th>AGE              </th><th>RACE              </th><th>DPROS             </th><th>DCAPS             </th><th>PSA               </th><th>VOL               </th><th>GLEASON           </th></tr>\n",
       "</thead>\n",
       "<tbody>\n",
       "<tr><td>type   </td><td>int               </td><td>enum     </td><td>int              </td><td>int               </td><td>int               </td><td>int               </td><td>real              </td><td>real              </td><td>int               </td></tr>\n",
       "<tr><td>mins   </td><td>1.0               </td><td>         </td><td>43.0             </td><td>0.0               </td><td>1.0               </td><td>1.0               </td><td>0.3               </td><td>0.0               </td><td>0.0               </td></tr>\n",
       "<tr><td>mean   </td><td>190.5             </td><td>         </td><td>66.03947368421049</td><td>1.0868421052631572</td><td>2.2710526315789488</td><td>1.1078947368421048</td><td>15.408631578947375</td><td>15.812921052631573</td><td>6.3842105263157904</td></tr>\n",
       "<tr><td>maxs   </td><td>380.0             </td><td>         </td><td>79.0             </td><td>2.0               </td><td>4.0               </td><td>2.0               </td><td>139.7             </td><td>97.6              </td><td>9.0               </td></tr>\n",
       "<tr><td>sigma  </td><td>109.84079387914127</td><td>         </td><td>6.527071269173311</td><td>0.3087732580252793</td><td>1.0001076181502861</td><td>0.3106564493514939</td><td>19.99757266856046 </td><td>18.347619967271175</td><td>1.0919533744261092</td></tr>\n",
       "<tr><td>zeros  </td><td>0                 </td><td>         </td><td>0                </td><td>3                 </td><td>0                 </td><td>0                 </td><td>0                 </td><td>167               </td><td>2                 </td></tr>\n",
       "<tr><td>missing</td><td>0                 </td><td>0        </td><td>0                </td><td>0                 </td><td>0                 </td><td>0                 </td><td>0                 </td><td>0                 </td><td>0                 </td></tr>\n",
       "<tr><td>0      </td><td>1.0               </td><td>0        </td><td>65.0             </td><td>1.0               </td><td>2.0               </td><td>1.0               </td><td>1.4               </td><td>0.0               </td><td>6.0               </td></tr>\n",
       "<tr><td>1      </td><td>2.0               </td><td>0        </td><td>72.0             </td><td>1.0               </td><td>3.0               </td><td>2.0               </td><td>6.7               </td><td>0.0               </td><td>7.0               </td></tr>\n",
       "<tr><td>2      </td><td>3.0               </td><td>0        </td><td>70.0             </td><td>1.0               </td><td>1.0               </td><td>2.0               </td><td>4.9               </td><td>0.0               </td><td>6.0               </td></tr>\n",
       "<tr><td>3      </td><td>4.0               </td><td>0        </td><td>76.0             </td><td>2.0               </td><td>2.0               </td><td>1.0               </td><td>51.2              </td><td>20.0              </td><td>7.0               </td></tr>\n",
       "<tr><td>4      </td><td>5.0               </td><td>0        </td><td>69.0             </td><td>1.0               </td><td>1.0               </td><td>1.0               </td><td>12.3              </td><td>55.9              </td><td>6.0               </td></tr>\n",
       "<tr><td>5      </td><td>6.0               </td><td>1        </td><td>71.0             </td><td>1.0               </td><td>3.0               </td><td>2.0               </td><td>3.3               </td><td>0.0               </td><td>8.0               </td></tr>\n",
       "<tr><td>6      </td><td>7.0               </td><td>0        </td><td>68.0             </td><td>2.0               </td><td>4.0               </td><td>2.0               </td><td>31.9              </td><td>0.0               </td><td>7.0               </td></tr>\n",
       "<tr><td>7      </td><td>8.0               </td><td>0        </td><td>61.0             </td><td>2.0               </td><td>4.0               </td><td>2.0               </td><td>66.7              </td><td>27.2              </td><td>7.0               </td></tr>\n",
       "<tr><td>8      </td><td>9.0               </td><td>0        </td><td>69.0             </td><td>1.0               </td><td>1.0               </td><td>1.0               </td><td>3.9               </td><td>24.0              </td><td>7.0               </td></tr>\n",
       "<tr><td>9      </td><td>10.0              </td><td>0        </td><td>68.0             </td><td>2.0               </td><td>1.0               </td><td>2.0               </td><td>13.0              </td><td>0.0               </td><td>6.0               </td></tr>\n",
       "</tbody>\n",
       "</table>"
      ]
     },
     "metadata": {},
     "output_type": "display_data"
    }
   ],
   "source": [
    "prostate.summary()"
   ]
  },
  {
   "cell_type": "code",
   "execution_count": 14,
   "metadata": {},
   "outputs": [],
   "source": [
    "prostate['CAPSULE'] = prostate['CAPSULE'].asfactor()\n",
    "prostate['RACE'] = prostate['RACE'].asfactor()\n",
    "prostate['DCAPS'] = prostate['DCAPS'].asfactor()\n",
    "prostate['DPROS'] = prostate['DPROS'].asfactor()\n",
    "#prostate['VOL'] = prostate['VOL'].asfactor()# Only 'int' or 'string' are allowed for asfactor()"
   ]
  },
  {
   "cell_type": "code",
   "execution_count": 15,
   "metadata": {},
   "outputs": [
    {
     "data": {
      "text/html": [
       "<table>\n",
       "<thead>\n",
       "<tr><th>       </th><th>ID                </th><th>CAPSULE  </th><th>AGE              </th><th>RACE  </th><th>DPROS  </th><th>DCAPS  </th><th>PSA               </th><th>VOL               </th><th>GLEASON           </th></tr>\n",
       "</thead>\n",
       "<tbody>\n",
       "<tr><td>type   </td><td>int               </td><td>enum     </td><td>int              </td><td>enum  </td><td>enum   </td><td>enum   </td><td>real              </td><td>real              </td><td>int               </td></tr>\n",
       "<tr><td>mins   </td><td>1.0               </td><td>         </td><td>43.0             </td><td>      </td><td>       </td><td>       </td><td>0.3               </td><td>0.0               </td><td>0.0               </td></tr>\n",
       "<tr><td>mean   </td><td>190.5             </td><td>         </td><td>66.03947368421049</td><td>      </td><td>       </td><td>       </td><td>15.408631578947375</td><td>15.812921052631573</td><td>6.3842105263157904</td></tr>\n",
       "<tr><td>maxs   </td><td>380.0             </td><td>         </td><td>79.0             </td><td>      </td><td>       </td><td>       </td><td>139.7             </td><td>97.6              </td><td>9.0               </td></tr>\n",
       "<tr><td>sigma  </td><td>109.84079387914127</td><td>         </td><td>6.527071269173311</td><td>      </td><td>       </td><td>       </td><td>19.99757266856046 </td><td>18.347619967271175</td><td>1.0919533744261092</td></tr>\n",
       "<tr><td>zeros  </td><td>0                 </td><td>         </td><td>0                </td><td>      </td><td>       </td><td>       </td><td>0                 </td><td>167               </td><td>2                 </td></tr>\n",
       "<tr><td>missing</td><td>0                 </td><td>0        </td><td>0                </td><td>0     </td><td>0      </td><td>0      </td><td>0                 </td><td>0                 </td><td>0                 </td></tr>\n",
       "<tr><td>0      </td><td>1.0               </td><td>0        </td><td>65.0             </td><td>1     </td><td>2      </td><td>1      </td><td>1.4               </td><td>0.0               </td><td>6.0               </td></tr>\n",
       "<tr><td>1      </td><td>2.0               </td><td>0        </td><td>72.0             </td><td>1     </td><td>3      </td><td>2      </td><td>6.7               </td><td>0.0               </td><td>7.0               </td></tr>\n",
       "<tr><td>2      </td><td>3.0               </td><td>0        </td><td>70.0             </td><td>1     </td><td>1      </td><td>2      </td><td>4.9               </td><td>0.0               </td><td>6.0               </td></tr>\n",
       "<tr><td>3      </td><td>4.0               </td><td>0        </td><td>76.0             </td><td>2     </td><td>2      </td><td>1      </td><td>51.2              </td><td>20.0              </td><td>7.0               </td></tr>\n",
       "<tr><td>4      </td><td>5.0               </td><td>0        </td><td>69.0             </td><td>1     </td><td>1      </td><td>1      </td><td>12.3              </td><td>55.9              </td><td>6.0               </td></tr>\n",
       "<tr><td>5      </td><td>6.0               </td><td>1        </td><td>71.0             </td><td>1     </td><td>3      </td><td>2      </td><td>3.3               </td><td>0.0               </td><td>8.0               </td></tr>\n",
       "<tr><td>6      </td><td>7.0               </td><td>0        </td><td>68.0             </td><td>2     </td><td>4      </td><td>2      </td><td>31.9              </td><td>0.0               </td><td>7.0               </td></tr>\n",
       "<tr><td>7      </td><td>8.0               </td><td>0        </td><td>61.0             </td><td>2     </td><td>4      </td><td>2      </td><td>66.7              </td><td>27.2              </td><td>7.0               </td></tr>\n",
       "<tr><td>8      </td><td>9.0               </td><td>0        </td><td>69.0             </td><td>1     </td><td>1      </td><td>1      </td><td>3.9               </td><td>24.0              </td><td>7.0               </td></tr>\n",
       "<tr><td>9      </td><td>10.0              </td><td>0        </td><td>68.0             </td><td>2     </td><td>1      </td><td>2      </td><td>13.0              </td><td>0.0               </td><td>6.0               </td></tr>\n",
       "</tbody>\n",
       "</table>"
      ]
     },
     "metadata": {},
     "output_type": "display_data"
    }
   ],
   "source": [
    "prostate.summary()"
   ]
  },
  {
   "cell_type": "code",
   "execution_count": 16,
   "metadata": {},
   "outputs": [
    {
     "data": {
      "text/plain": [
       "h2o.frame.H2OFrame"
      ]
     },
     "execution_count": 16,
     "metadata": {},
     "output_type": "execute_result"
    }
   ],
   "source": [
    "type(prostate)"
   ]
  },
  {
   "cell_type": "markdown",
   "metadata": {},
   "source": [
    "### 4.2)- Splitting into predictor and response features"
   ]
  },
  {
   "cell_type": "code",
   "execution_count": 17,
   "metadata": {},
   "outputs": [],
   "source": [
    "predictors = [\"AGE\", \"RACE\", \"VOL\", \"GLEASON\"]\n",
    "response_col = \"CAPSULE\""
   ]
  },
  {
   "cell_type": "markdown",
   "metadata": {},
   "source": [
    "### 4.3)- Training model\n",
    "\n",
    "We will take care of multi-colinearity at an initial stage"
   ]
  },
  {
   "cell_type": "code",
   "execution_count": 18,
   "metadata": {},
   "outputs": [
    {
     "name": "stdout",
     "output_type": "stream",
     "text": [
      "glm Model Build progress: |███████████████████████████████████████████████| 100%\n"
     ]
    }
   ],
   "source": [
    "glm_model = H2OGeneralizedLinearEstimator(family= \"binomial\",lambda_ = 0, remove_collinear_columns= True,compute_p_values=True)\n",
    "glm_model.train(predictors, response_col, training_frame= prostate)"
   ]
  },
  {
   "cell_type": "code",
   "execution_count": 19,
   "metadata": {},
   "outputs": [
    {
     "name": "stdout",
     "output_type": "stream",
     "text": [
      "Model Details\n",
      "=============\n",
      "H2OGeneralizedLinearEstimator :  Generalized Linear Modeling\n",
      "Model Key:  GLM_model_python_1566744124179_1\n",
      "\n",
      "\n",
      "GLM Model: summary\n"
     ]
    },
    {
     "data": {
      "text/html": [
       "<div>\n",
       "<style scoped>\n",
       "    .dataframe tbody tr th:only-of-type {\n",
       "        vertical-align: middle;\n",
       "    }\n",
       "\n",
       "    .dataframe tbody tr th {\n",
       "        vertical-align: top;\n",
       "    }\n",
       "\n",
       "    .dataframe thead th {\n",
       "        text-align: right;\n",
       "    }\n",
       "</style>\n",
       "<table border=\"1\" class=\"dataframe\">\n",
       "  <thead>\n",
       "    <tr style=\"text-align: right;\">\n",
       "      <th></th>\n",
       "      <th></th>\n",
       "      <th>family</th>\n",
       "      <th>link</th>\n",
       "      <th>regularization</th>\n",
       "      <th>number_of_predictors_total</th>\n",
       "      <th>number_of_active_predictors</th>\n",
       "      <th>number_of_iterations</th>\n",
       "      <th>training_frame</th>\n",
       "    </tr>\n",
       "  </thead>\n",
       "  <tbody>\n",
       "    <tr>\n",
       "      <th>0</th>\n",
       "      <td></td>\n",
       "      <td>binomial</td>\n",
       "      <td>logit</td>\n",
       "      <td>None</td>\n",
       "      <td>5</td>\n",
       "      <td>5</td>\n",
       "      <td>4</td>\n",
       "      <td>py_6_sid_9a7e</td>\n",
       "    </tr>\n",
       "  </tbody>\n",
       "</table>\n",
       "</div>"
      ],
      "text/plain": [
       "       family   link regularization  number_of_predictors_total  \\\n",
       "0    binomial  logit           None                           5   \n",
       "\n",
       "  number_of_active_predictors  number_of_iterations training_frame  \n",
       "0                           5                     4  py_6_sid_9a7e  "
      ]
     },
     "metadata": {},
     "output_type": "display_data"
    },
    {
     "name": "stdout",
     "output_type": "stream",
     "text": [
      "\n",
      "\n",
      "ModelMetricsBinomialGLM: glm\n",
      "** Reported on train data. **\n",
      "\n",
      "MSE: 0.18215831942350072\n",
      "RMSE: 0.4268000930453281\n",
      "LogLoss: 0.5406879877388552\n",
      "Null degrees of freedom: 379\n",
      "Residual degrees of freedom: 374\n",
      "Null deviance: 512.2888401848891\n",
      "Residual deviance: 410.9228706815299\n",
      "AIC: 422.9228706815299\n",
      "AUC: 0.7857533615502001\n",
      "pr_auc: 0.7158310818344481\n",
      "Gini: 0.5715067231004003\n",
      "\n",
      "Confusion Matrix (Act/Pred) for max f1 @ threshold = 0.3263180019526919: "
     ]
    },
    {
     "data": {
      "text/html": [
       "<div>\n",
       "<style scoped>\n",
       "    .dataframe tbody tr th:only-of-type {\n",
       "        vertical-align: middle;\n",
       "    }\n",
       "\n",
       "    .dataframe tbody tr th {\n",
       "        vertical-align: top;\n",
       "    }\n",
       "\n",
       "    .dataframe thead th {\n",
       "        text-align: right;\n",
       "    }\n",
       "</style>\n",
       "<table border=\"1\" class=\"dataframe\">\n",
       "  <thead>\n",
       "    <tr style=\"text-align: right;\">\n",
       "      <th></th>\n",
       "      <th></th>\n",
       "      <th>0</th>\n",
       "      <th>1</th>\n",
       "      <th>Error</th>\n",
       "      <th>Rate</th>\n",
       "    </tr>\n",
       "  </thead>\n",
       "  <tbody>\n",
       "    <tr>\n",
       "      <th>0</th>\n",
       "      <td>0</td>\n",
       "      <td>148.0</td>\n",
       "      <td>79.0</td>\n",
       "      <td>0.348</td>\n",
       "      <td>(79.0/227.0)</td>\n",
       "    </tr>\n",
       "    <tr>\n",
       "      <th>1</th>\n",
       "      <td>1</td>\n",
       "      <td>32.0</td>\n",
       "      <td>121.0</td>\n",
       "      <td>0.2092</td>\n",
       "      <td>(32.0/153.0)</td>\n",
       "    </tr>\n",
       "    <tr>\n",
       "      <th>2</th>\n",
       "      <td>Total</td>\n",
       "      <td>180.0</td>\n",
       "      <td>200.0</td>\n",
       "      <td>0.2921</td>\n",
       "      <td>(111.0/380.0)</td>\n",
       "    </tr>\n",
       "  </tbody>\n",
       "</table>\n",
       "</div>"
      ],
      "text/plain": [
       "              0      1   Error            Rate\n",
       "0      0  148.0   79.0   0.348    (79.0/227.0)\n",
       "1      1   32.0  121.0  0.2092    (32.0/153.0)\n",
       "2  Total  180.0  200.0  0.2921   (111.0/380.0)"
      ]
     },
     "metadata": {},
     "output_type": "display_data"
    },
    {
     "name": "stdout",
     "output_type": "stream",
     "text": [
      "\n",
      "Maximum Metrics: Maximum metrics at their respective thresholds\n"
     ]
    },
    {
     "data": {
      "text/html": [
       "<div>\n",
       "<style scoped>\n",
       "    .dataframe tbody tr th:only-of-type {\n",
       "        vertical-align: middle;\n",
       "    }\n",
       "\n",
       "    .dataframe tbody tr th {\n",
       "        vertical-align: top;\n",
       "    }\n",
       "\n",
       "    .dataframe thead th {\n",
       "        text-align: right;\n",
       "    }\n",
       "</style>\n",
       "<table border=\"1\" class=\"dataframe\">\n",
       "  <thead>\n",
       "    <tr style=\"text-align: right;\">\n",
       "      <th></th>\n",
       "      <th>metric</th>\n",
       "      <th>threshold</th>\n",
       "      <th>value</th>\n",
       "      <th>idx</th>\n",
       "    </tr>\n",
       "  </thead>\n",
       "  <tbody>\n",
       "    <tr>\n",
       "      <th>0</th>\n",
       "      <td>max f1</td>\n",
       "      <td>0.326318</td>\n",
       "      <td>0.685552</td>\n",
       "      <td>143.0</td>\n",
       "    </tr>\n",
       "    <tr>\n",
       "      <th>1</th>\n",
       "      <td>max f2</td>\n",
       "      <td>0.199660</td>\n",
       "      <td>0.803279</td>\n",
       "      <td>230.0</td>\n",
       "    </tr>\n",
       "    <tr>\n",
       "      <th>2</th>\n",
       "      <td>max f0point5</td>\n",
       "      <td>0.546868</td>\n",
       "      <td>0.673813</td>\n",
       "      <td>86.0</td>\n",
       "    </tr>\n",
       "    <tr>\n",
       "      <th>3</th>\n",
       "      <td>max accuracy</td>\n",
       "      <td>0.477010</td>\n",
       "      <td>0.736842</td>\n",
       "      <td>120.0</td>\n",
       "    </tr>\n",
       "    <tr>\n",
       "      <th>4</th>\n",
       "      <td>max precision</td>\n",
       "      <td>0.964240</td>\n",
       "      <td>1.000000</td>\n",
       "      <td>0.0</td>\n",
       "    </tr>\n",
       "    <tr>\n",
       "      <th>5</th>\n",
       "      <td>max recall</td>\n",
       "      <td>0.081948</td>\n",
       "      <td>1.000000</td>\n",
       "      <td>282.0</td>\n",
       "    </tr>\n",
       "    <tr>\n",
       "      <th>6</th>\n",
       "      <td>max specificity</td>\n",
       "      <td>0.964240</td>\n",
       "      <td>1.000000</td>\n",
       "      <td>0.0</td>\n",
       "    </tr>\n",
       "    <tr>\n",
       "      <th>7</th>\n",
       "      <td>max absolute_mcc</td>\n",
       "      <td>0.477010</td>\n",
       "      <td>0.456656</td>\n",
       "      <td>120.0</td>\n",
       "    </tr>\n",
       "    <tr>\n",
       "      <th>8</th>\n",
       "      <td>max min_per_class_accuracy</td>\n",
       "      <td>0.370958</td>\n",
       "      <td>0.713656</td>\n",
       "      <td>134.0</td>\n",
       "    </tr>\n",
       "    <tr>\n",
       "      <th>9</th>\n",
       "      <td>max mean_per_class_accuracy</td>\n",
       "      <td>0.477010</td>\n",
       "      <td>0.729665</td>\n",
       "      <td>120.0</td>\n",
       "    </tr>\n",
       "  </tbody>\n",
       "</table>\n",
       "</div>"
      ],
      "text/plain": [
       "                        metric  threshold     value    idx\n",
       "0                       max f1   0.326318  0.685552  143.0\n",
       "1                       max f2   0.199660  0.803279  230.0\n",
       "2                 max f0point5   0.546868  0.673813   86.0\n",
       "3                 max accuracy   0.477010  0.736842  120.0\n",
       "4                max precision   0.964240  1.000000    0.0\n",
       "5                   max recall   0.081948  1.000000  282.0\n",
       "6              max specificity   0.964240  1.000000    0.0\n",
       "7             max absolute_mcc   0.477010  0.456656  120.0\n",
       "8   max min_per_class_accuracy   0.370958  0.713656  134.0\n",
       "9  max mean_per_class_accuracy   0.477010  0.729665  120.0"
      ]
     },
     "metadata": {},
     "output_type": "display_data"
    },
    {
     "name": "stdout",
     "output_type": "stream",
     "text": [
      "\n",
      "Gains/Lift Table: Avg response rate: 40.26 %, avg score: 40.26 %\n"
     ]
    },
    {
     "data": {
      "text/html": [
       "<div>\n",
       "<style scoped>\n",
       "    .dataframe tbody tr th:only-of-type {\n",
       "        vertical-align: middle;\n",
       "    }\n",
       "\n",
       "    .dataframe tbody tr th {\n",
       "        vertical-align: top;\n",
       "    }\n",
       "\n",
       "    .dataframe thead th {\n",
       "        text-align: right;\n",
       "    }\n",
       "</style>\n",
       "<table border=\"1\" class=\"dataframe\">\n",
       "  <thead>\n",
       "    <tr style=\"text-align: right;\">\n",
       "      <th></th>\n",
       "      <th></th>\n",
       "      <th>group</th>\n",
       "      <th>cumulative_data_fraction</th>\n",
       "      <th>lower_threshold</th>\n",
       "      <th>lift</th>\n",
       "      <th>cumulative_lift</th>\n",
       "      <th>response_rate</th>\n",
       "      <th>score</th>\n",
       "      <th>cumulative_response_rate</th>\n",
       "      <th>cumulative_score</th>\n",
       "      <th>capture_rate</th>\n",
       "      <th>cumulative_capture_rate</th>\n",
       "      <th>gain</th>\n",
       "      <th>cumulative_gain</th>\n",
       "    </tr>\n",
       "  </thead>\n",
       "  <tbody>\n",
       "    <tr>\n",
       "      <th>0</th>\n",
       "      <td></td>\n",
       "      <td>1</td>\n",
       "      <td>0.010526</td>\n",
       "      <td>0.945562</td>\n",
       "      <td>2.483660</td>\n",
       "      <td>2.483660</td>\n",
       "      <td>1.000000</td>\n",
       "      <td>0.956018</td>\n",
       "      <td>1.000000</td>\n",
       "      <td>0.956018</td>\n",
       "      <td>0.026144</td>\n",
       "      <td>0.026144</td>\n",
       "      <td>148.366013</td>\n",
       "      <td>148.366013</td>\n",
       "    </tr>\n",
       "    <tr>\n",
       "      <th>1</th>\n",
       "      <td></td>\n",
       "      <td>2</td>\n",
       "      <td>0.021053</td>\n",
       "      <td>0.929459</td>\n",
       "      <td>2.483660</td>\n",
       "      <td>2.483660</td>\n",
       "      <td>1.000000</td>\n",
       "      <td>0.934626</td>\n",
       "      <td>1.000000</td>\n",
       "      <td>0.945322</td>\n",
       "      <td>0.026144</td>\n",
       "      <td>0.052288</td>\n",
       "      <td>148.366013</td>\n",
       "      <td>148.366013</td>\n",
       "    </tr>\n",
       "    <tr>\n",
       "      <th>2</th>\n",
       "      <td></td>\n",
       "      <td>3</td>\n",
       "      <td>0.031579</td>\n",
       "      <td>0.915213</td>\n",
       "      <td>1.862745</td>\n",
       "      <td>2.276688</td>\n",
       "      <td>0.750000</td>\n",
       "      <td>0.922497</td>\n",
       "      <td>0.916667</td>\n",
       "      <td>0.937714</td>\n",
       "      <td>0.019608</td>\n",
       "      <td>0.071895</td>\n",
       "      <td>86.274510</td>\n",
       "      <td>127.668845</td>\n",
       "    </tr>\n",
       "    <tr>\n",
       "      <th>3</th>\n",
       "      <td></td>\n",
       "      <td>4</td>\n",
       "      <td>0.042105</td>\n",
       "      <td>0.849528</td>\n",
       "      <td>2.483660</td>\n",
       "      <td>2.328431</td>\n",
       "      <td>1.000000</td>\n",
       "      <td>0.870899</td>\n",
       "      <td>0.937500</td>\n",
       "      <td>0.921010</td>\n",
       "      <td>0.026144</td>\n",
       "      <td>0.098039</td>\n",
       "      <td>148.366013</td>\n",
       "      <td>132.843137</td>\n",
       "    </tr>\n",
       "    <tr>\n",
       "      <th>4</th>\n",
       "      <td></td>\n",
       "      <td>5</td>\n",
       "      <td>0.050000</td>\n",
       "      <td>0.845594</td>\n",
       "      <td>2.483660</td>\n",
       "      <td>2.352941</td>\n",
       "      <td>1.000000</td>\n",
       "      <td>0.846093</td>\n",
       "      <td>0.947368</td>\n",
       "      <td>0.909181</td>\n",
       "      <td>0.019608</td>\n",
       "      <td>0.117647</td>\n",
       "      <td>148.366013</td>\n",
       "      <td>135.294118</td>\n",
       "    </tr>\n",
       "    <tr>\n",
       "      <th>5</th>\n",
       "      <td></td>\n",
       "      <td>6</td>\n",
       "      <td>0.100000</td>\n",
       "      <td>0.772739</td>\n",
       "      <td>1.960784</td>\n",
       "      <td>2.156863</td>\n",
       "      <td>0.789474</td>\n",
       "      <td>0.824918</td>\n",
       "      <td>0.868421</td>\n",
       "      <td>0.867050</td>\n",
       "      <td>0.098039</td>\n",
       "      <td>0.215686</td>\n",
       "      <td>96.078431</td>\n",
       "      <td>115.686275</td>\n",
       "    </tr>\n",
       "    <tr>\n",
       "      <th>6</th>\n",
       "      <td></td>\n",
       "      <td>7</td>\n",
       "      <td>0.152632</td>\n",
       "      <td>0.632594</td>\n",
       "      <td>1.862745</td>\n",
       "      <td>2.055443</td>\n",
       "      <td>0.750000</td>\n",
       "      <td>0.668554</td>\n",
       "      <td>0.827586</td>\n",
       "      <td>0.798603</td>\n",
       "      <td>0.098039</td>\n",
       "      <td>0.313725</td>\n",
       "      <td>86.274510</td>\n",
       "      <td>105.544287</td>\n",
       "    </tr>\n",
       "    <tr>\n",
       "      <th>7</th>\n",
       "      <td></td>\n",
       "      <td>8</td>\n",
       "      <td>0.205263</td>\n",
       "      <td>0.603038</td>\n",
       "      <td>1.241830</td>\n",
       "      <td>1.846824</td>\n",
       "      <td>0.500000</td>\n",
       "      <td>0.614660</td>\n",
       "      <td>0.743590</td>\n",
       "      <td>0.751438</td>\n",
       "      <td>0.065359</td>\n",
       "      <td>0.379085</td>\n",
       "      <td>24.183007</td>\n",
       "      <td>84.682420</td>\n",
       "    </tr>\n",
       "    <tr>\n",
       "      <th>8</th>\n",
       "      <td></td>\n",
       "      <td>9</td>\n",
       "      <td>0.300000</td>\n",
       "      <td>0.564301</td>\n",
       "      <td>1.586783</td>\n",
       "      <td>1.764706</td>\n",
       "      <td>0.638889</td>\n",
       "      <td>0.583517</td>\n",
       "      <td>0.710526</td>\n",
       "      <td>0.698411</td>\n",
       "      <td>0.150327</td>\n",
       "      <td>0.529412</td>\n",
       "      <td>58.678286</td>\n",
       "      <td>76.470588</td>\n",
       "    </tr>\n",
       "    <tr>\n",
       "      <th>9</th>\n",
       "      <td></td>\n",
       "      <td>10</td>\n",
       "      <td>0.400000</td>\n",
       "      <td>0.490183</td>\n",
       "      <td>1.176471</td>\n",
       "      <td>1.617647</td>\n",
       "      <td>0.473684</td>\n",
       "      <td>0.530552</td>\n",
       "      <td>0.651316</td>\n",
       "      <td>0.656446</td>\n",
       "      <td>0.117647</td>\n",
       "      <td>0.647059</td>\n",
       "      <td>17.647059</td>\n",
       "      <td>61.764706</td>\n",
       "    </tr>\n",
       "    <tr>\n",
       "      <th>10</th>\n",
       "      <td></td>\n",
       "      <td>11</td>\n",
       "      <td>0.502632</td>\n",
       "      <td>0.330263</td>\n",
       "      <td>1.082621</td>\n",
       "      <td>1.508401</td>\n",
       "      <td>0.435897</td>\n",
       "      <td>0.402068</td>\n",
       "      <td>0.607330</td>\n",
       "      <td>0.604505</td>\n",
       "      <td>0.111111</td>\n",
       "      <td>0.758170</td>\n",
       "      <td>8.262108</td>\n",
       "      <td>50.840092</td>\n",
       "    </tr>\n",
       "    <tr>\n",
       "      <th>11</th>\n",
       "      <td></td>\n",
       "      <td>12</td>\n",
       "      <td>0.600000</td>\n",
       "      <td>0.290151</td>\n",
       "      <td>0.805511</td>\n",
       "      <td>1.394336</td>\n",
       "      <td>0.324324</td>\n",
       "      <td>0.310676</td>\n",
       "      <td>0.561404</td>\n",
       "      <td>0.556822</td>\n",
       "      <td>0.078431</td>\n",
       "      <td>0.836601</td>\n",
       "      <td>-19.448861</td>\n",
       "      <td>39.433551</td>\n",
       "    </tr>\n",
       "    <tr>\n",
       "      <th>12</th>\n",
       "      <td></td>\n",
       "      <td>13</td>\n",
       "      <td>0.700000</td>\n",
       "      <td>0.252884</td>\n",
       "      <td>0.588235</td>\n",
       "      <td>1.279178</td>\n",
       "      <td>0.236842</td>\n",
       "      <td>0.270034</td>\n",
       "      <td>0.515038</td>\n",
       "      <td>0.515852</td>\n",
       "      <td>0.058824</td>\n",
       "      <td>0.895425</td>\n",
       "      <td>-41.176471</td>\n",
       "      <td>27.917834</td>\n",
       "    </tr>\n",
       "    <tr>\n",
       "      <th>13</th>\n",
       "      <td></td>\n",
       "      <td>14</td>\n",
       "      <td>0.800000</td>\n",
       "      <td>0.196834</td>\n",
       "      <td>0.653595</td>\n",
       "      <td>1.200980</td>\n",
       "      <td>0.263158</td>\n",
       "      <td>0.225383</td>\n",
       "      <td>0.483553</td>\n",
       "      <td>0.479544</td>\n",
       "      <td>0.065359</td>\n",
       "      <td>0.960784</td>\n",
       "      <td>-34.640523</td>\n",
       "      <td>20.098039</td>\n",
       "    </tr>\n",
       "    <tr>\n",
       "      <th>14</th>\n",
       "      <td></td>\n",
       "      <td>15</td>\n",
       "      <td>0.900000</td>\n",
       "      <td>0.093684</td>\n",
       "      <td>0.065359</td>\n",
       "      <td>1.074800</td>\n",
       "      <td>0.026316</td>\n",
       "      <td>0.121911</td>\n",
       "      <td>0.432749</td>\n",
       "      <td>0.439807</td>\n",
       "      <td>0.006536</td>\n",
       "      <td>0.967320</td>\n",
       "      <td>-93.464052</td>\n",
       "      <td>7.480029</td>\n",
       "    </tr>\n",
       "    <tr>\n",
       "      <th>15</th>\n",
       "      <td></td>\n",
       "      <td>16</td>\n",
       "      <td>1.000000</td>\n",
       "      <td>0.000253</td>\n",
       "      <td>0.326797</td>\n",
       "      <td>1.000000</td>\n",
       "      <td>0.131579</td>\n",
       "      <td>0.068056</td>\n",
       "      <td>0.402632</td>\n",
       "      <td>0.402632</td>\n",
       "      <td>0.032680</td>\n",
       "      <td>1.000000</td>\n",
       "      <td>-67.320261</td>\n",
       "      <td>0.000000</td>\n",
       "    </tr>\n",
       "  </tbody>\n",
       "</table>\n",
       "</div>"
      ],
      "text/plain": [
       "      group  cumulative_data_fraction  lower_threshold      lift  \\\n",
       "0         1                  0.010526         0.945562  2.483660   \n",
       "1         2                  0.021053         0.929459  2.483660   \n",
       "2         3                  0.031579         0.915213  1.862745   \n",
       "3         4                  0.042105         0.849528  2.483660   \n",
       "4         5                  0.050000         0.845594  2.483660   \n",
       "5         6                  0.100000         0.772739  1.960784   \n",
       "6         7                  0.152632         0.632594  1.862745   \n",
       "7         8                  0.205263         0.603038  1.241830   \n",
       "8         9                  0.300000         0.564301  1.586783   \n",
       "9        10                  0.400000         0.490183  1.176471   \n",
       "10       11                  0.502632         0.330263  1.082621   \n",
       "11       12                  0.600000         0.290151  0.805511   \n",
       "12       13                  0.700000         0.252884  0.588235   \n",
       "13       14                  0.800000         0.196834  0.653595   \n",
       "14       15                  0.900000         0.093684  0.065359   \n",
       "15       16                  1.000000         0.000253  0.326797   \n",
       "\n",
       "    cumulative_lift  response_rate     score  cumulative_response_rate  \\\n",
       "0          2.483660       1.000000  0.956018                  1.000000   \n",
       "1          2.483660       1.000000  0.934626                  1.000000   \n",
       "2          2.276688       0.750000  0.922497                  0.916667   \n",
       "3          2.328431       1.000000  0.870899                  0.937500   \n",
       "4          2.352941       1.000000  0.846093                  0.947368   \n",
       "5          2.156863       0.789474  0.824918                  0.868421   \n",
       "6          2.055443       0.750000  0.668554                  0.827586   \n",
       "7          1.846824       0.500000  0.614660                  0.743590   \n",
       "8          1.764706       0.638889  0.583517                  0.710526   \n",
       "9          1.617647       0.473684  0.530552                  0.651316   \n",
       "10         1.508401       0.435897  0.402068                  0.607330   \n",
       "11         1.394336       0.324324  0.310676                  0.561404   \n",
       "12         1.279178       0.236842  0.270034                  0.515038   \n",
       "13         1.200980       0.263158  0.225383                  0.483553   \n",
       "14         1.074800       0.026316  0.121911                  0.432749   \n",
       "15         1.000000       0.131579  0.068056                  0.402632   \n",
       "\n",
       "    cumulative_score  capture_rate  cumulative_capture_rate        gain  \\\n",
       "0           0.956018      0.026144                 0.026144  148.366013   \n",
       "1           0.945322      0.026144                 0.052288  148.366013   \n",
       "2           0.937714      0.019608                 0.071895   86.274510   \n",
       "3           0.921010      0.026144                 0.098039  148.366013   \n",
       "4           0.909181      0.019608                 0.117647  148.366013   \n",
       "5           0.867050      0.098039                 0.215686   96.078431   \n",
       "6           0.798603      0.098039                 0.313725   86.274510   \n",
       "7           0.751438      0.065359                 0.379085   24.183007   \n",
       "8           0.698411      0.150327                 0.529412   58.678286   \n",
       "9           0.656446      0.117647                 0.647059   17.647059   \n",
       "10          0.604505      0.111111                 0.758170    8.262108   \n",
       "11          0.556822      0.078431                 0.836601  -19.448861   \n",
       "12          0.515852      0.058824                 0.895425  -41.176471   \n",
       "13          0.479544      0.065359                 0.960784  -34.640523   \n",
       "14          0.439807      0.006536                 0.967320  -93.464052   \n",
       "15          0.402632      0.032680                 1.000000  -67.320261   \n",
       "\n",
       "    cumulative_gain  \n",
       "0        148.366013  \n",
       "1        148.366013  \n",
       "2        127.668845  \n",
       "3        132.843137  \n",
       "4        135.294118  \n",
       "5        115.686275  \n",
       "6        105.544287  \n",
       "7         84.682420  \n",
       "8         76.470588  \n",
       "9         61.764706  \n",
       "10        50.840092  \n",
       "11        39.433551  \n",
       "12        27.917834  \n",
       "13        20.098039  \n",
       "14         7.480029  \n",
       "15         0.000000  "
      ]
     },
     "metadata": {},
     "output_type": "display_data"
    },
    {
     "name": "stdout",
     "output_type": "stream",
     "text": [
      "\n",
      "\n",
      "Scoring History: "
     ]
    },
    {
     "data": {
      "text/html": [
       "<div>\n",
       "<style scoped>\n",
       "    .dataframe tbody tr th:only-of-type {\n",
       "        vertical-align: middle;\n",
       "    }\n",
       "\n",
       "    .dataframe tbody tr th {\n",
       "        vertical-align: top;\n",
       "    }\n",
       "\n",
       "    .dataframe thead th {\n",
       "        text-align: right;\n",
       "    }\n",
       "</style>\n",
       "<table border=\"1\" class=\"dataframe\">\n",
       "  <thead>\n",
       "    <tr style=\"text-align: right;\">\n",
       "      <th></th>\n",
       "      <th></th>\n",
       "      <th>timestamp</th>\n",
       "      <th>duration</th>\n",
       "      <th>iterations</th>\n",
       "      <th>negative_log_likelihood</th>\n",
       "      <th>objective</th>\n",
       "    </tr>\n",
       "  </thead>\n",
       "  <tbody>\n",
       "    <tr>\n",
       "      <th>0</th>\n",
       "      <td></td>\n",
       "      <td>2019-08-25 16:43:17</td>\n",
       "      <td>0.000 sec</td>\n",
       "      <td>0</td>\n",
       "      <td>256.144420</td>\n",
       "      <td>0.674064</td>\n",
       "    </tr>\n",
       "    <tr>\n",
       "      <th>1</th>\n",
       "      <td></td>\n",
       "      <td>2019-08-25 16:43:17</td>\n",
       "      <td>0.016 sec</td>\n",
       "      <td>1</td>\n",
       "      <td>209.722375</td>\n",
       "      <td>0.551901</td>\n",
       "    </tr>\n",
       "    <tr>\n",
       "      <th>2</th>\n",
       "      <td></td>\n",
       "      <td>2019-08-25 16:43:17</td>\n",
       "      <td>0.016 sec</td>\n",
       "      <td>2</td>\n",
       "      <td>205.577602</td>\n",
       "      <td>0.540994</td>\n",
       "    </tr>\n",
       "    <tr>\n",
       "      <th>3</th>\n",
       "      <td></td>\n",
       "      <td>2019-08-25 16:43:17</td>\n",
       "      <td>0.016 sec</td>\n",
       "      <td>3</td>\n",
       "      <td>205.461575</td>\n",
       "      <td>0.540688</td>\n",
       "    </tr>\n",
       "    <tr>\n",
       "      <th>4</th>\n",
       "      <td></td>\n",
       "      <td>2019-08-25 16:43:17</td>\n",
       "      <td>0.016 sec</td>\n",
       "      <td>4</td>\n",
       "      <td>205.461435</td>\n",
       "      <td>0.540688</td>\n",
       "    </tr>\n",
       "  </tbody>\n",
       "</table>\n",
       "</div>"
      ],
      "text/plain": [
       "               timestamp    duration  iterations  negative_log_likelihood  \\\n",
       "0    2019-08-25 16:43:17   0.000 sec           0               256.144420   \n",
       "1    2019-08-25 16:43:17   0.016 sec           1               209.722375   \n",
       "2    2019-08-25 16:43:17   0.016 sec           2               205.577602   \n",
       "3    2019-08-25 16:43:17   0.016 sec           3               205.461575   \n",
       "4    2019-08-25 16:43:17   0.016 sec           4               205.461435   \n",
       "\n",
       "   objective  \n",
       "0   0.674064  \n",
       "1   0.551901  \n",
       "2   0.540994  \n",
       "3   0.540688  \n",
       "4   0.540688  "
      ]
     },
     "metadata": {},
     "output_type": "display_data"
    },
    {
     "name": "stdout",
     "output_type": "stream",
     "text": [
      "\n"
     ]
    }
   ],
   "source": [
    "print(glm_model)"
   ]
  },
  {
   "cell_type": "markdown",
   "metadata": {},
   "source": [
    "### 4.4)- Results"
   ]
  },
  {
   "cell_type": "code",
   "execution_count": 20,
   "metadata": {},
   "outputs": [
    {
     "name": "stdout",
     "output_type": "stream",
     "text": [
      "{'Intercept': -6.675155394082711, 'RACE.1': -0.442787516808813, 'RACE.2': -0.5899232636956414, 'AGE': -0.017888697161812357, 'VOL': -0.012783348665664449, 'GLEASON': 1.2503593867263172}\n"
     ]
    }
   ],
   "source": [
    "# Coefficients that can be applied to the non-standardized data.\n",
    "print(glm_model.coef())"
   ]
  },
  {
   "cell_type": "code",
   "execution_count": 21,
   "metadata": {},
   "outputs": [
    {
     "name": "stdout",
     "output_type": "stream",
     "text": [
      "{'Intercept': -0.07610006436753279, 'RACE.1': -0.442787516808813, 'RACE.2': -0.5899232636956414, 'AGE': -0.11676080128780758, 'VOL': -0.2345440232267344, 'GLEASON': 1.3653341515811626}\n"
     ]
    }
   ],
   "source": [
    "# Coefficients fitted on the standardized data (requires standardize = True, which is on by default)\n",
    "print(glm_model.coef_norm())"
   ]
  },
  {
   "cell_type": "code",
   "execution_count": 22,
   "metadata": {},
   "outputs": [
    {
     "name": "stdout",
     "output_type": "stream",
     "text": [
      "\n",
      "Coefficients: glm coefficients\n"
     ]
    },
    {
     "data": {
      "text/html": [
       "<div>\n",
       "<style scoped>\n",
       "    .dataframe tbody tr th:only-of-type {\n",
       "        vertical-align: middle;\n",
       "    }\n",
       "\n",
       "    .dataframe tbody tr th {\n",
       "        vertical-align: top;\n",
       "    }\n",
       "\n",
       "    .dataframe thead th {\n",
       "        text-align: right;\n",
       "    }\n",
       "</style>\n",
       "<table border=\"1\" class=\"dataframe\">\n",
       "  <thead>\n",
       "    <tr style=\"text-align: right;\">\n",
       "      <th></th>\n",
       "      <th>names</th>\n",
       "      <th>coefficients</th>\n",
       "      <th>std_error</th>\n",
       "      <th>z_value</th>\n",
       "      <th>p_value</th>\n",
       "      <th>standardized_coefficients</th>\n",
       "    </tr>\n",
       "  </thead>\n",
       "  <tbody>\n",
       "    <tr>\n",
       "      <th>0</th>\n",
       "      <td>Intercept</td>\n",
       "      <td>-6.675155</td>\n",
       "      <td>1.931760</td>\n",
       "      <td>-3.455478</td>\n",
       "      <td>5.493181e-04</td>\n",
       "      <td>-0.076100</td>\n",
       "    </tr>\n",
       "    <tr>\n",
       "      <th>1</th>\n",
       "      <td>RACE.1</td>\n",
       "      <td>-0.442788</td>\n",
       "      <td>1.324231</td>\n",
       "      <td>-0.334373</td>\n",
       "      <td>7.380978e-01</td>\n",
       "      <td>-0.442788</td>\n",
       "    </tr>\n",
       "    <tr>\n",
       "      <th>2</th>\n",
       "      <td>RACE.2</td>\n",
       "      <td>-0.589923</td>\n",
       "      <td>1.373466</td>\n",
       "      <td>-0.429514</td>\n",
       "      <td>6.675490e-01</td>\n",
       "      <td>-0.589923</td>\n",
       "    </tr>\n",
       "    <tr>\n",
       "      <th>3</th>\n",
       "      <td>AGE</td>\n",
       "      <td>-0.017889</td>\n",
       "      <td>0.018702</td>\n",
       "      <td>-0.956516</td>\n",
       "      <td>3.388116e-01</td>\n",
       "      <td>-0.116761</td>\n",
       "    </tr>\n",
       "    <tr>\n",
       "      <th>4</th>\n",
       "      <td>VOL</td>\n",
       "      <td>-0.012783</td>\n",
       "      <td>0.007514</td>\n",
       "      <td>-1.701191</td>\n",
       "      <td>8.890718e-02</td>\n",
       "      <td>-0.234544</td>\n",
       "    </tr>\n",
       "    <tr>\n",
       "      <th>5</th>\n",
       "      <td>GLEASON</td>\n",
       "      <td>1.250359</td>\n",
       "      <td>0.156156</td>\n",
       "      <td>8.007103</td>\n",
       "      <td>1.221245e-15</td>\n",
       "      <td>1.365334</td>\n",
       "    </tr>\n",
       "  </tbody>\n",
       "</table>\n",
       "</div>"
      ],
      "text/plain": [
       "       names  coefficients  std_error   z_value       p_value  \\\n",
       "0  Intercept     -6.675155   1.931760 -3.455478  5.493181e-04   \n",
       "1     RACE.1     -0.442788   1.324231 -0.334373  7.380978e-01   \n",
       "2     RACE.2     -0.589923   1.373466 -0.429514  6.675490e-01   \n",
       "3        AGE     -0.017889   0.018702 -0.956516  3.388116e-01   \n",
       "4        VOL     -0.012783   0.007514 -1.701191  8.890718e-02   \n",
       "5    GLEASON      1.250359   0.156156  8.007103  1.221245e-15   \n",
       "\n",
       "   standardized_coefficients  \n",
       "0                  -0.076100  \n",
       "1                  -0.442788  \n",
       "2                  -0.589923  \n",
       "3                  -0.116761  \n",
       "4                  -0.234544  \n",
       "5                   1.365334  "
      ]
     },
     "metadata": {},
     "output_type": "display_data"
    },
    {
     "data": {
      "text/plain": []
     },
     "execution_count": 22,
     "metadata": {},
     "output_type": "execute_result"
    }
   ],
   "source": [
    "# Print the Coefficients table\n",
    "glm_model._model_json['output']['coefficients_table']"
   ]
  },
  {
   "cell_type": "markdown",
   "metadata": {},
   "source": [
    "### 4.5)-Quantities of interest"
   ]
  },
  {
   "cell_type": "code",
   "execution_count": 23,
   "metadata": {},
   "outputs": [
    {
     "name": "stdout",
     "output_type": "stream",
     "text": [
      "[1.9317603626604154, 1.3242308316851048, 1.3734657932878145, 0.01870193337051069, 0.007514353657915353, 0.15615627100849927]\n"
     ]
    },
    {
     "data": {
      "text/plain": [
       "[1.9317603626604352,\n",
       " 1.3242308316851008,\n",
       " 1.3734657932878116,\n",
       " 0.01870193337051072,\n",
       " 0.007514353657915356,\n",
       " 0.15615627100850296]"
      ]
     },
     "execution_count": 23,
     "metadata": {},
     "output_type": "execute_result"
    }
   ],
   "source": [
    "# Print the Standard error\n",
    "print(glm_model._model_json['output']['coefficients_table']['std_error'])"
   ]
  },
  {
   "cell_type": "code",
   "execution_count": 24,
   "metadata": {},
   "outputs": [
    {
     "name": "stdout",
     "output_type": "stream",
     "text": [
      "[0.0005493180609458248, 0.7380978369202372, 0.6675489550762541, 0.33881164088847104, 0.08890718096586625, 1.2212453270876722e-15]\n"
     ]
    },
    {
     "data": {
      "text/plain": [
       "[0.0005493180609459358,\n",
       " 0.73809783692024,\n",
       " 0.6675489550762566,\n",
       " 0.33881164088847204,\n",
       " 0.0889071809658667,\n",
       " 1.2212453270876722e-15]"
      ]
     },
     "execution_count": 24,
     "metadata": {},
     "output_type": "execute_result"
    }
   ],
   "source": [
    "# Print the p values\n",
    "print(glm_model._model_json['output']['coefficients_table']['p_value'])"
   ]
  },
  {
   "cell_type": "code",
   "execution_count": 25,
   "metadata": {},
   "outputs": [
    {
     "name": "stdout",
     "output_type": "stream",
     "text": [
      "[-3.4554779791059094, -0.3343733631736688, -0.4295143472655973, -0.9565159284557903, -1.701190714147307, 8.007103260414452]\n"
     ]
    },
    {
     "data": {
      "text/plain": [
       "[-3.4554779791058787,\n",
       " -0.3343733631736653,\n",
       " -0.42951434726559384,\n",
       " -0.9565159284557886,\n",
       " -1.7011907141473064,\n",
       " 8.007103260414265]"
      ]
     },
     "execution_count": 25,
     "metadata": {},
     "output_type": "execute_result"
    }
   ],
   "source": [
    "# Print the z values\n",
    "print(glm_model._model_json['output']['coefficients_table']['z_value'])"
   ]
  },
  {
   "cell_type": "code",
   "execution_count": 29,
   "metadata": {
    "scrolled": true
   },
   "outputs": [
    {
     "name": "stderr",
     "output_type": "stream",
     "text": [
      "C:\\Users\\Hassan\\AppData\\Roaming\\Python\\Python36\\site-packages\\matplotlib\\cbook\\__init__.py:424: MatplotlibDeprecationWarning: \n",
      "Passing one of 'on', 'true', 'off', 'false' as a boolean is deprecated; use an actual boolean (True/False) instead.\n",
      "  warn_deprecated(\"2.2\", \"Passing one of 'on', 'true', 'off', 'false' as a \"\n",
      "C:\\Users\\Hassan\\AppData\\Roaming\\Python\\Python36\\site-packages\\matplotlib\\cbook\\__init__.py:424: MatplotlibDeprecationWarning: \n",
      "Passing one of 'on', 'true', 'off', 'false' as a boolean is deprecated; use an actual boolean (True/False) instead.\n",
      "  warn_deprecated(\"2.2\", \"Passing one of 'on', 'true', 'off', 'false' as a \"\n",
      "C:\\Users\\Hassan\\AppData\\Roaming\\Python\\Python36\\site-packages\\matplotlib\\cbook\\__init__.py:424: MatplotlibDeprecationWarning: \n",
      "Passing one of 'on', 'true', 'off', 'false' as a boolean is deprecated; use an actual boolean (True/False) instead.\n",
      "  warn_deprecated(\"2.2\", \"Passing one of 'on', 'true', 'off', 'false' as a \"\n"
     ]
    },
    {
     "data": {
      "image/png": "[encoded data removed]",
      "text/plain": [
       "<Figure size 1008x720 with 1 Axes>"
      ]
     },
     "metadata": {},
     "output_type": "display_data"
    }
   ],
   "source": [
    "# Retrieve a graphical plot of the standardized coefficient magnitudes\n",
    "glm_model.std_coef_plot()"
   ]
  },
  {
   "cell_type": "markdown",
   "metadata": {},
   "source": [
    "# 5)- Grid Search \n",
    "\n",
    "- Over Alpha\n",
    "- Over Lambda\n"
   ]
  },
  {
   "cell_type": "markdown",
   "metadata": {},
   "source": [
    "### 5a)- Grid Search over Alpha"
   ]
  },
  {
   "cell_type": "code",
   "execution_count": 34,
   "metadata": {},
   "outputs": [
    {
     "name": "stdout",
     "output_type": "stream",
     "text": [
      "glm Grid Build progress: |████████████████████████████████████████████████| 100%\n",
      "Model ID: Grid_GLM_py_6_sid_9a7e_model_python_1566744124179_3_model_1 auc:  0.7930811090956207\n",
      "\n",
      "GLM Model: summary\n"
     ]
    },
    {
     "data": {
      "text/html": [
       "<div>\n",
       "<style scoped>\n",
       "    .dataframe tbody tr th:only-of-type {\n",
       "        vertical-align: middle;\n",
       "    }\n",
       "\n",
       "    .dataframe tbody tr th {\n",
       "        vertical-align: top;\n",
       "    }\n",
       "\n",
       "    .dataframe thead th {\n",
       "        text-align: right;\n",
       "    }\n",
       "</style>\n",
       "<table border=\"1\" class=\"dataframe\">\n",
       "  <thead>\n",
       "    <tr style=\"text-align: right;\">\n",
       "      <th></th>\n",
       "      <th></th>\n",
       "      <th>family</th>\n",
       "      <th>link</th>\n",
       "      <th>regularization</th>\n",
       "      <th>number_of_predictors_total</th>\n",
       "      <th>number_of_active_predictors</th>\n",
       "      <th>number_of_iterations</th>\n",
       "      <th>training_frame</th>\n",
       "    </tr>\n",
       "  </thead>\n",
       "  <tbody>\n",
       "    <tr>\n",
       "      <th>0</th>\n",
       "      <td></td>\n",
       "      <td>binomial</td>\n",
       "      <td>logit</td>\n",
       "      <td>Ridge ( lambda = 2.222E-4 )</td>\n",
       "      <td>6</td>\n",
       "      <td>6</td>\n",
       "      <td>4</td>\n",
       "      <td>py_6_sid_9a7e</td>\n",
       "    </tr>\n",
       "  </tbody>\n",
       "</table>\n",
       "</div>"
      ],
      "text/plain": [
       "       family   link               regularization  number_of_predictors_total  \\\n",
       "0    binomial  logit  Ridge ( lambda = 2.222E-4 )                           6   \n",
       "\n",
       "  number_of_active_predictors  number_of_iterations training_frame  \n",
       "0                           6                     4  py_6_sid_9a7e  "
      ]
     },
     "metadata": {},
     "output_type": "display_data"
    },
    {
     "name": "stdout",
     "output_type": "stream",
     "text": [
      "\n",
      "\n",
      "\n",
      "\n",
      "Model ID: Grid_GLM_py_6_sid_9a7e_model_python_1566744124179_3_model_4 auc:  0.7931099018168207\n",
      "\n",
      "GLM Model: summary\n"
     ]
    },
    {
     "data": {
      "text/html": [
       "<div>\n",
       "<style scoped>\n",
       "    .dataframe tbody tr th:only-of-type {\n",
       "        vertical-align: middle;\n",
       "    }\n",
       "\n",
       "    .dataframe tbody tr th {\n",
       "        vertical-align: top;\n",
       "    }\n",
       "\n",
       "    .dataframe thead th {\n",
       "        text-align: right;\n",
       "    }\n",
       "</style>\n",
       "<table border=\"1\" class=\"dataframe\">\n",
       "  <thead>\n",
       "    <tr style=\"text-align: right;\">\n",
       "      <th></th>\n",
       "      <th></th>\n",
       "      <th>family</th>\n",
       "      <th>link</th>\n",
       "      <th>regularization</th>\n",
       "      <th>number_of_predictors_total</th>\n",
       "      <th>number_of_active_predictors</th>\n",
       "      <th>number_of_iterations</th>\n",
       "      <th>training_frame</th>\n",
       "    </tr>\n",
       "  </thead>\n",
       "  <tbody>\n",
       "    <tr>\n",
       "      <th>0</th>\n",
       "      <td></td>\n",
       "      <td>binomial</td>\n",
       "      <td>logit</td>\n",
       "      <td>Lasso (lambda = 2.222E-4 )</td>\n",
       "      <td>6</td>\n",
       "      <td>5</td>\n",
       "      <td>4</td>\n",
       "      <td>py_6_sid_9a7e</td>\n",
       "    </tr>\n",
       "  </tbody>\n",
       "</table>\n",
       "</div>"
      ],
      "text/plain": [
       "       family   link              regularization  number_of_predictors_total  \\\n",
       "0    binomial  logit  Lasso (lambda = 2.222E-4 )                           6   \n",
       "\n",
       "  number_of_active_predictors  number_of_iterations training_frame  \n",
       "0                           5                     4  py_6_sid_9a7e  "
      ]
     },
     "metadata": {},
     "output_type": "display_data"
    },
    {
     "name": "stdout",
     "output_type": "stream",
     "text": [
      "\n",
      "\n",
      "\n",
      "\n",
      "Model ID: Grid_GLM_py_6_sid_9a7e_model_python_1566744124179_3_model_3 auc:  0.7932538654228211\n",
      "\n",
      "GLM Model: summary\n"
     ]
    },
    {
     "data": {
      "text/html": [
       "<div>\n",
       "<style scoped>\n",
       "    .dataframe tbody tr th:only-of-type {\n",
       "        vertical-align: middle;\n",
       "    }\n",
       "\n",
       "    .dataframe tbody tr th {\n",
       "        vertical-align: top;\n",
       "    }\n",
       "\n",
       "    .dataframe thead th {\n",
       "        text-align: right;\n",
       "    }\n",
       "</style>\n",
       "<table border=\"1\" class=\"dataframe\">\n",
       "  <thead>\n",
       "    <tr style=\"text-align: right;\">\n",
       "      <th></th>\n",
       "      <th></th>\n",
       "      <th>family</th>\n",
       "      <th>link</th>\n",
       "      <th>regularization</th>\n",
       "      <th>number_of_predictors_total</th>\n",
       "      <th>number_of_active_predictors</th>\n",
       "      <th>number_of_iterations</th>\n",
       "      <th>training_frame</th>\n",
       "    </tr>\n",
       "  </thead>\n",
       "  <tbody>\n",
       "    <tr>\n",
       "      <th>0</th>\n",
       "      <td></td>\n",
       "      <td>binomial</td>\n",
       "      <td>logit</td>\n",
       "      <td>Elastic Net (alpha = 0.5, lambda = 4.445E-4 )</td>\n",
       "      <td>6</td>\n",
       "      <td>5</td>\n",
       "      <td>4</td>\n",
       "      <td>py_6_sid_9a7e</td>\n",
       "    </tr>\n",
       "  </tbody>\n",
       "</table>\n",
       "</div>"
      ],
      "text/plain": [
       "       family   link                                 regularization  \\\n",
       "0    binomial  logit  Elastic Net (alpha = 0.5, lambda = 4.445E-4 )   \n",
       "\n",
       "   number_of_predictors_total number_of_active_predictors  \\\n",
       "0                           6                           5   \n",
       "\n",
       "   number_of_iterations training_frame  \n",
       "0                     4  py_6_sid_9a7e  "
      ]
     },
     "metadata": {},
     "output_type": "display_data"
    },
    {
     "name": "stdout",
     "output_type": "stream",
     "text": [
      "\n",
      "\n",
      "\n",
      "\n",
      "Model ID: Grid_GLM_py_6_sid_9a7e_model_python_1566744124179_3_model_2 auc:  0.7933690363076215\n",
      "\n",
      "GLM Model: summary\n"
     ]
    },
    {
     "data": {
      "text/html": [
       "<div>\n",
       "<style scoped>\n",
       "    .dataframe tbody tr th:only-of-type {\n",
       "        vertical-align: middle;\n",
       "    }\n",
       "\n",
       "    .dataframe tbody tr th {\n",
       "        vertical-align: top;\n",
       "    }\n",
       "\n",
       "    .dataframe thead th {\n",
       "        text-align: right;\n",
       "    }\n",
       "</style>\n",
       "<table border=\"1\" class=\"dataframe\">\n",
       "  <thead>\n",
       "    <tr style=\"text-align: right;\">\n",
       "      <th></th>\n",
       "      <th></th>\n",
       "      <th>family</th>\n",
       "      <th>link</th>\n",
       "      <th>regularization</th>\n",
       "      <th>number_of_predictors_total</th>\n",
       "      <th>number_of_active_predictors</th>\n",
       "      <th>number_of_iterations</th>\n",
       "      <th>training_frame</th>\n",
       "    </tr>\n",
       "  </thead>\n",
       "  <tbody>\n",
       "    <tr>\n",
       "      <th>0</th>\n",
       "      <td></td>\n",
       "      <td>binomial</td>\n",
       "      <td>logit</td>\n",
       "      <td>Elastic Net (alpha = 0.25, lambda = 8.89E-4 )</td>\n",
       "      <td>6</td>\n",
       "      <td>5</td>\n",
       "      <td>4</td>\n",
       "      <td>py_6_sid_9a7e</td>\n",
       "    </tr>\n",
       "  </tbody>\n",
       "</table>\n",
       "</div>"
      ],
      "text/plain": [
       "       family   link                                 regularization  \\\n",
       "0    binomial  logit  Elastic Net (alpha = 0.25, lambda = 8.89E-4 )   \n",
       "\n",
       "   number_of_predictors_total number_of_active_predictors  \\\n",
       "0                           6                           5   \n",
       "\n",
       "   number_of_iterations training_frame  \n",
       "0                     4  py_6_sid_9a7e  "
      ]
     },
     "metadata": {},
     "output_type": "display_data"
    },
    {
     "name": "stdout",
     "output_type": "stream",
     "text": [
      "\n",
      "\n",
      "\n",
      "\n"
     ]
    }
   ],
   "source": [
    "from h2o.grid.grid_search import H2OGridSearch\n",
    "alpha_opts = [0.0, 0.25, 0.5, 1.0]\n",
    "hyper_parameters = {\"alpha\":alpha_opts} \n",
    "grid = H2OGridSearch(H2OGeneralizedLinearEstimator( family=\"binomial\"), hyper_params = hyper_parameters)\n",
    "grid.train(y = \"CAPSULE\", x = [\"AGE\", \"RACE\", \"PSA\", \"GLEASON\"], training_frame = prostate) \n",
    "for m in grid: \n",
    "    print (\"Model ID: \" + m.model_id + \" auc: \" , m.auc ())\n",
    "    print (m.summary()) \n",
    "    print (\"\\n\\n\")"
   ]
  },
  {
   "cell_type": "markdown",
   "metadata": {},
   "source": [
    "### 5b)- Grid Search over Lambda"
   ]
  },
  {
   "cell_type": "code",
   "execution_count": 35,
   "metadata": {},
   "outputs": [
    {
     "name": "stdout",
     "output_type": "stream",
     "text": [
      "glm Grid Build progress: |████████████████████████████████████████████████| 100%\n",
      "Model ID: Grid_GLM_py_6_sid_9a7e_model_python_1566744124179_8_model_8  auc: 0.7931099018168207\n",
      "\n",
      "GLM Model: summary\n"
     ]
    },
    {
     "data": {
      "text/html": [
       "<div>\n",
       "<style scoped>\n",
       "    .dataframe tbody tr th:only-of-type {\n",
       "        vertical-align: middle;\n",
       "    }\n",
       "\n",
       "    .dataframe tbody tr th {\n",
       "        vertical-align: top;\n",
       "    }\n",
       "\n",
       "    .dataframe thead th {\n",
       "        text-align: right;\n",
       "    }\n",
       "</style>\n",
       "<table border=\"1\" class=\"dataframe\">\n",
       "  <thead>\n",
       "    <tr style=\"text-align: right;\">\n",
       "      <th></th>\n",
       "      <th></th>\n",
       "      <th>family</th>\n",
       "      <th>link</th>\n",
       "      <th>regularization</th>\n",
       "      <th>number_of_predictors_total</th>\n",
       "      <th>number_of_active_predictors</th>\n",
       "      <th>number_of_iterations</th>\n",
       "      <th>training_frame</th>\n",
       "    </tr>\n",
       "  </thead>\n",
       "  <tbody>\n",
       "    <tr>\n",
       "      <th>0</th>\n",
       "      <td></td>\n",
       "      <td>binomial</td>\n",
       "      <td>logit</td>\n",
       "      <td>None</td>\n",
       "      <td>5</td>\n",
       "      <td>5</td>\n",
       "      <td>5</td>\n",
       "      <td>py_6_sid_9a7e</td>\n",
       "    </tr>\n",
       "  </tbody>\n",
       "</table>\n",
       "</div>"
      ],
      "text/plain": [
       "       family   link regularization  number_of_predictors_total  \\\n",
       "0    binomial  logit           None                           5   \n",
       "\n",
       "  number_of_active_predictors  number_of_iterations training_frame  \n",
       "0                           5                     5  py_6_sid_9a7e  "
      ]
     },
     "metadata": {},
     "output_type": "display_data"
    },
    {
     "name": "stdout",
     "output_type": "stream",
     "text": [
      "\n",
      "\n",
      "\n",
      "\n",
      "Model ID: Grid_GLM_py_6_sid_9a7e_model_python_1566744124179_8_model_7  auc: 0.7931099018168207\n",
      "\n",
      "GLM Model: summary\n"
     ]
    },
    {
     "data": {
      "text/html": [
       "<div>\n",
       "<style scoped>\n",
       "    .dataframe tbody tr th:only-of-type {\n",
       "        vertical-align: middle;\n",
       "    }\n",
       "\n",
       "    .dataframe tbody tr th {\n",
       "        vertical-align: top;\n",
       "    }\n",
       "\n",
       "    .dataframe thead th {\n",
       "        text-align: right;\n",
       "    }\n",
       "</style>\n",
       "<table border=\"1\" class=\"dataframe\">\n",
       "  <thead>\n",
       "    <tr style=\"text-align: right;\">\n",
       "      <th></th>\n",
       "      <th></th>\n",
       "      <th>family</th>\n",
       "      <th>link</th>\n",
       "      <th>regularization</th>\n",
       "      <th>number_of_predictors_total</th>\n",
       "      <th>number_of_active_predictors</th>\n",
       "      <th>number_of_iterations</th>\n",
       "      <th>training_frame</th>\n",
       "    </tr>\n",
       "  </thead>\n",
       "  <tbody>\n",
       "    <tr>\n",
       "      <th>0</th>\n",
       "      <td></td>\n",
       "      <td>binomial</td>\n",
       "      <td>logit</td>\n",
       "      <td>Elastic Net (alpha = 0.5, lambda = 1.0E-5 )</td>\n",
       "      <td>6</td>\n",
       "      <td>6</td>\n",
       "      <td>4</td>\n",
       "      <td>py_6_sid_9a7e</td>\n",
       "    </tr>\n",
       "  </tbody>\n",
       "</table>\n",
       "</div>"
      ],
      "text/plain": [
       "       family   link                               regularization  \\\n",
       "0    binomial  logit  Elastic Net (alpha = 0.5, lambda = 1.0E-5 )   \n",
       "\n",
       "   number_of_predictors_total number_of_active_predictors  \\\n",
       "0                           6                           6   \n",
       "\n",
       "   number_of_iterations training_frame  \n",
       "0                     4  py_6_sid_9a7e  "
      ]
     },
     "metadata": {},
     "output_type": "display_data"
    },
    {
     "name": "stdout",
     "output_type": "stream",
     "text": [
      "\n",
      "\n",
      "\n",
      "\n",
      "Model ID: Grid_GLM_py_6_sid_9a7e_model_python_1566744124179_8_model_6  auc: 0.7931099018168207\n",
      "\n",
      "GLM Model: summary\n"
     ]
    },
    {
     "data": {
      "text/html": [
       "<div>\n",
       "<style scoped>\n",
       "    .dataframe tbody tr th:only-of-type {\n",
       "        vertical-align: middle;\n",
       "    }\n",
       "\n",
       "    .dataframe tbody tr th {\n",
       "        vertical-align: top;\n",
       "    }\n",
       "\n",
       "    .dataframe thead th {\n",
       "        text-align: right;\n",
       "    }\n",
       "</style>\n",
       "<table border=\"1\" class=\"dataframe\">\n",
       "  <thead>\n",
       "    <tr style=\"text-align: right;\">\n",
       "      <th></th>\n",
       "      <th></th>\n",
       "      <th>family</th>\n",
       "      <th>link</th>\n",
       "      <th>regularization</th>\n",
       "      <th>number_of_predictors_total</th>\n",
       "      <th>number_of_active_predictors</th>\n",
       "      <th>number_of_iterations</th>\n",
       "      <th>training_frame</th>\n",
       "    </tr>\n",
       "  </thead>\n",
       "  <tbody>\n",
       "    <tr>\n",
       "      <th>0</th>\n",
       "      <td></td>\n",
       "      <td>binomial</td>\n",
       "      <td>logit</td>\n",
       "      <td>Elastic Net (alpha = 0.5, lambda = 1.0E-4 )</td>\n",
       "      <td>6</td>\n",
       "      <td>6</td>\n",
       "      <td>4</td>\n",
       "      <td>py_6_sid_9a7e</td>\n",
       "    </tr>\n",
       "  </tbody>\n",
       "</table>\n",
       "</div>"
      ],
      "text/plain": [
       "       family   link                               regularization  \\\n",
       "0    binomial  logit  Elastic Net (alpha = 0.5, lambda = 1.0E-4 )   \n",
       "\n",
       "   number_of_predictors_total number_of_active_predictors  \\\n",
       "0                           6                           6   \n",
       "\n",
       "   number_of_iterations training_frame  \n",
       "0                     4  py_6_sid_9a7e  "
      ]
     },
     "metadata": {},
     "output_type": "display_data"
    },
    {
     "name": "stdout",
     "output_type": "stream",
     "text": [
      "\n",
      "\n",
      "\n",
      "\n",
      "Model ID: Grid_GLM_py_6_sid_9a7e_model_python_1566744124179_8_model_5  auc: 0.7931674872592209\n",
      "\n",
      "GLM Model: summary\n"
     ]
    },
    {
     "data": {
      "text/html": [
       "<div>\n",
       "<style scoped>\n",
       "    .dataframe tbody tr th:only-of-type {\n",
       "        vertical-align: middle;\n",
       "    }\n",
       "\n",
       "    .dataframe tbody tr th {\n",
       "        vertical-align: top;\n",
       "    }\n",
       "\n",
       "    .dataframe thead th {\n",
       "        text-align: right;\n",
       "    }\n",
       "</style>\n",
       "<table border=\"1\" class=\"dataframe\">\n",
       "  <thead>\n",
       "    <tr style=\"text-align: right;\">\n",
       "      <th></th>\n",
       "      <th></th>\n",
       "      <th>family</th>\n",
       "      <th>link</th>\n",
       "      <th>regularization</th>\n",
       "      <th>number_of_predictors_total</th>\n",
       "      <th>number_of_active_predictors</th>\n",
       "      <th>number_of_iterations</th>\n",
       "      <th>training_frame</th>\n",
       "    </tr>\n",
       "  </thead>\n",
       "  <tbody>\n",
       "    <tr>\n",
       "      <th>0</th>\n",
       "      <td></td>\n",
       "      <td>binomial</td>\n",
       "      <td>logit</td>\n",
       "      <td>Elastic Net (alpha = 0.5, lambda = 0.001 )</td>\n",
       "      <td>6</td>\n",
       "      <td>5</td>\n",
       "      <td>4</td>\n",
       "      <td>py_6_sid_9a7e</td>\n",
       "    </tr>\n",
       "  </tbody>\n",
       "</table>\n",
       "</div>"
      ],
      "text/plain": [
       "       family   link                              regularization  \\\n",
       "0    binomial  logit  Elastic Net (alpha = 0.5, lambda = 0.001 )   \n",
       "\n",
       "   number_of_predictors_total number_of_active_predictors  \\\n",
       "0                           6                           5   \n",
       "\n",
       "   number_of_iterations training_frame  \n",
       "0                     4  py_6_sid_9a7e  "
      ]
     },
     "metadata": {},
     "output_type": "display_data"
    },
    {
     "name": "stdout",
     "output_type": "stream",
     "text": [
      "\n",
      "\n",
      "\n",
      "\n",
      "Model ID: Grid_GLM_py_6_sid_9a7e_model_python_1566744124179_8_model_4  auc: 0.7909216550056145\n",
      "\n",
      "GLM Model: summary\n"
     ]
    },
    {
     "data": {
      "text/html": [
       "<div>\n",
       "<style scoped>\n",
       "    .dataframe tbody tr th:only-of-type {\n",
       "        vertical-align: middle;\n",
       "    }\n",
       "\n",
       "    .dataframe tbody tr th {\n",
       "        vertical-align: top;\n",
       "    }\n",
       "\n",
       "    .dataframe thead th {\n",
       "        text-align: right;\n",
       "    }\n",
       "</style>\n",
       "<table border=\"1\" class=\"dataframe\">\n",
       "  <thead>\n",
       "    <tr style=\"text-align: right;\">\n",
       "      <th></th>\n",
       "      <th></th>\n",
       "      <th>family</th>\n",
       "      <th>link</th>\n",
       "      <th>regularization</th>\n",
       "      <th>number_of_predictors_total</th>\n",
       "      <th>number_of_active_predictors</th>\n",
       "      <th>number_of_iterations</th>\n",
       "      <th>training_frame</th>\n",
       "    </tr>\n",
       "  </thead>\n",
       "  <tbody>\n",
       "    <tr>\n",
       "      <th>0</th>\n",
       "      <td></td>\n",
       "      <td>binomial</td>\n",
       "      <td>logit</td>\n",
       "      <td>Elastic Net (alpha = 0.5, lambda = 0.01 )</td>\n",
       "      <td>6</td>\n",
       "      <td>5</td>\n",
       "      <td>6</td>\n",
       "      <td>py_6_sid_9a7e</td>\n",
       "    </tr>\n",
       "  </tbody>\n",
       "</table>\n",
       "</div>"
      ],
      "text/plain": [
       "       family   link                             regularization  \\\n",
       "0    binomial  logit  Elastic Net (alpha = 0.5, lambda = 0.01 )   \n",
       "\n",
       "   number_of_predictors_total number_of_active_predictors  \\\n",
       "0                           6                           5   \n",
       "\n",
       "   number_of_iterations training_frame  \n",
       "0                     6  py_6_sid_9a7e  "
      ]
     },
     "metadata": {},
     "output_type": "display_data"
    },
    {
     "name": "stdout",
     "output_type": "stream",
     "text": [
      "\n",
      "\n",
      "\n",
      "\n",
      "Model ID: Grid_GLM_py_6_sid_9a7e_model_python_1566744124179_8_model_3  auc: 0.7904897641876134\n",
      "\n",
      "GLM Model: summary\n"
     ]
    },
    {
     "data": {
      "text/html": [
       "<div>\n",
       "<style scoped>\n",
       "    .dataframe tbody tr th:only-of-type {\n",
       "        vertical-align: middle;\n",
       "    }\n",
       "\n",
       "    .dataframe tbody tr th {\n",
       "        vertical-align: top;\n",
       "    }\n",
       "\n",
       "    .dataframe thead th {\n",
       "        text-align: right;\n",
       "    }\n",
       "</style>\n",
       "<table border=\"1\" class=\"dataframe\">\n",
       "  <thead>\n",
       "    <tr style=\"text-align: right;\">\n",
       "      <th></th>\n",
       "      <th></th>\n",
       "      <th>family</th>\n",
       "      <th>link</th>\n",
       "      <th>regularization</th>\n",
       "      <th>number_of_predictors_total</th>\n",
       "      <th>number_of_active_predictors</th>\n",
       "      <th>number_of_iterations</th>\n",
       "      <th>training_frame</th>\n",
       "    </tr>\n",
       "  </thead>\n",
       "  <tbody>\n",
       "    <tr>\n",
       "      <th>0</th>\n",
       "      <td></td>\n",
       "      <td>binomial</td>\n",
       "      <td>logit</td>\n",
       "      <td>Elastic Net (alpha = 0.5, lambda = 0.1 )</td>\n",
       "      <td>6</td>\n",
       "      <td>2</td>\n",
       "      <td>3</td>\n",
       "      <td>py_6_sid_9a7e</td>\n",
       "    </tr>\n",
       "  </tbody>\n",
       "</table>\n",
       "</div>"
      ],
      "text/plain": [
       "       family   link                            regularization  \\\n",
       "0    binomial  logit  Elastic Net (alpha = 0.5, lambda = 0.1 )   \n",
       "\n",
       "   number_of_predictors_total number_of_active_predictors  \\\n",
       "0                           6                           2   \n",
       "\n",
       "   number_of_iterations training_frame  \n",
       "0                     3  py_6_sid_9a7e  "
      ]
     },
     "metadata": {},
     "output_type": "display_data"
    },
    {
     "name": "stdout",
     "output_type": "stream",
     "text": [
      "\n",
      "\n",
      "\n",
      "\n",
      "Model ID: Grid_GLM_py_6_sid_9a7e_model_python_1566744124179_8_model_2  auc: 0.5\n",
      "\n",
      "GLM Model: summary\n"
     ]
    },
    {
     "data": {
      "text/html": [
       "<div>\n",
       "<style scoped>\n",
       "    .dataframe tbody tr th:only-of-type {\n",
       "        vertical-align: middle;\n",
       "    }\n",
       "\n",
       "    .dataframe tbody tr th {\n",
       "        vertical-align: top;\n",
       "    }\n",
       "\n",
       "    .dataframe thead th {\n",
       "        text-align: right;\n",
       "    }\n",
       "</style>\n",
       "<table border=\"1\" class=\"dataframe\">\n",
       "  <thead>\n",
       "    <tr style=\"text-align: right;\">\n",
       "      <th></th>\n",
       "      <th></th>\n",
       "      <th>family</th>\n",
       "      <th>link</th>\n",
       "      <th>regularization</th>\n",
       "      <th>number_of_predictors_total</th>\n",
       "      <th>number_of_active_predictors</th>\n",
       "      <th>number_of_iterations</th>\n",
       "      <th>training_frame</th>\n",
       "    </tr>\n",
       "  </thead>\n",
       "  <tbody>\n",
       "    <tr>\n",
       "      <th>0</th>\n",
       "      <td></td>\n",
       "      <td>binomial</td>\n",
       "      <td>logit</td>\n",
       "      <td>Elastic Net (alpha = 0.5, lambda = 0.5 )</td>\n",
       "      <td>6</td>\n",
       "      <td>0</td>\n",
       "      <td>1</td>\n",
       "      <td>py_6_sid_9a7e</td>\n",
       "    </tr>\n",
       "  </tbody>\n",
       "</table>\n",
       "</div>"
      ],
      "text/plain": [
       "       family   link                            regularization  \\\n",
       "0    binomial  logit  Elastic Net (alpha = 0.5, lambda = 0.5 )   \n",
       "\n",
       "   number_of_predictors_total number_of_active_predictors  \\\n",
       "0                           6                           0   \n",
       "\n",
       "   number_of_iterations training_frame  \n",
       "0                     1  py_6_sid_9a7e  "
      ]
     },
     "metadata": {},
     "output_type": "display_data"
    },
    {
     "name": "stdout",
     "output_type": "stream",
     "text": [
      "\n",
      "\n",
      "\n",
      "\n",
      "Model ID: Grid_GLM_py_6_sid_9a7e_model_python_1566744124179_8_model_1  auc: 0.5\n",
      "\n",
      "GLM Model: summary\n"
     ]
    },
    {
     "data": {
      "text/html": [
       "<div>\n",
       "<style scoped>\n",
       "    .dataframe tbody tr th:only-of-type {\n",
       "        vertical-align: middle;\n",
       "    }\n",
       "\n",
       "    .dataframe tbody tr th {\n",
       "        vertical-align: top;\n",
       "    }\n",
       "\n",
       "    .dataframe thead th {\n",
       "        text-align: right;\n",
       "    }\n",
       "</style>\n",
       "<table border=\"1\" class=\"dataframe\">\n",
       "  <thead>\n",
       "    <tr style=\"text-align: right;\">\n",
       "      <th></th>\n",
       "      <th></th>\n",
       "      <th>family</th>\n",
       "      <th>link</th>\n",
       "      <th>regularization</th>\n",
       "      <th>number_of_predictors_total</th>\n",
       "      <th>number_of_active_predictors</th>\n",
       "      <th>number_of_iterations</th>\n",
       "      <th>training_frame</th>\n",
       "    </tr>\n",
       "  </thead>\n",
       "  <tbody>\n",
       "    <tr>\n",
       "      <th>0</th>\n",
       "      <td></td>\n",
       "      <td>binomial</td>\n",
       "      <td>logit</td>\n",
       "      <td>Elastic Net (alpha = 0.5, lambda = 1.0 )</td>\n",
       "      <td>6</td>\n",
       "      <td>0</td>\n",
       "      <td>1</td>\n",
       "      <td>py_6_sid_9a7e</td>\n",
       "    </tr>\n",
       "  </tbody>\n",
       "</table>\n",
       "</div>"
      ],
      "text/plain": [
       "       family   link                            regularization  \\\n",
       "0    binomial  logit  Elastic Net (alpha = 0.5, lambda = 1.0 )   \n",
       "\n",
       "   number_of_predictors_total number_of_active_predictors  \\\n",
       "0                           6                           0   \n",
       "\n",
       "   number_of_iterations training_frame  \n",
       "0                     1  py_6_sid_9a7e  "
      ]
     },
     "metadata": {},
     "output_type": "display_data"
    },
    {
     "name": "stdout",
     "output_type": "stream",
     "text": [
      "\n",
      "\n",
      "\n",
      "\n"
     ]
    }
   ],
   "source": [
    "lambda_opts = [1, 0.5, 0.1, 0.01, 0.001, 0.0001, 0.00001, 0] \n",
    "hyper_parameters = {\"lambda\":lambda_opts} \n",
    "grid = H2OGridSearch(H2OGeneralizedLinearEstimator( family=\"binomial\"), hyper_params=hyper_parameters)\n",
    "grid.train(y = \"CAPSULE\", x = [\"AGE\", \"RACE\", \"PSA\", \"GLEASON\"], training_frame = prostate) \n",
    "for m in grid: \n",
    "    print (\"Model ID:\", m.model_id, \" auc:\", m.auc())\n",
    "    print (m.summary()) \n",
    "    print (\"\\n\\n\")"
   ]
  },
  {
   "cell_type": "markdown",
   "metadata": {},
   "source": [
    "# 6)- Multi-nomial Model"
   ]
  },
  {
   "cell_type": "code",
   "execution_count": 36,
   "metadata": {},
   "outputs": [
    {
     "name": "stdout",
     "output_type": "stream",
     "text": [
      "Checking whether there is an H2O instance running at http://localhost:54321 . connected.\n"
     ]
    },
    {
     "data": {
      "text/html": [
       "<div style=\"overflow:auto\"><table style=\"width:50%\"><tr><td>H2O cluster uptime:</td>\n",
       "<td>21 mins 41 secs</td></tr>\n",
       "<tr><td>H2O cluster timezone:</td>\n",
       "<td>Europe/Berlin</td></tr>\n",
       "<tr><td>H2O data parsing timezone:</td>\n",
       "<td>UTC</td></tr>\n",
       "<tr><td>H2O cluster version:</td>\n",
       "<td>3.26.0.3</td></tr>\n",
       "<tr><td>H2O cluster version age:</td>\n",
       "<td>1 day </td></tr>\n",
       "<tr><td>H2O cluster name:</td>\n",
       "<td>H2O_from_python_Hassan_7qq43r</td></tr>\n",
       "<tr><td>H2O cluster total nodes:</td>\n",
       "<td>1</td></tr>\n",
       "<tr><td>H2O cluster free memory:</td>\n",
       "<td>3.221 Gb</td></tr>\n",
       "<tr><td>H2O cluster total cores:</td>\n",
       "<td>8</td></tr>\n",
       "<tr><td>H2O cluster allowed cores:</td>\n",
       "<td>8</td></tr>\n",
       "<tr><td>H2O cluster status:</td>\n",
       "<td>locked, healthy</td></tr>\n",
       "<tr><td>H2O connection url:</td>\n",
       "<td>http://localhost:54321</td></tr>\n",
       "<tr><td>H2O connection proxy:</td>\n",
       "<td>None</td></tr>\n",
       "<tr><td>H2O internal security:</td>\n",
       "<td>False</td></tr>\n",
       "<tr><td>H2O API Extensions:</td>\n",
       "<td>Amazon S3, Algos, AutoML, Core V3, Core V4</td></tr>\n",
       "<tr><td>Python version:</td>\n",
       "<td>3.6.5 final</td></tr></table></div>"
      ],
      "text/plain": [
       "--------------------------  ------------------------------------------\n",
       "H2O cluster uptime:         21 mins 41 secs\n",
       "H2O cluster timezone:       Europe/Berlin\n",
       "H2O data parsing timezone:  UTC\n",
       "H2O cluster version:        3.26.0.3\n",
       "H2O cluster version age:    1 day\n",
       "H2O cluster name:           H2O_from_python_Hassan_7qq43r\n",
       "H2O cluster total nodes:    1\n",
       "H2O cluster free memory:    3.221 Gb\n",
       "H2O cluster total cores:    8\n",
       "H2O cluster allowed cores:  8\n",
       "H2O cluster status:         locked, healthy\n",
       "H2O connection url:         http://localhost:54321\n",
       "H2O connection proxy:\n",
       "H2O internal security:      False\n",
       "H2O API Extensions:         Amazon S3, Algos, AutoML, Core V3, Core V4\n",
       "Python version:             3.6.5 final\n",
       "--------------------------  ------------------------------------------"
      ]
     },
     "metadata": {},
     "output_type": "display_data"
    }
   ],
   "source": [
    "from h2o.estimators.glm  import H2OGeneralizedLinearEstimator \n",
    "h2o.init()"
   ]
  },
  {
   "cell_type": "code",
   "execution_count": 41,
   "metadata": {},
   "outputs": [
    {
     "name": "stdout",
     "output_type": "stream",
     "text": [
      "Parse progress: |█████████████████████████████████████████████████████████| 100%\n"
     ]
    }
   ],
   "source": [
    "iris = h2o.import_file(\"http://h2o-public-test-data.s3.amazonaws.com/smalldata/iris/iris.csv\") "
   ]
  },
  {
   "cell_type": "code",
   "execution_count": 42,
   "metadata": {},
   "outputs": [
    {
     "data": {
      "text/html": [
       "<table>\n",
       "<thead>\n",
       "<tr><th style=\"text-align: right;\">  C1</th><th style=\"text-align: right;\">  C2</th><th style=\"text-align: right;\">  C3</th><th style=\"text-align: right;\">  C4</th><th>C5         </th></tr>\n",
       "</thead>\n",
       "<tbody>\n",
       "<tr><td style=\"text-align: right;\"> 5.1</td><td style=\"text-align: right;\"> 3.5</td><td style=\"text-align: right;\"> 1.4</td><td style=\"text-align: right;\"> 0.2</td><td>Iris-setosa</td></tr>\n",
       "<tr><td style=\"text-align: right;\"> 4.9</td><td style=\"text-align: right;\"> 3  </td><td style=\"text-align: right;\"> 1.4</td><td style=\"text-align: right;\"> 0.2</td><td>Iris-setosa</td></tr>\n",
       "<tr><td style=\"text-align: right;\"> 4.7</td><td style=\"text-align: right;\"> 3.2</td><td style=\"text-align: right;\"> 1.3</td><td style=\"text-align: right;\"> 0.2</td><td>Iris-setosa</td></tr>\n",
       "<tr><td style=\"text-align: right;\"> 4.6</td><td style=\"text-align: right;\"> 3.1</td><td style=\"text-align: right;\"> 1.5</td><td style=\"text-align: right;\"> 0.2</td><td>Iris-setosa</td></tr>\n",
       "<tr><td style=\"text-align: right;\"> 5  </td><td style=\"text-align: right;\"> 3.6</td><td style=\"text-align: right;\"> 1.4</td><td style=\"text-align: right;\"> 0.2</td><td>Iris-setosa</td></tr>\n",
       "<tr><td style=\"text-align: right;\"> 5.4</td><td style=\"text-align: right;\"> 3.9</td><td style=\"text-align: right;\"> 1.7</td><td style=\"text-align: right;\"> 0.4</td><td>Iris-setosa</td></tr>\n",
       "<tr><td style=\"text-align: right;\"> 4.6</td><td style=\"text-align: right;\"> 3.4</td><td style=\"text-align: right;\"> 1.4</td><td style=\"text-align: right;\"> 0.3</td><td>Iris-setosa</td></tr>\n",
       "<tr><td style=\"text-align: right;\"> 5  </td><td style=\"text-align: right;\"> 3.4</td><td style=\"text-align: right;\"> 1.5</td><td style=\"text-align: right;\"> 0.2</td><td>Iris-setosa</td></tr>\n",
       "<tr><td style=\"text-align: right;\"> 4.4</td><td style=\"text-align: right;\"> 2.9</td><td style=\"text-align: right;\"> 1.4</td><td style=\"text-align: right;\"> 0.2</td><td>Iris-setosa</td></tr>\n",
       "<tr><td style=\"text-align: right;\"> 4.9</td><td style=\"text-align: right;\"> 3.1</td><td style=\"text-align: right;\"> 1.5</td><td style=\"text-align: right;\"> 0.1</td><td>Iris-setosa</td></tr>\n",
       "</tbody>\n",
       "</table>"
      ]
     },
     "metadata": {},
     "output_type": "display_data"
    },
    {
     "data": {
      "text/plain": []
     },
     "execution_count": 42,
     "metadata": {},
     "output_type": "execute_result"
    }
   ],
   "source": [
    "iris.head()"
   ]
  },
  {
   "cell_type": "code",
   "execution_count": 43,
   "metadata": {},
   "outputs": [],
   "source": [
    "predictors = [\"C1\", \"C2\", \"C3\", \"C4\"]\n",
    "response_col = \"C5\""
   ]
  },
  {
   "cell_type": "markdown",
   "metadata": {},
   "source": [
    "**again, get to deal with multi-colinearity**"
   ]
  },
  {
   "cell_type": "code",
   "execution_count": 45,
   "metadata": {},
   "outputs": [
    {
     "name": "stdout",
     "output_type": "stream",
     "text": [
      "glm Model Build progress: |███████████████████████████████████████████████| 100%\n"
     ]
    }
   ],
   "source": [
    "multinomial_fit = H2OGeneralizedLinearEstimator(family = \"multinomial\")\n",
    "multinomial_fit.train(y = 4, x = [0,1,2,3], training_frame = iris)"
   ]
  },
  {
   "cell_type": "code",
   "execution_count": 46,
   "metadata": {},
   "outputs": [
    {
     "name": "stdout",
     "output_type": "stream",
     "text": [
      "Model Details\n",
      "=============\n",
      "H2OGeneralizedLinearEstimator :  Generalized Linear Modeling\n",
      "Model Key:  GLM_model_python_1566744124179_19\n",
      "\n",
      "\n",
      "GLM Model: summary\n"
     ]
    },
    {
     "data": {
      "text/html": [
       "<div>\n",
       "<style scoped>\n",
       "    .dataframe tbody tr th:only-of-type {\n",
       "        vertical-align: middle;\n",
       "    }\n",
       "\n",
       "    .dataframe tbody tr th {\n",
       "        vertical-align: top;\n",
       "    }\n",
       "\n",
       "    .dataframe thead th {\n",
       "        text-align: right;\n",
       "    }\n",
       "</style>\n",
       "<table border=\"1\" class=\"dataframe\">\n",
       "  <thead>\n",
       "    <tr style=\"text-align: right;\">\n",
       "      <th></th>\n",
       "      <th></th>\n",
       "      <th>family</th>\n",
       "      <th>link</th>\n",
       "      <th>regularization</th>\n",
       "      <th>number_of_predictors_total</th>\n",
       "      <th>number_of_active_predictors</th>\n",
       "      <th>number_of_iterations</th>\n",
       "      <th>training_frame</th>\n",
       "    </tr>\n",
       "  </thead>\n",
       "  <tbody>\n",
       "    <tr>\n",
       "      <th>0</th>\n",
       "      <td></td>\n",
       "      <td>multinomial</td>\n",
       "      <td>multinomial</td>\n",
       "      <td>Elastic Net (alpha = 0.5, lambda = 8.67E-4 )</td>\n",
       "      <td>15</td>\n",
       "      <td>11</td>\n",
       "      <td>23</td>\n",
       "      <td>Key_Frame__http___h2o_public_test_data_s3_amazonaws_com_smalldata_...</td>\n",
       "    </tr>\n",
       "  </tbody>\n",
       "</table>\n",
       "</div>"
      ],
      "text/plain": [
       "          family         link                                regularization  \\\n",
       "0    multinomial  multinomial  Elastic Net (alpha = 0.5, lambda = 8.67E-4 )   \n",
       "\n",
       "   number_of_predictors_total number_of_active_predictors  \\\n",
       "0                          15                          11   \n",
       "\n",
       "   number_of_iterations  \\\n",
       "0                    23   \n",
       "\n",
       "                                                          training_frame  \n",
       "0  Key_Frame__http___h2o_public_test_data_s3_amazonaws_com_smalldata_...  "
      ]
     },
     "metadata": {},
     "output_type": "display_data"
    },
    {
     "name": "stdout",
     "output_type": "stream",
     "text": [
      "\n",
      "\n",
      "ModelMetricsMultinomialGLM: glm\n",
      "** Reported on train data. **\n",
      "\n",
      "MSE: 0.014742589738302845\n",
      "RMSE: 0.12141906661765624\n",
      "\n",
      "Scoring History: "
     ]
    },
    {
     "data": {
      "text/html": [
       "<div>\n",
       "<style scoped>\n",
       "    .dataframe tbody tr th:only-of-type {\n",
       "        vertical-align: middle;\n",
       "    }\n",
       "\n",
       "    .dataframe tbody tr th {\n",
       "        vertical-align: top;\n",
       "    }\n",
       "\n",
       "    .dataframe thead th {\n",
       "        text-align: right;\n",
       "    }\n",
       "</style>\n",
       "<table border=\"1\" class=\"dataframe\">\n",
       "  <thead>\n",
       "    <tr style=\"text-align: right;\">\n",
       "      <th></th>\n",
       "      <th></th>\n",
       "      <th>timestamp</th>\n",
       "      <th>duration</th>\n",
       "      <th>iterations</th>\n",
       "      <th>negative_log_likelihood</th>\n",
       "      <th>objective</th>\n",
       "    </tr>\n",
       "  </thead>\n",
       "  <tbody>\n",
       "    <tr>\n",
       "      <th>0</th>\n",
       "      <td></td>\n",
       "      <td>2019-08-25 17:13:03</td>\n",
       "      <td>0.000 sec</td>\n",
       "      <td>0</td>\n",
       "      <td>164.791843</td>\n",
       "      <td>1.098612</td>\n",
       "    </tr>\n",
       "    <tr>\n",
       "      <th>1</th>\n",
       "      <td></td>\n",
       "      <td>2019-08-25 17:13:03</td>\n",
       "      <td>0.020 sec</td>\n",
       "      <td>1</td>\n",
       "      <td>57.509996</td>\n",
       "      <td>0.388249</td>\n",
       "    </tr>\n",
       "    <tr>\n",
       "      <th>2</th>\n",
       "      <td></td>\n",
       "      <td>2019-08-25 17:13:03</td>\n",
       "      <td>0.032 sec</td>\n",
       "      <td>2</td>\n",
       "      <td>28.252851</td>\n",
       "      <td>0.199036</td>\n",
       "    </tr>\n",
       "    <tr>\n",
       "      <th>3</th>\n",
       "      <td></td>\n",
       "      <td>2019-08-25 17:13:03</td>\n",
       "      <td>0.040 sec</td>\n",
       "      <td>3</td>\n",
       "      <td>15.836846</td>\n",
       "      <td>0.123715</td>\n",
       "    </tr>\n",
       "    <tr>\n",
       "      <th>4</th>\n",
       "      <td></td>\n",
       "      <td>2019-08-25 17:13:03</td>\n",
       "      <td>0.044 sec</td>\n",
       "      <td>4</td>\n",
       "      <td>11.018392</td>\n",
       "      <td>0.099190</td>\n",
       "    </tr>\n",
       "    <tr>\n",
       "      <th>5</th>\n",
       "      <td></td>\n",
       "      <td>2019-08-25 17:13:03</td>\n",
       "      <td>0.052 sec</td>\n",
       "      <td>5</td>\n",
       "      <td>9.349863</td>\n",
       "      <td>0.092463</td>\n",
       "    </tr>\n",
       "    <tr>\n",
       "      <th>6</th>\n",
       "      <td></td>\n",
       "      <td>2019-08-25 17:13:03</td>\n",
       "      <td>0.060 sec</td>\n",
       "      <td>6</td>\n",
       "      <td>8.913268</td>\n",
       "      <td>0.091009</td>\n",
       "    </tr>\n",
       "    <tr>\n",
       "      <th>7</th>\n",
       "      <td></td>\n",
       "      <td>2019-08-25 17:13:03</td>\n",
       "      <td>0.064 sec</td>\n",
       "      <td>7</td>\n",
       "      <td>8.729332</td>\n",
       "      <td>0.090719</td>\n",
       "    </tr>\n",
       "    <tr>\n",
       "      <th>8</th>\n",
       "      <td></td>\n",
       "      <td>2019-08-25 17:13:03</td>\n",
       "      <td>0.072 sec</td>\n",
       "      <td>8</td>\n",
       "      <td>8.643123</td>\n",
       "      <td>0.090558</td>\n",
       "    </tr>\n",
       "    <tr>\n",
       "      <th>9</th>\n",
       "      <td></td>\n",
       "      <td>2019-08-25 17:13:03</td>\n",
       "      <td>0.080 sec</td>\n",
       "      <td>9</td>\n",
       "      <td>8.671694</td>\n",
       "      <td>0.090454</td>\n",
       "    </tr>\n",
       "    <tr>\n",
       "      <th>10</th>\n",
       "      <td></td>\n",
       "      <td>2019-08-25 17:13:03</td>\n",
       "      <td>0.090 sec</td>\n",
       "      <td>10</td>\n",
       "      <td>8.631566</td>\n",
       "      <td>0.090368</td>\n",
       "    </tr>\n",
       "    <tr>\n",
       "      <th>11</th>\n",
       "      <td></td>\n",
       "      <td>2019-08-25 17:13:03</td>\n",
       "      <td>0.090 sec</td>\n",
       "      <td>11</td>\n",
       "      <td>8.688833</td>\n",
       "      <td>0.090305</td>\n",
       "    </tr>\n",
       "    <tr>\n",
       "      <th>12</th>\n",
       "      <td></td>\n",
       "      <td>2019-08-25 17:13:03</td>\n",
       "      <td>0.090 sec</td>\n",
       "      <td>12</td>\n",
       "      <td>8.655192</td>\n",
       "      <td>0.090236</td>\n",
       "    </tr>\n",
       "    <tr>\n",
       "      <th>13</th>\n",
       "      <td></td>\n",
       "      <td>2019-08-25 17:13:03</td>\n",
       "      <td>0.106 sec</td>\n",
       "      <td>13</td>\n",
       "      <td>8.635452</td>\n",
       "      <td>0.090184</td>\n",
       "    </tr>\n",
       "    <tr>\n",
       "      <th>14</th>\n",
       "      <td></td>\n",
       "      <td>2019-08-25 17:13:03</td>\n",
       "      <td>0.106 sec</td>\n",
       "      <td>14</td>\n",
       "      <td>8.614905</td>\n",
       "      <td>0.090144</td>\n",
       "    </tr>\n",
       "    <tr>\n",
       "      <th>15</th>\n",
       "      <td></td>\n",
       "      <td>2019-08-25 17:13:03</td>\n",
       "      <td>0.106 sec</td>\n",
       "      <td>15</td>\n",
       "      <td>8.610804</td>\n",
       "      <td>0.090120</td>\n",
       "    </tr>\n",
       "    <tr>\n",
       "      <th>16</th>\n",
       "      <td></td>\n",
       "      <td>2019-08-25 17:13:03</td>\n",
       "      <td>0.122 sec</td>\n",
       "      <td>16</td>\n",
       "      <td>8.605015</td>\n",
       "      <td>0.090099</td>\n",
       "    </tr>\n",
       "    <tr>\n",
       "      <th>17</th>\n",
       "      <td></td>\n",
       "      <td>2019-08-25 17:13:03</td>\n",
       "      <td>0.122 sec</td>\n",
       "      <td>17</td>\n",
       "      <td>8.603947</td>\n",
       "      <td>0.090081</td>\n",
       "    </tr>\n",
       "    <tr>\n",
       "      <th>18</th>\n",
       "      <td></td>\n",
       "      <td>2019-08-25 17:13:03</td>\n",
       "      <td>0.122 sec</td>\n",
       "      <td>18</td>\n",
       "      <td>8.601348</td>\n",
       "      <td>0.090065</td>\n",
       "    </tr>\n",
       "    <tr>\n",
       "      <th>19</th>\n",
       "      <td></td>\n",
       "      <td>2019-08-25 17:13:03</td>\n",
       "      <td>0.137 sec</td>\n",
       "      <td>19</td>\n",
       "      <td>8.600603</td>\n",
       "      <td>0.090050</td>\n",
       "    </tr>\n",
       "  </tbody>\n",
       "</table>\n",
       "</div>"
      ],
      "text/plain": [
       "                timestamp    duration  iterations  negative_log_likelihood  \\\n",
       "0     2019-08-25 17:13:03   0.000 sec           0               164.791843   \n",
       "1     2019-08-25 17:13:03   0.020 sec           1                57.509996   \n",
       "2     2019-08-25 17:13:03   0.032 sec           2                28.252851   \n",
       "3     2019-08-25 17:13:03   0.040 sec           3                15.836846   \n",
       "4     2019-08-25 17:13:03   0.044 sec           4                11.018392   \n",
       "5     2019-08-25 17:13:03   0.052 sec           5                 9.349863   \n",
       "6     2019-08-25 17:13:03   0.060 sec           6                 8.913268   \n",
       "7     2019-08-25 17:13:03   0.064 sec           7                 8.729332   \n",
       "8     2019-08-25 17:13:03   0.072 sec           8                 8.643123   \n",
       "9     2019-08-25 17:13:03   0.080 sec           9                 8.671694   \n",
       "10    2019-08-25 17:13:03   0.090 sec          10                 8.631566   \n",
       "11    2019-08-25 17:13:03   0.090 sec          11                 8.688833   \n",
       "12    2019-08-25 17:13:03   0.090 sec          12                 8.655192   \n",
       "13    2019-08-25 17:13:03   0.106 sec          13                 8.635452   \n",
       "14    2019-08-25 17:13:03   0.106 sec          14                 8.614905   \n",
       "15    2019-08-25 17:13:03   0.106 sec          15                 8.610804   \n",
       "16    2019-08-25 17:13:03   0.122 sec          16                 8.605015   \n",
       "17    2019-08-25 17:13:03   0.122 sec          17                 8.603947   \n",
       "18    2019-08-25 17:13:03   0.122 sec          18                 8.601348   \n",
       "19    2019-08-25 17:13:03   0.137 sec          19                 8.600603   \n",
       "\n",
       "    objective  \n",
       "0    1.098612  \n",
       "1    0.388249  \n",
       "2    0.199036  \n",
       "3    0.123715  \n",
       "4    0.099190  \n",
       "5    0.092463  \n",
       "6    0.091009  \n",
       "7    0.090719  \n",
       "8    0.090558  \n",
       "9    0.090454  \n",
       "10   0.090368  \n",
       "11   0.090305  \n",
       "12   0.090236  \n",
       "13   0.090184  \n",
       "14   0.090144  \n",
       "15   0.090120  \n",
       "16   0.090099  \n",
       "17   0.090081  \n",
       "18   0.090065  \n",
       "19   0.090050  "
      ]
     },
     "metadata": {},
     "output_type": "display_data"
    },
    {
     "name": "stdout",
     "output_type": "stream",
     "text": [
      "\n",
      "See the whole table with table.as_data_frame()\n",
      "\n"
     ]
    }
   ],
   "source": [
    "print(multinomial_fit)"
   ]
  },
  {
   "cell_type": "markdown",
   "metadata": {},
   "source": [
    "# 7)- Poisson Models"
   ]
  },
  {
   "cell_type": "code",
   "execution_count": 47,
   "metadata": {},
   "outputs": [
    {
     "name": "stdout",
     "output_type": "stream",
     "text": [
      "Parse progress: |█████████████████████████████████████████████████████████| 100%\n"
     ]
    }
   ],
   "source": [
    "motor = h2o.import_file(\"http://h2o-public-test-data.s3.amazonaws.com/smalldata/glm_test/Motor_insurance_sweden.txt\", sep = '\\t') \n"
   ]
  },
  {
   "cell_type": "code",
   "execution_count": 48,
   "metadata": {},
   "outputs": [
    {
     "data": {
      "text/html": [
       "<table>\n",
       "<thead>\n",
       "<tr><th style=\"text-align: right;\">  Kilometres</th><th style=\"text-align: right;\">  Zone</th><th style=\"text-align: right;\">  Bonus</th><th style=\"text-align: right;\">  Make</th><th style=\"text-align: right;\">  Insured</th><th style=\"text-align: right;\">  Claims</th><th style=\"text-align: right;\">         Payment</th></tr>\n",
       "</thead>\n",
       "<tbody>\n",
       "<tr><td style=\"text-align: right;\">           1</td><td style=\"text-align: right;\">     1</td><td style=\"text-align: right;\">      1</td><td style=\"text-align: right;\">     1</td><td style=\"text-align: right;\">   455.13</td><td style=\"text-align: right;\">     108</td><td style=\"text-align: right;\">392491          </td></tr>\n",
       "<tr><td style=\"text-align: right;\">           1</td><td style=\"text-align: right;\">     1</td><td style=\"text-align: right;\">      1</td><td style=\"text-align: right;\">     2</td><td style=\"text-align: right;\">    69.17</td><td style=\"text-align: right;\">      19</td><td style=\"text-align: right;\"> 46221          </td></tr>\n",
       "<tr><td style=\"text-align: right;\">           1</td><td style=\"text-align: right;\">     1</td><td style=\"text-align: right;\">      1</td><td style=\"text-align: right;\">     3</td><td style=\"text-align: right;\">    72.88</td><td style=\"text-align: right;\">      13</td><td style=\"text-align: right;\"> 15694          </td></tr>\n",
       "<tr><td style=\"text-align: right;\">           1</td><td style=\"text-align: right;\">     1</td><td style=\"text-align: right;\">      1</td><td style=\"text-align: right;\">     4</td><td style=\"text-align: right;\">  1292.39</td><td style=\"text-align: right;\">     124</td><td style=\"text-align: right;\">422201          </td></tr>\n",
       "<tr><td style=\"text-align: right;\">           1</td><td style=\"text-align: right;\">     1</td><td style=\"text-align: right;\">      1</td><td style=\"text-align: right;\">     5</td><td style=\"text-align: right;\">   191.01</td><td style=\"text-align: right;\">      40</td><td style=\"text-align: right;\">119373          </td></tr>\n",
       "<tr><td style=\"text-align: right;\">           1</td><td style=\"text-align: right;\">     1</td><td style=\"text-align: right;\">      1</td><td style=\"text-align: right;\">     6</td><td style=\"text-align: right;\">   477.66</td><td style=\"text-align: right;\">      57</td><td style=\"text-align: right;\">170913          </td></tr>\n",
       "<tr><td style=\"text-align: right;\">           1</td><td style=\"text-align: right;\">     1</td><td style=\"text-align: right;\">      1</td><td style=\"text-align: right;\">     7</td><td style=\"text-align: right;\">   105.58</td><td style=\"text-align: right;\">      23</td><td style=\"text-align: right;\"> 56940          </td></tr>\n",
       "<tr><td style=\"text-align: right;\">           1</td><td style=\"text-align: right;\">     1</td><td style=\"text-align: right;\">      1</td><td style=\"text-align: right;\">     8</td><td style=\"text-align: right;\">    32.55</td><td style=\"text-align: right;\">      14</td><td style=\"text-align: right;\"> 77487          </td></tr>\n",
       "<tr><td style=\"text-align: right;\">           1</td><td style=\"text-align: right;\">     1</td><td style=\"text-align: right;\">      1</td><td style=\"text-align: right;\">     9</td><td style=\"text-align: right;\">  9998.46</td><td style=\"text-align: right;\">    1704</td><td style=\"text-align: right;\">     6.80599e+06</td></tr>\n",
       "<tr><td style=\"text-align: right;\">           1</td><td style=\"text-align: right;\">     1</td><td style=\"text-align: right;\">      2</td><td style=\"text-align: right;\">     1</td><td style=\"text-align: right;\">   314.58</td><td style=\"text-align: right;\">      45</td><td style=\"text-align: right;\">214011          </td></tr>\n",
       "</tbody>\n",
       "</table>"
      ]
     },
     "metadata": {},
     "output_type": "display_data"
    },
    {
     "data": {
      "text/plain": []
     },
     "execution_count": 48,
     "metadata": {},
     "output_type": "execute_result"
    }
   ],
   "source": [
    "motor.head()"
   ]
  },
  {
   "cell_type": "code",
   "execution_count": 53,
   "metadata": {},
   "outputs": [
    {
     "data": {
      "text/html": [
       "<table>\n",
       "<thead>\n",
       "<tr><th>       </th><th>Kilometres        </th><th>Zone              </th><th>Bonus             </th><th>Make              </th><th>Insured           </th><th>Claims            </th><th>Payment           </th></tr>\n",
       "</thead>\n",
       "<tbody>\n",
       "<tr><td>type   </td><td>int               </td><td>int               </td><td>int               </td><td>int               </td><td>real              </td><td>int               </td><td>int               </td></tr>\n",
       "<tr><td>mins   </td><td>1.0               </td><td>1.0               </td><td>1.0               </td><td>1.0               </td><td>0.01              </td><td>0.0               </td><td>0.0               </td></tr>\n",
       "<tr><td>mean   </td><td>2.9857928505957827</td><td>3.9702108157653533</td><td>4.01512373968836  </td><td>4.991750687442713 </td><td>1092.1952703941352</td><td>51.865719523372995</td><td>257007.6448212649 </td></tr>\n",
       "<tr><td>maxs   </td><td>5.0               </td><td>7.0               </td><td>7.0               </td><td>9.0               </td><td>127687.27         </td><td>3338.0            </td><td>18245026.0        </td></tr>\n",
       "<tr><td>sigma  </td><td>1.4104086085546428</td><td>1.988857510408954 </td><td>2.0005158569701793</td><td>2.5869431535278427</td><td>5661.156244715404 </td><td>201.7106935118666 </td><td>1017282.5856477643</td></tr>\n",
       "<tr><td>zeros  </td><td>0                 </td><td>0                 </td><td>0                 </td><td>0                 </td><td>0                 </td><td>385               </td><td>385               </td></tr>\n",
       "<tr><td>missing</td><td>0                 </td><td>0                 </td><td>0                 </td><td>0                 </td><td>0                 </td><td>0                 </td><td>0                 </td></tr>\n",
       "<tr><td>0      </td><td>1.0               </td><td>1.0               </td><td>1.0               </td><td>1.0               </td><td>455.13            </td><td>108.0             </td><td>392491.0          </td></tr>\n",
       "<tr><td>1      </td><td>1.0               </td><td>1.0               </td><td>1.0               </td><td>2.0               </td><td>69.17             </td><td>19.0              </td><td>46221.0           </td></tr>\n",
       "<tr><td>2      </td><td>1.0               </td><td>1.0               </td><td>1.0               </td><td>3.0               </td><td>72.88             </td><td>13.0              </td><td>15694.0           </td></tr>\n",
       "<tr><td>3      </td><td>1.0               </td><td>1.0               </td><td>1.0               </td><td>4.0               </td><td>1292.39           </td><td>124.0             </td><td>422201.0          </td></tr>\n",
       "<tr><td>4      </td><td>1.0               </td><td>1.0               </td><td>1.0               </td><td>5.0               </td><td>191.01            </td><td>40.0              </td><td>119373.0          </td></tr>\n",
       "<tr><td>5      </td><td>1.0               </td><td>1.0               </td><td>1.0               </td><td>6.0               </td><td>477.66            </td><td>57.0              </td><td>170913.0          </td></tr>\n",
       "<tr><td>6      </td><td>1.0               </td><td>1.0               </td><td>1.0               </td><td>7.0               </td><td>105.58            </td><td>23.0              </td><td>56940.0           </td></tr>\n",
       "<tr><td>7      </td><td>1.0               </td><td>1.0               </td><td>1.0               </td><td>8.0               </td><td>32.55             </td><td>14.0              </td><td>77487.0           </td></tr>\n",
       "<tr><td>8      </td><td>1.0               </td><td>1.0               </td><td>1.0               </td><td>9.0               </td><td>9998.46           </td><td>1704.0            </td><td>6805992.0         </td></tr>\n",
       "<tr><td>9      </td><td>1.0               </td><td>1.0               </td><td>2.0               </td><td>1.0               </td><td>314.58            </td><td>45.0              </td><td>214011.0          </td></tr>\n",
       "</tbody>\n",
       "</table>"
      ]
     },
     "metadata": {},
     "output_type": "display_data"
    }
   ],
   "source": [
    "motor.summary()"
   ]
  },
  {
   "cell_type": "code",
   "execution_count": 49,
   "metadata": {},
   "outputs": [
    {
     "name": "stdout",
     "output_type": "stream",
     "text": [
      "glm Model Build progress: |███████████████████████████████████████████████| 100%\n"
     ]
    }
   ],
   "source": [
    "poisson_fit = H2OGeneralizedLinearEstimator(family = \" poisson\",lambda_ = 0, remove_collinear_columns= True,compute_p_values=True)\n",
    "poisson_fit.train(y= \"Claims\" , x = [\"Payment\", \"Insured\", \"Kilometres\", \"Zone\", \"Bonus\", \"Make\"], training_frame = motor)"
   ]
  },
  {
   "cell_type": "code",
   "execution_count": 50,
   "metadata": {},
   "outputs": [
    {
     "name": "stdout",
     "output_type": "stream",
     "text": [
      "Model Details\n",
      "=============\n",
      "H2OGeneralizedLinearEstimator :  Generalized Linear Modeling\n",
      "Model Key:  GLM_model_python_1566744124179_20\n",
      "\n",
      "\n",
      "GLM Model: summary\n"
     ]
    },
    {
     "data": {
      "text/html": [
       "<div>\n",
       "<style scoped>\n",
       "    .dataframe tbody tr th:only-of-type {\n",
       "        vertical-align: middle;\n",
       "    }\n",
       "\n",
       "    .dataframe tbody tr th {\n",
       "        vertical-align: top;\n",
       "    }\n",
       "\n",
       "    .dataframe thead th {\n",
       "        text-align: right;\n",
       "    }\n",
       "</style>\n",
       "<table border=\"1\" class=\"dataframe\">\n",
       "  <thead>\n",
       "    <tr style=\"text-align: right;\">\n",
       "      <th></th>\n",
       "      <th></th>\n",
       "      <th>family</th>\n",
       "      <th>link</th>\n",
       "      <th>regularization</th>\n",
       "      <th>number_of_predictors_total</th>\n",
       "      <th>number_of_active_predictors</th>\n",
       "      <th>number_of_iterations</th>\n",
       "      <th>training_frame</th>\n",
       "    </tr>\n",
       "  </thead>\n",
       "  <tbody>\n",
       "    <tr>\n",
       "      <th>0</th>\n",
       "      <td></td>\n",
       "      <td>poisson</td>\n",
       "      <td>log</td>\n",
       "      <td>None</td>\n",
       "      <td>6</td>\n",
       "      <td>6</td>\n",
       "      <td>6</td>\n",
       "      <td>Key_Frame__http___h2o_public_test_data_s3_amazonaws_com_smalldata_...</td>\n",
       "    </tr>\n",
       "  </tbody>\n",
       "</table>\n",
       "</div>"
      ],
      "text/plain": [
       "      family link regularization  number_of_predictors_total  \\\n",
       "0    poisson  log           None                           6   \n",
       "\n",
       "  number_of_active_predictors  number_of_iterations  \\\n",
       "0                           6                     6   \n",
       "\n",
       "                                                          training_frame  \n",
       "0  Key_Frame__http___h2o_public_test_data_s3_amazonaws_com_smalldata_...  "
      ]
     },
     "metadata": {},
     "output_type": "display_data"
    },
    {
     "name": "stdout",
     "output_type": "stream",
     "text": [
      "\n",
      "\n",
      "ModelMetricsRegressionGLM: glm\n",
      "** Reported on train data. **\n",
      "\n",
      "MSE: 18287.328901692104\n",
      "RMSE: 135.23065074786894\n",
      "MAE: 40.41030288136362\n",
      "RMSLE: 1.7658170521996852\n",
      "R^2: 0.55033248798047\n",
      "Mean Residual Deviance: 53.17217585124376\n",
      "Null degrees of freedom: 2181\n",
      "Residual degrees of freedom: 2175\n",
      "Null deviance: 435505.0456453899\n",
      "Residual deviance: 116021.68770741388\n",
      "AIC: 123673.42803356209\n",
      "\n",
      "Scoring History: "
     ]
    },
    {
     "data": {
      "text/html": [
       "<div>\n",
       "<style scoped>\n",
       "    .dataframe tbody tr th:only-of-type {\n",
       "        vertical-align: middle;\n",
       "    }\n",
       "\n",
       "    .dataframe tbody tr th {\n",
       "        vertical-align: top;\n",
       "    }\n",
       "\n",
       "    .dataframe thead th {\n",
       "        text-align: right;\n",
       "    }\n",
       "</style>\n",
       "<table border=\"1\" class=\"dataframe\">\n",
       "  <thead>\n",
       "    <tr style=\"text-align: right;\">\n",
       "      <th></th>\n",
       "      <th></th>\n",
       "      <th>timestamp</th>\n",
       "      <th>duration</th>\n",
       "      <th>iterations</th>\n",
       "      <th>negative_log_likelihood</th>\n",
       "      <th>objective</th>\n",
       "    </tr>\n",
       "  </thead>\n",
       "  <tbody>\n",
       "    <tr>\n",
       "      <th>0</th>\n",
       "      <td></td>\n",
       "      <td>2019-08-25 17:16:56</td>\n",
       "      <td>0.000 sec</td>\n",
       "      <td>0</td>\n",
       "      <td>435505.045645</td>\n",
       "      <td>199.589847</td>\n",
       "    </tr>\n",
       "    <tr>\n",
       "      <th>1</th>\n",
       "      <td></td>\n",
       "      <td>2019-08-25 17:16:56</td>\n",
       "      <td>0.020 sec</td>\n",
       "      <td>1</td>\n",
       "      <td>210276.874695</td>\n",
       "      <td>96.368870</td>\n",
       "    </tr>\n",
       "    <tr>\n",
       "      <th>2</th>\n",
       "      <td></td>\n",
       "      <td>2019-08-25 17:16:56</td>\n",
       "      <td>0.024 sec</td>\n",
       "      <td>2</td>\n",
       "      <td>134559.405037</td>\n",
       "      <td>61.667922</td>\n",
       "    </tr>\n",
       "    <tr>\n",
       "      <th>3</th>\n",
       "      <td></td>\n",
       "      <td>2019-08-25 17:16:56</td>\n",
       "      <td>0.032 sec</td>\n",
       "      <td>3</td>\n",
       "      <td>116149.265044</td>\n",
       "      <td>53.230644</td>\n",
       "    </tr>\n",
       "    <tr>\n",
       "      <th>4</th>\n",
       "      <td></td>\n",
       "      <td>2019-08-25 17:16:56</td>\n",
       "      <td>0.036 sec</td>\n",
       "      <td>4</td>\n",
       "      <td>116021.815340</td>\n",
       "      <td>53.172234</td>\n",
       "    </tr>\n",
       "    <tr>\n",
       "      <th>5</th>\n",
       "      <td></td>\n",
       "      <td>2019-08-25 17:16:56</td>\n",
       "      <td>0.036 sec</td>\n",
       "      <td>5</td>\n",
       "      <td>116021.687708</td>\n",
       "      <td>53.172176</td>\n",
       "    </tr>\n",
       "    <tr>\n",
       "      <th>6</th>\n",
       "      <td></td>\n",
       "      <td>2019-08-25 17:16:56</td>\n",
       "      <td>0.040 sec</td>\n",
       "      <td>6</td>\n",
       "      <td>116021.687707</td>\n",
       "      <td>53.172176</td>\n",
       "    </tr>\n",
       "  </tbody>\n",
       "</table>\n",
       "</div>"
      ],
      "text/plain": [
       "               timestamp    duration  iterations  negative_log_likelihood  \\\n",
       "0    2019-08-25 17:16:56   0.000 sec           0            435505.045645   \n",
       "1    2019-08-25 17:16:56   0.020 sec           1            210276.874695   \n",
       "2    2019-08-25 17:16:56   0.024 sec           2            134559.405037   \n",
       "3    2019-08-25 17:16:56   0.032 sec           3            116149.265044   \n",
       "4    2019-08-25 17:16:56   0.036 sec           4            116021.815340   \n",
       "5    2019-08-25 17:16:56   0.036 sec           5            116021.687708   \n",
       "6    2019-08-25 17:16:56   0.040 sec           6            116021.687707   \n",
       "\n",
       "    objective  \n",
       "0  199.589847  \n",
       "1   96.368870  \n",
       "2   61.667922  \n",
       "3   53.230644  \n",
       "4   53.172234  \n",
       "5   53.172176  \n",
       "6   53.172176  "
      ]
     },
     "metadata": {},
     "output_type": "display_data"
    },
    {
     "name": "stdout",
     "output_type": "stream",
     "text": [
      "\n"
     ]
    }
   ],
   "source": [
    "print(poisson_fit)"
   ]
  },
  {
   "cell_type": "code",
   "execution_count": 51,
   "metadata": {},
   "outputs": [
    {
     "name": "stdout",
     "output_type": "stream",
     "text": [
      "{'Intercept': 2.5822368526491166, 'Kilometres': -0.24677600908636968, 'Zone': -0.11876052909495259, 'Bonus': 0.13082512307229846, 'Make': 0.23191707139739182, 'Insured': -5.4928746201778095e-05, 'Payment': 5.931233707518411e-07}\n"
     ]
    }
   ],
   "source": [
    "# Coefficients that can be applied to the non-standardized data.\n",
    "print(poisson_fit.coef())"
   ]
  },
  {
   "cell_type": "code",
   "execution_count": 54,
   "metadata": {},
   "outputs": [
    {
     "name": "stdout",
     "output_type": "stream",
     "text": [
      "{'Intercept': 3.1493060536896644, 'Kilometres': -0.34805500760017394, 'Zone': -0.23619777023063776, 'Bonus': 0.2617177331962081, 'Make': 0.5999562800377105, 'Insured': -0.31096021457458406, 'Payment': 0.6033740762065506}\n"
     ]
    }
   ],
   "source": [
    "# Coefficients fitted on the standardized data (requires standardize = True, which is on by default)\n",
    "print(poisson_fit.coef_norm())"
   ]
  },
  {
   "cell_type": "code",
   "execution_count": 55,
   "metadata": {},
   "outputs": [
    {
     "name": "stdout",
     "output_type": "stream",
     "text": [
      "\n",
      "Coefficients: glm coefficients\n"
     ]
    },
    {
     "data": {
      "text/html": [
       "<div>\n",
       "<style scoped>\n",
       "    .dataframe tbody tr th:only-of-type {\n",
       "        vertical-align: middle;\n",
       "    }\n",
       "\n",
       "    .dataframe tbody tr th {\n",
       "        vertical-align: top;\n",
       "    }\n",
       "\n",
       "    .dataframe thead th {\n",
       "        text-align: right;\n",
       "    }\n",
       "</style>\n",
       "<table border=\"1\" class=\"dataframe\">\n",
       "  <thead>\n",
       "    <tr style=\"text-align: right;\">\n",
       "      <th></th>\n",
       "      <th>names</th>\n",
       "      <th>coefficients</th>\n",
       "      <th>std_error</th>\n",
       "      <th>z_value</th>\n",
       "      <th>p_value</th>\n",
       "      <th>standardized_coefficients</th>\n",
       "    </tr>\n",
       "  </thead>\n",
       "  <tbody>\n",
       "    <tr>\n",
       "      <th>0</th>\n",
       "      <td>Intercept</td>\n",
       "      <td>2.582237e+00</td>\n",
       "      <td>1.604723e-02</td>\n",
       "      <td>160.914793</td>\n",
       "      <td>0.0</td>\n",
       "      <td>3.149306</td>\n",
       "    </tr>\n",
       "    <tr>\n",
       "      <th>1</th>\n",
       "      <td>Kilometres</td>\n",
       "      <td>-2.467760e-01</td>\n",
       "      <td>2.602166e-03</td>\n",
       "      <td>-94.834829</td>\n",
       "      <td>0.0</td>\n",
       "      <td>-0.348055</td>\n",
       "    </tr>\n",
       "    <tr>\n",
       "      <th>2</th>\n",
       "      <td>Zone</td>\n",
       "      <td>-1.187605e-01</td>\n",
       "      <td>1.829220e-03</td>\n",
       "      <td>-64.924142</td>\n",
       "      <td>0.0</td>\n",
       "      <td>-0.236198</td>\n",
       "    </tr>\n",
       "    <tr>\n",
       "      <th>3</th>\n",
       "      <td>Bonus</td>\n",
       "      <td>1.308251e-01</td>\n",
       "      <td>1.598831e-03</td>\n",
       "      <td>81.825491</td>\n",
       "      <td>0.0</td>\n",
       "      <td>0.261718</td>\n",
       "    </tr>\n",
       "    <tr>\n",
       "      <th>4</th>\n",
       "      <td>Make</td>\n",
       "      <td>2.319171e-01</td>\n",
       "      <td>1.655148e-03</td>\n",
       "      <td>140.118597</td>\n",
       "      <td>0.0</td>\n",
       "      <td>0.599956</td>\n",
       "    </tr>\n",
       "    <tr>\n",
       "      <th>5</th>\n",
       "      <td>Insured</td>\n",
       "      <td>-5.492875e-05</td>\n",
       "      <td>3.562449e-07</td>\n",
       "      <td>-154.188166</td>\n",
       "      <td>0.0</td>\n",
       "      <td>-0.310960</td>\n",
       "    </tr>\n",
       "    <tr>\n",
       "      <th>6</th>\n",
       "      <td>Payment</td>\n",
       "      <td>5.931234e-07</td>\n",
       "      <td>2.280965e-09</td>\n",
       "      <td>260.031722</td>\n",
       "      <td>0.0</td>\n",
       "      <td>0.603374</td>\n",
       "    </tr>\n",
       "  </tbody>\n",
       "</table>\n",
       "</div>"
      ],
      "text/plain": [
       "        names  coefficients     std_error     z_value  p_value  \\\n",
       "0   Intercept  2.582237e+00  1.604723e-02  160.914793      0.0   \n",
       "1  Kilometres -2.467760e-01  2.602166e-03  -94.834829      0.0   \n",
       "2        Zone -1.187605e-01  1.829220e-03  -64.924142      0.0   \n",
       "3       Bonus  1.308251e-01  1.598831e-03   81.825491      0.0   \n",
       "4        Make  2.319171e-01  1.655148e-03  140.118597      0.0   \n",
       "5     Insured -5.492875e-05  3.562449e-07 -154.188166      0.0   \n",
       "6     Payment  5.931234e-07  2.280965e-09  260.031722      0.0   \n",
       "\n",
       "   standardized_coefficients  \n",
       "0                   3.149306  \n",
       "1                  -0.348055  \n",
       "2                  -0.236198  \n",
       "3                   0.261718  \n",
       "4                   0.599956  \n",
       "5                  -0.310960  \n",
       "6                   0.603374  "
      ]
     },
     "metadata": {},
     "output_type": "display_data"
    },
    {
     "data": {
      "text/plain": []
     },
     "execution_count": 55,
     "metadata": {},
     "output_type": "execute_result"
    }
   ],
   "source": [
    "# Print the Coefficients table\n",
    "poisson_fit._model_json['output']['coefficients_table']"
   ]
  },
  {
   "cell_type": "code",
   "execution_count": 59,
   "metadata": {},
   "outputs": [
    {
     "name": "stderr",
     "output_type": "stream",
     "text": [
      "C:\\Users\\Hassan\\AppData\\Roaming\\Python\\Python36\\site-packages\\matplotlib\\cbook\\__init__.py:424: MatplotlibDeprecationWarning: \n",
      "Passing one of 'on', 'true', 'off', 'false' as a boolean is deprecated; use an actual boolean (True/False) instead.\n",
      "  warn_deprecated(\"2.2\", \"Passing one of 'on', 'true', 'off', 'false' as a \"\n",
      "C:\\Users\\Hassan\\AppData\\Roaming\\Python\\Python36\\site-packages\\matplotlib\\cbook\\__init__.py:424: MatplotlibDeprecationWarning: \n",
      "Passing one of 'on', 'true', 'off', 'false' as a boolean is deprecated; use an actual boolean (True/False) instead.\n",
      "  warn_deprecated(\"2.2\", \"Passing one of 'on', 'true', 'off', 'false' as a \"\n",
      "C:\\Users\\Hassan\\AppData\\Roaming\\Python\\Python36\\site-packages\\matplotlib\\cbook\\__init__.py:424: MatplotlibDeprecationWarning: \n",
      "Passing one of 'on', 'true', 'off', 'false' as a boolean is deprecated; use an actual boolean (True/False) instead.\n",
      "  warn_deprecated(\"2.2\", \"Passing one of 'on', 'true', 'off', 'false' as a \"\n"
     ]
    },
    {
     "data": {
      "image/png": "[encoded data removed]",
      "text/plain": [
       "<Figure size 1008x720 with 1 Axes>"
      ]
     },
     "metadata": {},
     "output_type": "display_data"
    }
   ],
   "source": [
    "# Retrieve a graphical plot of the standardized coefficient magnitudes\n",
    "poisson_fit.std_coef_plot()"
   ]
  },
  {
   "cell_type": "markdown",
   "metadata": {},
   "source": [
    "# 8)- Gamma Models\n",
    "\n",
    "The gamma distribution is useful for modeling a positive continuous response variable, where the conditional variance of the response grows with its mean but the coeﬃcient of variation of the response σ2(yi)/µi is constant. It is usually used with the log link g(µi) = log(µi), or the inverse link g(µi) = 1 µi which is equivalent to the canonical link"
   ]
  },
  {
   "cell_type": "code",
   "execution_count": 60,
   "metadata": {
    "scrolled": true
   },
   "outputs": [
    {
     "name": "stdout",
     "output_type": "stream",
     "text": [
      "Parse progress: |█████████████████████████████████████████████████████████| 100%\n"
     ]
    }
   ],
   "source": [
    " h2o_df = h2o.import_file(\"http://h2o-public-test-data.s3.amazonaws.com/smalldata/prostate/prostate.csv\") "
   ]
  },
  {
   "cell_type": "code",
   "execution_count": 61,
   "metadata": {},
   "outputs": [
    {
     "data": {
      "text/html": [
       "<table>\n",
       "<thead>\n",
       "<tr><th style=\"text-align: right;\">  ID</th><th style=\"text-align: right;\">  CAPSULE</th><th style=\"text-align: right;\">  AGE</th><th style=\"text-align: right;\">  RACE</th><th style=\"text-align: right;\">  DPROS</th><th style=\"text-align: right;\">  DCAPS</th><th style=\"text-align: right;\">  PSA</th><th style=\"text-align: right;\">  VOL</th><th style=\"text-align: right;\">  GLEASON</th></tr>\n",
       "</thead>\n",
       "<tbody>\n",
       "<tr><td style=\"text-align: right;\">   1</td><td style=\"text-align: right;\">        0</td><td style=\"text-align: right;\">   65</td><td style=\"text-align: right;\">     1</td><td style=\"text-align: right;\">      2</td><td style=\"text-align: right;\">      1</td><td style=\"text-align: right;\">  1.4</td><td style=\"text-align: right;\">  0  </td><td style=\"text-align: right;\">        6</td></tr>\n",
       "<tr><td style=\"text-align: right;\">   2</td><td style=\"text-align: right;\">        0</td><td style=\"text-align: right;\">   72</td><td style=\"text-align: right;\">     1</td><td style=\"text-align: right;\">      3</td><td style=\"text-align: right;\">      2</td><td style=\"text-align: right;\">  6.7</td><td style=\"text-align: right;\">  0  </td><td style=\"text-align: right;\">        7</td></tr>\n",
       "<tr><td style=\"text-align: right;\">   3</td><td style=\"text-align: right;\">        0</td><td style=\"text-align: right;\">   70</td><td style=\"text-align: right;\">     1</td><td style=\"text-align: right;\">      1</td><td style=\"text-align: right;\">      2</td><td style=\"text-align: right;\">  4.9</td><td style=\"text-align: right;\">  0  </td><td style=\"text-align: right;\">        6</td></tr>\n",
       "<tr><td style=\"text-align: right;\">   4</td><td style=\"text-align: right;\">        0</td><td style=\"text-align: right;\">   76</td><td style=\"text-align: right;\">     2</td><td style=\"text-align: right;\">      2</td><td style=\"text-align: right;\">      1</td><td style=\"text-align: right;\"> 51.2</td><td style=\"text-align: right;\"> 20  </td><td style=\"text-align: right;\">        7</td></tr>\n",
       "<tr><td style=\"text-align: right;\">   5</td><td style=\"text-align: right;\">        0</td><td style=\"text-align: right;\">   69</td><td style=\"text-align: right;\">     1</td><td style=\"text-align: right;\">      1</td><td style=\"text-align: right;\">      1</td><td style=\"text-align: right;\"> 12.3</td><td style=\"text-align: right;\"> 55.9</td><td style=\"text-align: right;\">        6</td></tr>\n",
       "<tr><td style=\"text-align: right;\">   6</td><td style=\"text-align: right;\">        1</td><td style=\"text-align: right;\">   71</td><td style=\"text-align: right;\">     1</td><td style=\"text-align: right;\">      3</td><td style=\"text-align: right;\">      2</td><td style=\"text-align: right;\">  3.3</td><td style=\"text-align: right;\">  0  </td><td style=\"text-align: right;\">        8</td></tr>\n",
       "<tr><td style=\"text-align: right;\">   7</td><td style=\"text-align: right;\">        0</td><td style=\"text-align: right;\">   68</td><td style=\"text-align: right;\">     2</td><td style=\"text-align: right;\">      4</td><td style=\"text-align: right;\">      2</td><td style=\"text-align: right;\"> 31.9</td><td style=\"text-align: right;\">  0  </td><td style=\"text-align: right;\">        7</td></tr>\n",
       "<tr><td style=\"text-align: right;\">   8</td><td style=\"text-align: right;\">        0</td><td style=\"text-align: right;\">   61</td><td style=\"text-align: right;\">     2</td><td style=\"text-align: right;\">      4</td><td style=\"text-align: right;\">      2</td><td style=\"text-align: right;\"> 66.7</td><td style=\"text-align: right;\"> 27.2</td><td style=\"text-align: right;\">        7</td></tr>\n",
       "<tr><td style=\"text-align: right;\">   9</td><td style=\"text-align: right;\">        0</td><td style=\"text-align: right;\">   69</td><td style=\"text-align: right;\">     1</td><td style=\"text-align: right;\">      1</td><td style=\"text-align: right;\">      1</td><td style=\"text-align: right;\">  3.9</td><td style=\"text-align: right;\"> 24  </td><td style=\"text-align: right;\">        7</td></tr>\n",
       "<tr><td style=\"text-align: right;\">  10</td><td style=\"text-align: right;\">        0</td><td style=\"text-align: right;\">   68</td><td style=\"text-align: right;\">     2</td><td style=\"text-align: right;\">      1</td><td style=\"text-align: right;\">      2</td><td style=\"text-align: right;\"> 13  </td><td style=\"text-align: right;\">  0  </td><td style=\"text-align: right;\">        6</td></tr>\n",
       "</tbody>\n",
       "</table>"
      ]
     },
     "metadata": {},
     "output_type": "display_data"
    },
    {
     "data": {
      "text/plain": []
     },
     "execution_count": 61,
     "metadata": {},
     "output_type": "execute_result"
    }
   ],
   "source": [
    " h2o_df.head()"
   ]
  },
  {
   "cell_type": "code",
   "execution_count": 62,
   "metadata": {},
   "outputs": [
    {
     "name": "stdout",
     "output_type": "stream",
     "text": [
      "glm Model Build progress: |███████████████████████████████████████████████| 100%\n"
     ]
    }
   ],
   "source": [
    "gamma_inverse = H2OGeneralizedLinearEstimator(family = \"gamma\", link = \"inverse\") \n",
    "gamma_inverse.train(y = \"DPROS\", x = [\"AGE\",\"RACE\",\"CAPSULE\",\"DCAPS\",\"PSA\",\"VOL\"], training_frame = h2o_df) "
   ]
  },
  {
   "cell_type": "code",
   "execution_count": 63,
   "metadata": {},
   "outputs": [
    {
     "name": "stdout",
     "output_type": "stream",
     "text": [
      "Model Details\n",
      "=============\n",
      "H2OGeneralizedLinearEstimator :  Generalized Linear Modeling\n",
      "Model Key:  GLM_model_python_1566744124179_21\n",
      "\n",
      "\n",
      "GLM Model: summary\n"
     ]
    },
    {
     "data": {
      "text/html": [
       "<div>\n",
       "<style scoped>\n",
       "    .dataframe tbody tr th:only-of-type {\n",
       "        vertical-align: middle;\n",
       "    }\n",
       "\n",
       "    .dataframe tbody tr th {\n",
       "        vertical-align: top;\n",
       "    }\n",
       "\n",
       "    .dataframe thead th {\n",
       "        text-align: right;\n",
       "    }\n",
       "</style>\n",
       "<table border=\"1\" class=\"dataframe\">\n",
       "  <thead>\n",
       "    <tr style=\"text-align: right;\">\n",
       "      <th></th>\n",
       "      <th></th>\n",
       "      <th>family</th>\n",
       "      <th>link</th>\n",
       "      <th>regularization</th>\n",
       "      <th>number_of_predictors_total</th>\n",
       "      <th>number_of_active_predictors</th>\n",
       "      <th>number_of_iterations</th>\n",
       "      <th>training_frame</th>\n",
       "    </tr>\n",
       "  </thead>\n",
       "  <tbody>\n",
       "    <tr>\n",
       "      <th>0</th>\n",
       "      <td></td>\n",
       "      <td>gamma</td>\n",
       "      <td>inverse</td>\n",
       "      <td>Elastic Net (alpha = 0.5, lambda = 6.487E-4 )</td>\n",
       "      <td>6</td>\n",
       "      <td>6</td>\n",
       "      <td>4</td>\n",
       "      <td>Key_Frame__http___h2o_public_test_data_s3_amazonaws_com_smalldata_...</td>\n",
       "    </tr>\n",
       "  </tbody>\n",
       "</table>\n",
       "</div>"
      ],
      "text/plain": [
       "    family     link                                 regularization  \\\n",
       "0    gamma  inverse  Elastic Net (alpha = 0.5, lambda = 6.487E-4 )   \n",
       "\n",
       "   number_of_predictors_total number_of_active_predictors  \\\n",
       "0                           6                           6   \n",
       "\n",
       "   number_of_iterations  \\\n",
       "0                     4   \n",
       "\n",
       "                                                          training_frame  \n",
       "0  Key_Frame__http___h2o_public_test_data_s3_amazonaws_com_smalldata_...  "
      ]
     },
     "metadata": {},
     "output_type": "display_data"
    },
    {
     "name": "stdout",
     "output_type": "stream",
     "text": [
      "\n",
      "\n",
      "ModelMetricsRegressionGLM: glm\n",
      "** Reported on train data. **\n",
      "\n",
      "MSE: 0.8504941247611986\n",
      "RMSE: 0.9222223835719878\n",
      "MAE: 0.7474276673746836\n",
      "RMSLE: 0.2947746367172999\n",
      "R^2: 0.14744533800170045\n",
      "Mean Residual Deviance: 0.19097946110478994\n",
      "Null degrees of freedom: 379\n",
      "Residual degrees of freedom: 373\n",
      "Null deviance: 82.5133957850665\n",
      "Residual deviance: 72.57219521982017\n",
      "AIC: NaN\n",
      "\n",
      "Scoring History: "
     ]
    },
    {
     "data": {
      "text/html": [
       "<div>\n",
       "<style scoped>\n",
       "    .dataframe tbody tr th:only-of-type {\n",
       "        vertical-align: middle;\n",
       "    }\n",
       "\n",
       "    .dataframe tbody tr th {\n",
       "        vertical-align: top;\n",
       "    }\n",
       "\n",
       "    .dataframe thead th {\n",
       "        text-align: right;\n",
       "    }\n",
       "</style>\n",
       "<table border=\"1\" class=\"dataframe\">\n",
       "  <thead>\n",
       "    <tr style=\"text-align: right;\">\n",
       "      <th></th>\n",
       "      <th></th>\n",
       "      <th>timestamp</th>\n",
       "      <th>duration</th>\n",
       "      <th>iterations</th>\n",
       "      <th>negative_log_likelihood</th>\n",
       "      <th>objective</th>\n",
       "    </tr>\n",
       "  </thead>\n",
       "  <tbody>\n",
       "    <tr>\n",
       "      <th>0</th>\n",
       "      <td></td>\n",
       "      <td>2019-08-25 17:25:02</td>\n",
       "      <td>0.000 sec</td>\n",
       "      <td>0</td>\n",
       "      <td>82.513396</td>\n",
       "      <td>0.217141</td>\n",
       "    </tr>\n",
       "    <tr>\n",
       "      <th>1</th>\n",
       "      <td></td>\n",
       "      <td>2019-08-25 17:25:02</td>\n",
       "      <td>0.004 sec</td>\n",
       "      <td>1</td>\n",
       "      <td>73.535954</td>\n",
       "      <td>0.193554</td>\n",
       "    </tr>\n",
       "    <tr>\n",
       "      <th>2</th>\n",
       "      <td></td>\n",
       "      <td>2019-08-25 17:25:02</td>\n",
       "      <td>0.004 sec</td>\n",
       "      <td>2</td>\n",
       "      <td>72.594841</td>\n",
       "      <td>0.191073</td>\n",
       "    </tr>\n",
       "    <tr>\n",
       "      <th>3</th>\n",
       "      <td></td>\n",
       "      <td>2019-08-25 17:25:02</td>\n",
       "      <td>0.004 sec</td>\n",
       "      <td>3</td>\n",
       "      <td>72.572201</td>\n",
       "      <td>0.191013</td>\n",
       "    </tr>\n",
       "    <tr>\n",
       "      <th>4</th>\n",
       "      <td></td>\n",
       "      <td>2019-08-25 17:25:02</td>\n",
       "      <td>0.004 sec</td>\n",
       "      <td>4</td>\n",
       "      <td>72.572195</td>\n",
       "      <td>0.191013</td>\n",
       "    </tr>\n",
       "  </tbody>\n",
       "</table>\n",
       "</div>"
      ],
      "text/plain": [
       "               timestamp    duration  iterations  negative_log_likelihood  \\\n",
       "0    2019-08-25 17:25:02   0.000 sec           0                82.513396   \n",
       "1    2019-08-25 17:25:02   0.004 sec           1                73.535954   \n",
       "2    2019-08-25 17:25:02   0.004 sec           2                72.594841   \n",
       "3    2019-08-25 17:25:02   0.004 sec           3                72.572201   \n",
       "4    2019-08-25 17:25:02   0.004 sec           4                72.572195   \n",
       "\n",
       "   objective  \n",
       "0   0.217141  \n",
       "1   0.193554  \n",
       "2   0.191073  \n",
       "3   0.191013  \n",
       "4   0.191013  "
      ]
     },
     "metadata": {},
     "output_type": "display_data"
    },
    {
     "name": "stdout",
     "output_type": "stream",
     "text": [
      "\n"
     ]
    }
   ],
   "source": [
    "print(gamma_inverse)"
   ]
  },
  {
   "cell_type": "code",
   "execution_count": 64,
   "metadata": {},
   "outputs": [
    {
     "name": "stdout",
     "output_type": "stream",
     "text": [
      "glm Model Build progress: |███████████████████████████████████████████████| 100%\n"
     ]
    }
   ],
   "source": [
    "gamma_log = H2OGeneralizedLinearEstimator(family = \" gamma\", link = \"log\") \n",
    "gamma_log.train(y=\"DPROS\", x = [\"AGE\",\"RACE\",\"CAPSULE\" ,\"DCAPS\",\"PSA\",\"VOL\"], training_frame = h2o_df)"
   ]
  },
  {
   "cell_type": "code",
   "execution_count": 65,
   "metadata": {},
   "outputs": [
    {
     "name": "stdout",
     "output_type": "stream",
     "text": [
      "Model Details\n",
      "=============\n",
      "H2OGeneralizedLinearEstimator :  Generalized Linear Modeling\n",
      "Model Key:  GLM_model_python_1566744124179_22\n",
      "\n",
      "\n",
      "GLM Model: summary\n"
     ]
    },
    {
     "data": {
      "text/html": [
       "<div>\n",
       "<style scoped>\n",
       "    .dataframe tbody tr th:only-of-type {\n",
       "        vertical-align: middle;\n",
       "    }\n",
       "\n",
       "    .dataframe tbody tr th {\n",
       "        vertical-align: top;\n",
       "    }\n",
       "\n",
       "    .dataframe thead th {\n",
       "        text-align: right;\n",
       "    }\n",
       "</style>\n",
       "<table border=\"1\" class=\"dataframe\">\n",
       "  <thead>\n",
       "    <tr style=\"text-align: right;\">\n",
       "      <th></th>\n",
       "      <th></th>\n",
       "      <th>family</th>\n",
       "      <th>link</th>\n",
       "      <th>regularization</th>\n",
       "      <th>number_of_predictors_total</th>\n",
       "      <th>number_of_active_predictors</th>\n",
       "      <th>number_of_iterations</th>\n",
       "      <th>training_frame</th>\n",
       "    </tr>\n",
       "  </thead>\n",
       "  <tbody>\n",
       "    <tr>\n",
       "      <th>0</th>\n",
       "      <td></td>\n",
       "      <td>gamma</td>\n",
       "      <td>log</td>\n",
       "      <td>Elastic Net (alpha = 0.5, lambda = 2.857E-4 )</td>\n",
       "      <td>6</td>\n",
       "      <td>6</td>\n",
       "      <td>3</td>\n",
       "      <td>Key_Frame__http___h2o_public_test_data_s3_amazonaws_com_smalldata_...</td>\n",
       "    </tr>\n",
       "  </tbody>\n",
       "</table>\n",
       "</div>"
      ],
      "text/plain": [
       "    family link                                 regularization  \\\n",
       "0    gamma  log  Elastic Net (alpha = 0.5, lambda = 2.857E-4 )   \n",
       "\n",
       "   number_of_predictors_total number_of_active_predictors  \\\n",
       "0                           6                           6   \n",
       "\n",
       "   number_of_iterations  \\\n",
       "0                     3   \n",
       "\n",
       "                                                          training_frame  \n",
       "0  Key_Frame__http___h2o_public_test_data_s3_amazonaws_com_smalldata_...  "
      ]
     },
     "metadata": {},
     "output_type": "display_data"
    },
    {
     "name": "stdout",
     "output_type": "stream",
     "text": [
      "\n",
      "\n",
      "ModelMetricsRegressionGLM: glm\n",
      "** Reported on train data. **\n",
      "\n",
      "MSE: 0.850421340023459\n",
      "RMSE: 0.9221829211297827\n",
      "MAE: 0.7498332179466439\n",
      "RMSLE: 0.29472643736366855\n",
      "R^2: 0.14751829907888558\n",
      "Mean Residual Deviance: 0.19078203653382134\n",
      "Null degrees of freedom: 379\n",
      "Residual degrees of freedom: 373\n",
      "Null deviance: 82.5133957850665\n",
      "Residual deviance: 72.49717388285211\n",
      "AIC: NaN\n",
      "\n",
      "Scoring History: "
     ]
    },
    {
     "data": {
      "text/html": [
       "<div>\n",
       "<style scoped>\n",
       "    .dataframe tbody tr th:only-of-type {\n",
       "        vertical-align: middle;\n",
       "    }\n",
       "\n",
       "    .dataframe tbody tr th {\n",
       "        vertical-align: top;\n",
       "    }\n",
       "\n",
       "    .dataframe thead th {\n",
       "        text-align: right;\n",
       "    }\n",
       "</style>\n",
       "<table border=\"1\" class=\"dataframe\">\n",
       "  <thead>\n",
       "    <tr style=\"text-align: right;\">\n",
       "      <th></th>\n",
       "      <th></th>\n",
       "      <th>timestamp</th>\n",
       "      <th>duration</th>\n",
       "      <th>iterations</th>\n",
       "      <th>negative_log_likelihood</th>\n",
       "      <th>objective</th>\n",
       "    </tr>\n",
       "  </thead>\n",
       "  <tbody>\n",
       "    <tr>\n",
       "      <th>0</th>\n",
       "      <td></td>\n",
       "      <td>2019-08-25 17:25:35</td>\n",
       "      <td>0.000 sec</td>\n",
       "      <td>0</td>\n",
       "      <td>82.513396</td>\n",
       "      <td>0.217141</td>\n",
       "    </tr>\n",
       "    <tr>\n",
       "      <th>1</th>\n",
       "      <td></td>\n",
       "      <td>2019-08-25 17:25:35</td>\n",
       "      <td>0.000 sec</td>\n",
       "      <td>1</td>\n",
       "      <td>72.664152</td>\n",
       "      <td>0.191261</td>\n",
       "    </tr>\n",
       "    <tr>\n",
       "      <th>2</th>\n",
       "      <td></td>\n",
       "      <td>2019-08-25 17:25:35</td>\n",
       "      <td>0.000 sec</td>\n",
       "      <td>2</td>\n",
       "      <td>72.497246</td>\n",
       "      <td>0.190819</td>\n",
       "    </tr>\n",
       "    <tr>\n",
       "      <th>3</th>\n",
       "      <td></td>\n",
       "      <td>2019-08-25 17:25:35</td>\n",
       "      <td>0.000 sec</td>\n",
       "      <td>3</td>\n",
       "      <td>72.497174</td>\n",
       "      <td>0.190819</td>\n",
       "    </tr>\n",
       "  </tbody>\n",
       "</table>\n",
       "</div>"
      ],
      "text/plain": [
       "               timestamp    duration  iterations  negative_log_likelihood  \\\n",
       "0    2019-08-25 17:25:35   0.000 sec           0                82.513396   \n",
       "1    2019-08-25 17:25:35   0.000 sec           1                72.664152   \n",
       "2    2019-08-25 17:25:35   0.000 sec           2                72.497246   \n",
       "3    2019-08-25 17:25:35   0.000 sec           3                72.497174   \n",
       "\n",
       "   objective  \n",
       "0   0.217141  \n",
       "1   0.191261  \n",
       "2   0.190819  \n",
       "3   0.190819  "
      ]
     },
     "metadata": {},
     "output_type": "display_data"
    },
    {
     "name": "stdout",
     "output_type": "stream",
     "text": [
      "\n"
     ]
    }
   ],
   "source": [
    "print(gamma_log)"
   ]
  },
  {
   "cell_type": "markdown",
   "metadata": {},
   "source": [
    "# 9)- Tweedie Models\n",
    "Tweedie distributions are a family of distributions which include gamma, normal, Poisson and their combination. It is especially useful for modeling positive continuous variables with exact zeros. The variance of the Tweedie distribution is proportional to the p-th power of the mean var(yi) = φµp i "
   ]
  },
  {
   "cell_type": "code",
   "execution_count": 66,
   "metadata": {},
   "outputs": [
    {
     "name": "stdout",
     "output_type": "stream",
     "text": [
      "Parse progress: |█████████████████████████████████████████████████████████| 100%\n"
     ]
    },
    {
     "data": {
      "text/plain": [
       "(2812, 57)"
      ]
     },
     "execution_count": 66,
     "metadata": {},
     "output_type": "execute_result"
    }
   ],
   "source": [
    "h2o_df = h2o.import_file(\"http://h2o-public-test-data.s3.amazonaws.com/smalldata/glm_test/auto.csv\") \n",
    "h2o_df.shape"
   ]
  },
  {
   "cell_type": "code",
   "execution_count": 67,
   "metadata": {},
   "outputs": [
    {
     "data": {
      "text/html": [
       "<table>\n",
       "<thead>\n",
       "<tr><th style=\"text-align: right;\">     y</th><th style=\"text-align: right;\">  x.CAR_TYPE_2</th><th style=\"text-align: right;\">  x.CAR_TYPE_3</th><th style=\"text-align: right;\">  x.CAR_TYPE_4</th><th style=\"text-align: right;\">  x.CAR_TYPE_5</th><th style=\"text-align: right;\">  x.CAR_TYPE_6</th><th style=\"text-align: right;\">  x.JOBCLASS_3</th><th style=\"text-align: right;\">  x.JOBCLASS_4</th><th style=\"text-align: right;\">  x.JOBCLASS_5</th><th style=\"text-align: right;\">  x.JOBCLASS_6</th><th style=\"text-align: right;\">  x.JOBCLASS_7</th><th style=\"text-align: right;\">  x.JOBCLASS_8</th><th style=\"text-align: right;\">  x.JOBCLASS_9</th><th style=\"text-align: right;\">  x.MAX_EDUC_2</th><th style=\"text-align: right;\">  x.MAX_EDUC_3</th><th style=\"text-align: right;\">  x.MAX_EDUC_4</th><th style=\"text-align: right;\">  x.MAX_EDUC_5</th><th style=\"text-align: right;\">  x.KIDSDRIV</th><th style=\"text-align: right;\">  x.KIDSDRIV2</th><th style=\"text-align: right;\">  x.KIDSDRIV3</th><th style=\"text-align: right;\">  x.TRAVTIME</th><th style=\"text-align: right;\">  x.TRAVTIME2</th><th style=\"text-align: right;\">  x.TRAVTIME3</th><th style=\"text-align: right;\">  x.BLUEBOOK</th><th style=\"text-align: right;\">  x.BLUEBOOK2</th><th style=\"text-align: right;\">  x.BLUEBOOK3</th><th style=\"text-align: right;\">  x.NPOLICY</th><th style=\"text-align: right;\">  x.NPOLICY2</th><th style=\"text-align: right;\">  x.NPOLICY3</th><th style=\"text-align: right;\">  x.MVR_PTS</th><th style=\"text-align: right;\">  x.MVR_PTS2</th><th style=\"text-align: right;\">  x.MVR_PTS3</th><th style=\"text-align: right;\">     x.AGE</th><th style=\"text-align: right;\">    x.AGE2</th><th style=\"text-align: right;\">     x.AGE3</th><th style=\"text-align: right;\">  x.HOMEKIDS</th><th style=\"text-align: right;\">  x.HOMEKIDS2</th><th style=\"text-align: right;\">  x.HOMEKIDS3</th><th style=\"text-align: right;\">    x.YOJ</th><th style=\"text-align: right;\">    x.YOJ2</th><th style=\"text-align: right;\">    x.YOJ3</th><th style=\"text-align: right;\">  x.INCOME</th><th style=\"text-align: right;\">  x.INCOME2</th><th style=\"text-align: right;\">  x.INCOME3</th><th style=\"text-align: right;\">  x.HOME_VAL</th><th style=\"text-align: right;\">  x.HOME_VAL2</th><th style=\"text-align: right;\">  x.HOME_VAL3</th><th style=\"text-align: right;\">  x.SAMEHOME</th><th style=\"text-align: right;\">  x.SAMEHOME2</th><th style=\"text-align: right;\">  x.SAMEHOME3</th><th style=\"text-align: right;\">  x.CAR_USE</th><th style=\"text-align: right;\">  x.RED_CAR</th><th style=\"text-align: right;\">  x.REVOLKED</th><th style=\"text-align: right;\">  x.GENDER</th><th style=\"text-align: right;\">  x.MARRIED</th><th style=\"text-align: right;\">  x.PARENT1</th><th style=\"text-align: right;\">  x.AREA</th></tr>\n",
       "</thead>\n",
       "<tbody>\n",
       "<tr><td style=\"text-align: right;\"> 0    </td><td style=\"text-align: right;\">             0</td><td style=\"text-align: right;\">             1</td><td style=\"text-align: right;\">             0</td><td style=\"text-align: right;\">             0</td><td style=\"text-align: right;\">             0</td><td style=\"text-align: right;\">             0</td><td style=\"text-align: right;\">             0</td><td style=\"text-align: right;\">             0</td><td style=\"text-align: right;\">             0</td><td style=\"text-align: right;\">             0</td><td style=\"text-align: right;\">             0</td><td style=\"text-align: right;\">             0</td><td style=\"text-align: right;\">             0</td><td style=\"text-align: right;\">             1</td><td style=\"text-align: right;\">             0</td><td style=\"text-align: right;\">             0</td><td style=\"text-align: right;\">           0</td><td style=\"text-align: right;\">    -0.166667</td><td style=\"text-align: right;\">          0  </td><td style=\"text-align: right;\">  -0.748426 </td><td style=\"text-align: right;\">    0.113404 </td><td style=\"text-align: right;\">  0.0149158  </td><td style=\"text-align: right;\">    0.245566</td><td style=\"text-align: right;\">  -0.136515  </td><td style=\"text-align: right;\">   -0.0662657</td><td style=\"text-align: right;\">          1</td><td style=\"text-align: right;\">    0.333333</td><td style=\"text-align: right;\">         0.2</td><td style=\"text-align: right;\">          0</td><td style=\"text-align: right;\">   -0.166667</td><td style=\"text-align: right;\">         0  </td><td style=\"text-align: right;\">-0.208302 </td><td style=\"text-align: right;\">-0.144972 </td><td style=\"text-align: right;\"> 0.0579715 </td><td style=\"text-align: right;\">           0</td><td style=\"text-align: right;\">    -0.166667</td><td style=\"text-align: right;\">          0  </td><td style=\"text-align: right;\"> 0.163364</td><td style=\"text-align: right;\">-0.153323 </td><td style=\"text-align: right;\">-0.0468292</td><td style=\"text-align: right;\"> 0.550923 </td><td style=\"text-align: right;\"> -0.0149087</td><td style=\"text-align: right;\"> -0.0816699</td><td style=\"text-align: right;\">   0.870457 </td><td style=\"text-align: right;\">     0.212181</td><td style=\"text-align: right;\">   0.0686333 </td><td style=\"text-align: right;\">   -1.31032 </td><td style=\"text-align: right;\">    0.691805 </td><td style=\"text-align: right;\">   -0.731778 </td><td style=\"text-align: right;\">          1</td><td style=\"text-align: right;\">          1</td><td style=\"text-align: right;\">           0</td><td style=\"text-align: right;\">         1</td><td style=\"text-align: right;\">          0</td><td style=\"text-align: right;\">          0</td><td style=\"text-align: right;\">       1</td></tr>\n",
       "<tr><td style=\"text-align: right;\"> 0    </td><td style=\"text-align: right;\">             0</td><td style=\"text-align: right;\">             0</td><td style=\"text-align: right;\">             0</td><td style=\"text-align: right;\">             0</td><td style=\"text-align: right;\">             1</td><td style=\"text-align: right;\">             0</td><td style=\"text-align: right;\">             0</td><td style=\"text-align: right;\">             0</td><td style=\"text-align: right;\">             0</td><td style=\"text-align: right;\">             1</td><td style=\"text-align: right;\">             0</td><td style=\"text-align: right;\">             0</td><td style=\"text-align: right;\">             1</td><td style=\"text-align: right;\">             0</td><td style=\"text-align: right;\">             0</td><td style=\"text-align: right;\">             0</td><td style=\"text-align: right;\">           0</td><td style=\"text-align: right;\">    -0.166667</td><td style=\"text-align: right;\">          0  </td><td style=\"text-align: right;\">  -0.494449 </td><td style=\"text-align: right;\">   -0.0444265</td><td style=\"text-align: right;\">  0.0878933  </td><td style=\"text-align: right;\">    0.859051</td><td style=\"text-align: right;\">   0.202318  </td><td style=\"text-align: right;\">    0.0592613</td><td style=\"text-align: right;\">          1</td><td style=\"text-align: right;\">    0.333333</td><td style=\"text-align: right;\">         0.2</td><td style=\"text-align: right;\">          2</td><td style=\"text-align: right;\">    1.83333 </td><td style=\"text-align: right;\">         3.4</td><td style=\"text-align: right;\"> 0.37395  </td><td style=\"text-align: right;\">-0.0967475</td><td style=\"text-align: right;\">-0.0860386 </td><td style=\"text-align: right;\">           0</td><td style=\"text-align: right;\">    -0.166667</td><td style=\"text-align: right;\">          0  </td><td style=\"text-align: right;\"> 0.163364</td><td style=\"text-align: right;\">-0.153323 </td><td style=\"text-align: right;\">-0.0468292</td><td style=\"text-align: right;\"> 0.343051 </td><td style=\"text-align: right;\"> -0.107825 </td><td style=\"text-align: right;\"> -0.0827295</td><td style=\"text-align: right;\">  -1.22462  </td><td style=\"text-align: right;\">     0.583182</td><td style=\"text-align: right;\">  -0.550894  </td><td style=\"text-align: right;\">    0.382171</td><td style=\"text-align: right;\">   -0.0936392</td><td style=\"text-align: right;\">   -0.0867424</td><td style=\"text-align: right;\">          0</td><td style=\"text-align: right;\">          1</td><td style=\"text-align: right;\">           0</td><td style=\"text-align: right;\">         1</td><td style=\"text-align: right;\">          0</td><td style=\"text-align: right;\">          0</td><td style=\"text-align: right;\">       1</td></tr>\n",
       "<tr><td style=\"text-align: right;\">19.217</td><td style=\"text-align: right;\">             0</td><td style=\"text-align: right;\">             0</td><td style=\"text-align: right;\">             0</td><td style=\"text-align: right;\">             1</td><td style=\"text-align: right;\">             0</td><td style=\"text-align: right;\">             0</td><td style=\"text-align: right;\">             1</td><td style=\"text-align: right;\">             0</td><td style=\"text-align: right;\">             0</td><td style=\"text-align: right;\">             0</td><td style=\"text-align: right;\">             0</td><td style=\"text-align: right;\">             0</td><td style=\"text-align: right;\">             0</td><td style=\"text-align: right;\">             0</td><td style=\"text-align: right;\">             0</td><td style=\"text-align: right;\">             1</td><td style=\"text-align: right;\">           0</td><td style=\"text-align: right;\">    -0.166667</td><td style=\"text-align: right;\">          0  </td><td style=\"text-align: right;\">   0.140491 </td><td style=\"text-align: right;\">   -0.156798 </td><td style=\"text-align: right;\"> -0.0407607  </td><td style=\"text-align: right;\">    0.541987</td><td style=\"text-align: right;\">  -0.0197918 </td><td style=\"text-align: right;\">   -0.0829918</td><td style=\"text-align: right;\">          1</td><td style=\"text-align: right;\">    0.333333</td><td style=\"text-align: right;\">         0.2</td><td style=\"text-align: right;\">          3</td><td style=\"text-align: right;\">    4.33333 </td><td style=\"text-align: right;\">        12.6</td><td style=\"text-align: right;\"> 0.60685  </td><td style=\"text-align: right;\"> 0.017467 </td><td style=\"text-align: right;\">-0.0703135 </td><td style=\"text-align: right;\">           0</td><td style=\"text-align: right;\">    -0.166667</td><td style=\"text-align: right;\">          0  </td><td style=\"text-align: right;\"> 0       </td><td style=\"text-align: right;\">-0.166667 </td><td style=\"text-align: right;\"> 0        </td><td style=\"text-align: right;\"> 0.637846 </td><td style=\"text-align: right;\">  0.0367568</td><td style=\"text-align: right;\"> -0.0616009</td><td style=\"text-align: right;\">   0.761921 </td><td style=\"text-align: right;\">     0.123595</td><td style=\"text-align: right;\">  -0.00741991</td><td style=\"text-align: right;\">    1.69855 </td><td style=\"text-align: right;\">    1.27588  </td><td style=\"text-align: right;\">    1.94067  </td><td style=\"text-align: right;\">          0</td><td style=\"text-align: right;\">          0</td><td style=\"text-align: right;\">           1</td><td style=\"text-align: right;\">         0</td><td style=\"text-align: right;\">          1</td><td style=\"text-align: right;\">          0</td><td style=\"text-align: right;\">       1</td></tr>\n",
       "<tr><td style=\"text-align: right;\"> 0    </td><td style=\"text-align: right;\">             0</td><td style=\"text-align: right;\">             0</td><td style=\"text-align: right;\">             1</td><td style=\"text-align: right;\">             0</td><td style=\"text-align: right;\">             0</td><td style=\"text-align: right;\">             0</td><td style=\"text-align: right;\">             0</td><td style=\"text-align: right;\">             0</td><td style=\"text-align: right;\">             0</td><td style=\"text-align: right;\">             0</td><td style=\"text-align: right;\">             0</td><td style=\"text-align: right;\">             0</td><td style=\"text-align: right;\">             1</td><td style=\"text-align: right;\">             0</td><td style=\"text-align: right;\">             0</td><td style=\"text-align: right;\">             0</td><td style=\"text-align: right;\">           0</td><td style=\"text-align: right;\">    -0.166667</td><td style=\"text-align: right;\">          0  </td><td style=\"text-align: right;\">   0.775431 </td><td style=\"text-align: right;\">    0.13398  </td><td style=\"text-align: right;\">  0.000501297</td><td style=\"text-align: right;\">    0.490795</td><td style=\"text-align: right;\">  -0.0462266 </td><td style=\"text-align: right;\">   -0.0881272</td><td style=\"text-align: right;\">          1</td><td style=\"text-align: right;\">    0.333333</td><td style=\"text-align: right;\">         0.2</td><td style=\"text-align: right;\">          0</td><td style=\"text-align: right;\">   -0.166667</td><td style=\"text-align: right;\">         0  </td><td style=\"text-align: right;\">-1.25635  </td><td style=\"text-align: right;\"> 0.622547 </td><td style=\"text-align: right;\">-0.614626  </td><td style=\"text-align: right;\">           1</td><td style=\"text-align: right;\">     0.333333</td><td style=\"text-align: right;\">          0.2</td><td style=\"text-align: right;\"> 0.403223</td><td style=\"text-align: right;\">-0.0853724</td><td style=\"text-align: right;\">-0.0881871</td><td style=\"text-align: right;\"> 0.670451 </td><td style=\"text-align: right;\">  0.0580854</td><td style=\"text-align: right;\"> -0.05045  </td><td style=\"text-align: right;\">  -1.22462  </td><td style=\"text-align: right;\">     0.583182</td><td style=\"text-align: right;\">  -0.550894  </td><td style=\"text-align: right;\">   -0.181993</td><td style=\"text-align: right;\">   -0.150106 </td><td style=\"text-align: right;\">    0.051584 </td><td style=\"text-align: right;\">          1</td><td style=\"text-align: right;\">          0</td><td style=\"text-align: right;\">           0</td><td style=\"text-align: right;\">         0</td><td style=\"text-align: right;\">          0</td><td style=\"text-align: right;\">          1</td><td style=\"text-align: right;\">       1</td></tr>\n",
       "<tr><td style=\"text-align: right;\"> 0    </td><td style=\"text-align: right;\">             0</td><td style=\"text-align: right;\">             0</td><td style=\"text-align: right;\">             0</td><td style=\"text-align: right;\">             1</td><td style=\"text-align: right;\">             0</td><td style=\"text-align: right;\">             0</td><td style=\"text-align: right;\">             0</td><td style=\"text-align: right;\">             0</td><td style=\"text-align: right;\">             0</td><td style=\"text-align: right;\">             0</td><td style=\"text-align: right;\">             0</td><td style=\"text-align: right;\">             0</td><td style=\"text-align: right;\">             0</td><td style=\"text-align: right;\">             0</td><td style=\"text-align: right;\">             0</td><td style=\"text-align: right;\">             0</td><td style=\"text-align: right;\">           0</td><td style=\"text-align: right;\">    -0.166667</td><td style=\"text-align: right;\">          0  </td><td style=\"text-align: right;\">  -0.0499914</td><td style=\"text-align: right;\">   -0.165417 </td><td style=\"text-align: right;\">  0.0149349  </td><td style=\"text-align: right;\">   -0.600071</td><td style=\"text-align: right;\">   0.0133757 </td><td style=\"text-align: right;\">    0.071983 </td><td style=\"text-align: right;\">          1</td><td style=\"text-align: right;\">    0.333333</td><td style=\"text-align: right;\">         0.2</td><td style=\"text-align: right;\">          0</td><td style=\"text-align: right;\">   -0.166667</td><td style=\"text-align: right;\">         0  </td><td style=\"text-align: right;\"> 1.07265  </td><td style=\"text-align: right;\"> 0.408624 </td><td style=\"text-align: right;\"> 0.295291  </td><td style=\"text-align: right;\">           0</td><td style=\"text-align: right;\">    -0.166667</td><td style=\"text-align: right;\">          0  </td><td style=\"text-align: right;\"> 0       </td><td style=\"text-align: right;\">-0.166667 </td><td style=\"text-align: right;\"> 0        </td><td style=\"text-align: right;\">-0.0502687</td><td style=\"text-align: right;\"> -0.165403 </td><td style=\"text-align: right;\">  0.0150171</td><td style=\"text-align: right;\">   0.0464766</td><td style=\"text-align: right;\">    -0.165587</td><td style=\"text-align: right;\">  -0.0138928 </td><td style=\"text-align: right;\">   -1.31032 </td><td style=\"text-align: right;\">    0.691805 </td><td style=\"text-align: right;\">   -0.731778 </td><td style=\"text-align: right;\">          0</td><td style=\"text-align: right;\">          0</td><td style=\"text-align: right;\">           0</td><td style=\"text-align: right;\">         0</td><td style=\"text-align: right;\">          1</td><td style=\"text-align: right;\">          0</td><td style=\"text-align: right;\">       1</td></tr>\n",
       "<tr><td style=\"text-align: right;\"> 2.374</td><td style=\"text-align: right;\">             0</td><td style=\"text-align: right;\">             0</td><td style=\"text-align: right;\">             0</td><td style=\"text-align: right;\">             0</td><td style=\"text-align: right;\">             1</td><td style=\"text-align: right;\">             0</td><td style=\"text-align: right;\">             0</td><td style=\"text-align: right;\">             0</td><td style=\"text-align: right;\">             0</td><td style=\"text-align: right;\">             0</td><td style=\"text-align: right;\">             0</td><td style=\"text-align: right;\">             0</td><td style=\"text-align: right;\">             1</td><td style=\"text-align: right;\">             0</td><td style=\"text-align: right;\">             0</td><td style=\"text-align: right;\">             0</td><td style=\"text-align: right;\">           1</td><td style=\"text-align: right;\">     0.333333</td><td style=\"text-align: right;\">          0.2</td><td style=\"text-align: right;\">   0.648443 </td><td style=\"text-align: right;\">    0.0435724</td><td style=\"text-align: right;\"> -0.0582049  </td><td style=\"text-align: right;\">    0.448247</td><td style=\"text-align: right;\">  -0.066204  </td><td style=\"text-align: right;\">   -0.089442 </td><td style=\"text-align: right;\">          2</td><td style=\"text-align: right;\">    1.83333 </td><td style=\"text-align: right;\">         3.4</td><td style=\"text-align: right;\">         10</td><td style=\"text-align: right;\">   49.8333  </td><td style=\"text-align: right;\">       497  </td><td style=\"text-align: right;\">-0.907004 </td><td style=\"text-align: right;\"> 0.244661 </td><td style=\"text-align: right;\">-0.100975  </td><td style=\"text-align: right;\">           2</td><td style=\"text-align: right;\">     1.83333 </td><td style=\"text-align: right;\">          3.4</td><td style=\"text-align: right;\"> 0       </td><td style=\"text-align: right;\">-0.166667 </td><td style=\"text-align: right;\"> 0        </td><td style=\"text-align: right;\"> 0.61392  </td><td style=\"text-align: right;\">  0.0217821</td><td style=\"text-align: right;\"> -0.0684835</td><td style=\"text-align: right;\">   1.49289  </td><td style=\"text-align: right;\">     0.947696</td><td style=\"text-align: right;\">   1.21575   </td><td style=\"text-align: right;\">   -0.181993</td><td style=\"text-align: right;\">   -0.150106 </td><td style=\"text-align: right;\">    0.051584 </td><td style=\"text-align: right;\">          1</td><td style=\"text-align: right;\">          1</td><td style=\"text-align: right;\">           1</td><td style=\"text-align: right;\">         1</td><td style=\"text-align: right;\">          1</td><td style=\"text-align: right;\">          0</td><td style=\"text-align: right;\">       1</td></tr>\n",
       "<tr><td style=\"text-align: right;\"> 0    </td><td style=\"text-align: right;\">             0</td><td style=\"text-align: right;\">             0</td><td style=\"text-align: right;\">             0</td><td style=\"text-align: right;\">             1</td><td style=\"text-align: right;\">             0</td><td style=\"text-align: right;\">             1</td><td style=\"text-align: right;\">             0</td><td style=\"text-align: right;\">             0</td><td style=\"text-align: right;\">             0</td><td style=\"text-align: right;\">             0</td><td style=\"text-align: right;\">             0</td><td style=\"text-align: right;\">             0</td><td style=\"text-align: right;\">             1</td><td style=\"text-align: right;\">             0</td><td style=\"text-align: right;\">             0</td><td style=\"text-align: right;\">             0</td><td style=\"text-align: right;\">           0</td><td style=\"text-align: right;\">    -0.166667</td><td style=\"text-align: right;\">          0  </td><td style=\"text-align: right;\">   0.0135026</td><td style=\"text-align: right;\">   -0.166576 </td><td style=\"text-align: right;\"> -0.00404956 </td><td style=\"text-align: right;\">   -0.2128  </td><td style=\"text-align: right;\">  -0.144025  </td><td style=\"text-align: right;\">    0.0590219</td><td style=\"text-align: right;\">          1</td><td style=\"text-align: right;\">    0.333333</td><td style=\"text-align: right;\">         0.2</td><td style=\"text-align: right;\">          0</td><td style=\"text-align: right;\">   -0.166667</td><td style=\"text-align: right;\">         0  </td><td style=\"text-align: right;\">-1.25635  </td><td style=\"text-align: right;\"> 0.622547 </td><td style=\"text-align: right;\">-0.614626  </td><td style=\"text-align: right;\">           0</td><td style=\"text-align: right;\">    -0.166667</td><td style=\"text-align: right;\">          0  </td><td style=\"text-align: right;\">-0.076495</td><td style=\"text-align: right;\">-0.163741 </td><td style=\"text-align: right;\"> 0.0227247</td><td style=\"text-align: right;\"> 0.409365 </td><td style=\"text-align: right;\"> -0.0828766</td><td style=\"text-align: right;\"> -0.0885089</td><td style=\"text-align: right;\">  -1.22462  </td><td style=\"text-align: right;\">     0.583182</td><td style=\"text-align: right;\">  -0.550894  </td><td style=\"text-align: right;\">   -1.31032 </td><td style=\"text-align: right;\">    0.691805 </td><td style=\"text-align: right;\">   -0.731778 </td><td style=\"text-align: right;\">          0</td><td style=\"text-align: right;\">          0</td><td style=\"text-align: right;\">           0</td><td style=\"text-align: right;\">         0</td><td style=\"text-align: right;\">          0</td><td style=\"text-align: right;\">          0</td><td style=\"text-align: right;\">       1</td></tr>\n",
       "<tr><td style=\"text-align: right;\"> 0    </td><td style=\"text-align: right;\">             0</td><td style=\"text-align: right;\">             0</td><td style=\"text-align: right;\">             1</td><td style=\"text-align: right;\">             0</td><td style=\"text-align: right;\">             0</td><td style=\"text-align: right;\">             0</td><td style=\"text-align: right;\">             0</td><td style=\"text-align: right;\">             0</td><td style=\"text-align: right;\">             1</td><td style=\"text-align: right;\">             0</td><td style=\"text-align: right;\">             0</td><td style=\"text-align: right;\">             0</td><td style=\"text-align: right;\">             0</td><td style=\"text-align: right;\">             0</td><td style=\"text-align: right;\">             1</td><td style=\"text-align: right;\">             0</td><td style=\"text-align: right;\">           0</td><td style=\"text-align: right;\">    -0.166667</td><td style=\"text-align: right;\">          0  </td><td style=\"text-align: right;\">  -1.19288  </td><td style=\"text-align: right;\">    0.544819 </td><td style=\"text-align: right;\"> -0.490855   </td><td style=\"text-align: right;\">    0.568282</td><td style=\"text-align: right;\">  -0.00519424</td><td style=\"text-align: right;\">   -0.0787228</td><td style=\"text-align: right;\">          1</td><td style=\"text-align: right;\">    0.333333</td><td style=\"text-align: right;\">         0.2</td><td style=\"text-align: right;\">          0</td><td style=\"text-align: right;\">   -0.166667</td><td style=\"text-align: right;\">         0  </td><td style=\"text-align: right;\"> 0.956201 </td><td style=\"text-align: right;\"> 0.290494 </td><td style=\"text-align: right;\"> 0.150277  </td><td style=\"text-align: right;\">           0</td><td style=\"text-align: right;\">    -0.166667</td><td style=\"text-align: right;\">          0  </td><td style=\"text-align: right;\"> 0.88294 </td><td style=\"text-align: right;\"> 0.223125 </td><td style=\"text-align: right;\"> 0.0792807</td><td style=\"text-align: right;\"> 0.486147 </td><td style=\"text-align: right;\"> -0.0484972</td><td style=\"text-align: right;\"> -0.0883964</td><td style=\"text-align: right;\">  -1.22462  </td><td style=\"text-align: right;\">     0.583182</td><td style=\"text-align: right;\">  -0.550894  </td><td style=\"text-align: right;\">    0.570226</td><td style=\"text-align: right;\">   -0.0040878</td><td style=\"text-align: right;\">   -0.0783611</td><td style=\"text-align: right;\">          0</td><td style=\"text-align: right;\">          0</td><td style=\"text-align: right;\">           0</td><td style=\"text-align: right;\">         0</td><td style=\"text-align: right;\">          0</td><td style=\"text-align: right;\">          0</td><td style=\"text-align: right;\">       1</td></tr>\n",
       "<tr><td style=\"text-align: right;\"> 0    </td><td style=\"text-align: right;\">             0</td><td style=\"text-align: right;\">             0</td><td style=\"text-align: right;\">             0</td><td style=\"text-align: right;\">             1</td><td style=\"text-align: right;\">             0</td><td style=\"text-align: right;\">             0</td><td style=\"text-align: right;\">             0</td><td style=\"text-align: right;\">             1</td><td style=\"text-align: right;\">             0</td><td style=\"text-align: right;\">             0</td><td style=\"text-align: right;\">             0</td><td style=\"text-align: right;\">             0</td><td style=\"text-align: right;\">             0</td><td style=\"text-align: right;\">             0</td><td style=\"text-align: right;\">             0</td><td style=\"text-align: right;\">             0</td><td style=\"text-align: right;\">           0</td><td style=\"text-align: right;\">    -0.166667</td><td style=\"text-align: right;\">          0  </td><td style=\"text-align: right;\">   0.902419 </td><td style=\"text-align: right;\">    0.240513 </td><td style=\"text-align: right;\">  0.0967211  </td><td style=\"text-align: right;\">   -1.20573 </td><td style=\"text-align: right;\">   0.560227  </td><td style=\"text-align: right;\">   -0.514719 </td><td style=\"text-align: right;\">          1</td><td style=\"text-align: right;\">    0.333333</td><td style=\"text-align: right;\">         0.2</td><td style=\"text-align: right;\">          3</td><td style=\"text-align: right;\">    4.33333 </td><td style=\"text-align: right;\">        12.6</td><td style=\"text-align: right;\"> 0.0245987</td><td style=\"text-align: right;\">-0.166364 </td><td style=\"text-align: right;\">-0.00737216</td><td style=\"text-align: right;\">           0</td><td style=\"text-align: right;\">    -0.166667</td><td style=\"text-align: right;\">          0  </td><td style=\"text-align: right;\">-2.47508 </td><td style=\"text-align: right;\"> 2.89635  </td><td style=\"text-align: right;\">-6.8387   </td><td style=\"text-align: right;\">-2.91111  </td><td style=\"text-align: right;\">  4.07061  </td><td style=\"text-align: right;\">-11.4619   </td><td style=\"text-align: right;\">  -0.354354 </td><td style=\"text-align: right;\">    -0.103883</td><td style=\"text-align: right;\">   0.0840587 </td><td style=\"text-align: right;\">   -0.558103</td><td style=\"text-align: right;\">   -0.0109274</td><td style=\"text-align: right;\">    0.0805123</td><td style=\"text-align: right;\">          0</td><td style=\"text-align: right;\">          0</td><td style=\"text-align: right;\">           0</td><td style=\"text-align: right;\">         0</td><td style=\"text-align: right;\">          1</td><td style=\"text-align: right;\">          0</td><td style=\"text-align: right;\">       1</td></tr>\n",
       "<tr><td style=\"text-align: right;\">44.857</td><td style=\"text-align: right;\">             0</td><td style=\"text-align: right;\">             1</td><td style=\"text-align: right;\">             0</td><td style=\"text-align: right;\">             0</td><td style=\"text-align: right;\">             0</td><td style=\"text-align: right;\">             0</td><td style=\"text-align: right;\">             0</td><td style=\"text-align: right;\">             0</td><td style=\"text-align: right;\">             0</td><td style=\"text-align: right;\">             1</td><td style=\"text-align: right;\">             0</td><td style=\"text-align: right;\">             0</td><td style=\"text-align: right;\">             0</td><td style=\"text-align: right;\">             1</td><td style=\"text-align: right;\">             0</td><td style=\"text-align: right;\">             0</td><td style=\"text-align: right;\">           0</td><td style=\"text-align: right;\">    -0.166667</td><td style=\"text-align: right;\">          0  </td><td style=\"text-align: right;\">   0.711937 </td><td style=\"text-align: right;\">    0.0867603</td><td style=\"text-align: right;\"> -0.033157   </td><td style=\"text-align: right;\">    0.295874</td><td style=\"text-align: right;\">  -0.122896  </td><td style=\"text-align: right;\">   -0.0758115</td><td style=\"text-align: right;\">          2</td><td style=\"text-align: right;\">    1.83333 </td><td style=\"text-align: right;\">         3.4</td><td style=\"text-align: right;\">          4</td><td style=\"text-align: right;\">    7.83333 </td><td style=\"text-align: right;\">        30.8</td><td style=\"text-align: right;\"> 1.6549   </td><td style=\"text-align: right;\"> 1.20269  </td><td style=\"text-align: right;\"> 1.76967   </td><td style=\"text-align: right;\">           0</td><td style=\"text-align: right;\">    -0.166667</td><td style=\"text-align: right;\">          0  </td><td style=\"text-align: right;\"> 0.403223</td><td style=\"text-align: right;\">-0.0853724</td><td style=\"text-align: right;\">-0.0881871</td><td style=\"text-align: right;\"> 0.533996 </td><td style=\"text-align: right;\"> -0.0240907</td><td style=\"text-align: right;\"> -0.0840638</td><td style=\"text-align: right;\">  -1.22462  </td><td style=\"text-align: right;\">     0.583182</td><td style=\"text-align: right;\">  -0.550894  </td><td style=\"text-align: right;\">   -1.31032 </td><td style=\"text-align: right;\">    0.691805 </td><td style=\"text-align: right;\">   -0.731778 </td><td style=\"text-align: right;\">          0</td><td style=\"text-align: right;\">          1</td><td style=\"text-align: right;\">           0</td><td style=\"text-align: right;\">         1</td><td style=\"text-align: right;\">          0</td><td style=\"text-align: right;\">          0</td><td style=\"text-align: right;\">       1</td></tr>\n",
       "</tbody>\n",
       "</table>"
      ]
     },
     "metadata": {},
     "output_type": "display_data"
    },
    {
     "data": {
      "text/plain": []
     },
     "execution_count": 67,
     "metadata": {},
     "output_type": "execute_result"
    }
   ],
   "source": [
    "h2o_df.head()"
   ]
  },
  {
   "cell_type": "code",
   "execution_count": 68,
   "metadata": {},
   "outputs": [
    {
     "name": "stdout",
     "output_type": "stream",
     "text": [
      "glm Model Build progress: |███████████████████████████████████████████████| 100%\n"
     ]
    }
   ],
   "source": [
    "tweedie_fit = H2OGeneralizedLinearEstimator(family = \" tweedie\") \n",
    "tweedie_fit.train(y = \"y\", x = h2o_df.col_names[1:], training_frame = h2o_df)"
   ]
  },
  {
   "cell_type": "code",
   "execution_count": 69,
   "metadata": {},
   "outputs": [
    {
     "name": "stdout",
     "output_type": "stream",
     "text": [
      "Model Details\n",
      "=============\n",
      "H2OGeneralizedLinearEstimator :  Generalized Linear Modeling\n",
      "Model Key:  GLM_model_python_1566744124179_23\n",
      "\n",
      "\n",
      "GLM Model: summary\n"
     ]
    },
    {
     "data": {
      "text/html": [
       "<div>\n",
       "<style scoped>\n",
       "    .dataframe tbody tr th:only-of-type {\n",
       "        vertical-align: middle;\n",
       "    }\n",
       "\n",
       "    .dataframe tbody tr th {\n",
       "        vertical-align: top;\n",
       "    }\n",
       "\n",
       "    .dataframe thead th {\n",
       "        text-align: right;\n",
       "    }\n",
       "</style>\n",
       "<table border=\"1\" class=\"dataframe\">\n",
       "  <thead>\n",
       "    <tr style=\"text-align: right;\">\n",
       "      <th></th>\n",
       "      <th></th>\n",
       "      <th>family</th>\n",
       "      <th>link</th>\n",
       "      <th>regularization</th>\n",
       "      <th>number_of_predictors_total</th>\n",
       "      <th>number_of_active_predictors</th>\n",
       "      <th>number_of_iterations</th>\n",
       "      <th>training_frame</th>\n",
       "    </tr>\n",
       "  </thead>\n",
       "  <tbody>\n",
       "    <tr>\n",
       "      <th>0</th>\n",
       "      <td></td>\n",
       "      <td>tweedie</td>\n",
       "      <td>tweedie</td>\n",
       "      <td>Elastic Net (alpha = 0.5, lambda = 0.006887 )</td>\n",
       "      <td>56</td>\n",
       "      <td>48</td>\n",
       "      <td>2</td>\n",
       "      <td>Key_Frame__http___h2o_public_test_data_s3_amazonaws_com_smalldata_...</td>\n",
       "    </tr>\n",
       "  </tbody>\n",
       "</table>\n",
       "</div>"
      ],
      "text/plain": [
       "      family     link                                 regularization  \\\n",
       "0    tweedie  tweedie  Elastic Net (alpha = 0.5, lambda = 0.006887 )   \n",
       "\n",
       "   number_of_predictors_total number_of_active_predictors  \\\n",
       "0                          56                          48   \n",
       "\n",
       "   number_of_iterations  \\\n",
       "0                     2   \n",
       "\n",
       "                                                          training_frame  \n",
       "0  Key_Frame__http___h2o_public_test_data_s3_amazonaws_com_smalldata_...  "
      ]
     },
     "metadata": {},
     "output_type": "display_data"
    },
    {
     "name": "stdout",
     "output_type": "stream",
     "text": [
      "\n",
      "\n",
      "ModelMetricsRegressionGLM: glm\n",
      "** Reported on train data. **\n",
      "\n",
      "MSE: 59.23200234046069\n",
      "RMSE: 7.696232996762812\n",
      "MAE: 4.460125849871406\n",
      "RMSLE: NaN\n",
      "R^2: 0.2465099675289737\n",
      "Mean Residual Deviance: 59.23200234046069\n",
      "Null degrees of freedom: 2811\n",
      "Residual degrees of freedom: 2763\n",
      "Null deviance: 221051.88310872615\n",
      "Residual deviance: 166560.39058137545\n",
      "AIC: NaN\n",
      "\n",
      "Scoring History: "
     ]
    },
    {
     "data": {
      "text/html": [
       "<div>\n",
       "<style scoped>\n",
       "    .dataframe tbody tr th:only-of-type {\n",
       "        vertical-align: middle;\n",
       "    }\n",
       "\n",
       "    .dataframe tbody tr th {\n",
       "        vertical-align: top;\n",
       "    }\n",
       "\n",
       "    .dataframe thead th {\n",
       "        text-align: right;\n",
       "    }\n",
       "</style>\n",
       "<table border=\"1\" class=\"dataframe\">\n",
       "  <thead>\n",
       "    <tr style=\"text-align: right;\">\n",
       "      <th></th>\n",
       "      <th></th>\n",
       "      <th>timestamp</th>\n",
       "      <th>duration</th>\n",
       "      <th>iterations</th>\n",
       "      <th>negative_log_likelihood</th>\n",
       "      <th>objective</th>\n",
       "    </tr>\n",
       "  </thead>\n",
       "  <tbody>\n",
       "    <tr>\n",
       "      <th>0</th>\n",
       "      <td></td>\n",
       "      <td>2019-08-25 17:26:40</td>\n",
       "      <td>0.000 sec</td>\n",
       "      <td>0</td>\n",
       "      <td>-23776.546311</td>\n",
       "      <td>-8.455386</td>\n",
       "    </tr>\n",
       "    <tr>\n",
       "      <th>1</th>\n",
       "      <td></td>\n",
       "      <td>2019-08-25 17:26:40</td>\n",
       "      <td>0.031 sec</td>\n",
       "      <td>1</td>\n",
       "      <td>-51022.293080</td>\n",
       "      <td>-18.025383</td>\n",
       "    </tr>\n",
       "    <tr>\n",
       "      <th>2</th>\n",
       "      <td></td>\n",
       "      <td>2019-08-25 17:26:40</td>\n",
       "      <td>0.037 sec</td>\n",
       "      <td>2</td>\n",
       "      <td>-51022.292562</td>\n",
       "      <td>-18.025383</td>\n",
       "    </tr>\n",
       "  </tbody>\n",
       "</table>\n",
       "</div>"
      ],
      "text/plain": [
       "               timestamp    duration  iterations  negative_log_likelihood  \\\n",
       "0    2019-08-25 17:26:40   0.000 sec           0            -23776.546311   \n",
       "1    2019-08-25 17:26:40   0.031 sec           1            -51022.293080   \n",
       "2    2019-08-25 17:26:40   0.037 sec           2            -51022.292562   \n",
       "\n",
       "   objective  \n",
       "0  -8.455386  \n",
       "1 -18.025383  \n",
       "2 -18.025383  "
      ]
     },
     "metadata": {},
     "output_type": "display_data"
    },
    {
     "name": "stdout",
     "output_type": "stream",
     "text": [
      "\n"
     ]
    }
   ],
   "source": [
    "print(tweedie_fit)"
   ]
  }
 ],
 "metadata": {
  "kernelspec": {
   "display_name": "Python 3",
   "language": "python",
   "name": "python3"
  },
  "language_info": {
   "codemirror_mode": {
    "name": "ipython",
    "version": 3
   },
   "file_extension": ".py",
   "mimetype": "text/x-python",
   "name": "python",
   "nbconvert_exporter": "python",
   "pygments_lexer": "ipython3",
   "version": "3.6.5"
  }
 },
 "nbformat": 4,
 "nbformat_minor": 2
}
